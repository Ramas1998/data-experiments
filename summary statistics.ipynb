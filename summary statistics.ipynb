{
 "cells": [
  {
   "cell_type": "code",
   "execution_count": 2,
   "id": "558d874c",
   "metadata": {},
   "outputs": [
    {
     "ename": "TypeError",
     "evalue": "name must be an instance of str",
     "output_type": "error",
     "traceback": [
      "\u001b[1;31m---------------------------------------------------------------------------\u001b[0m",
      "\u001b[1;31mTypeError\u001b[0m                                 Traceback (most recent call last)",
      "\u001b[1;32m<ipython-input-2-79aa4d01db31>\u001b[0m in \u001b[0;36m<module>\u001b[1;34m\u001b[0m\n\u001b[0;32m     10\u001b[0m \u001b[0mclient\u001b[0m \u001b[1;33m=\u001b[0m \u001b[0mMongoClient\u001b[0m\u001b[1;33m(\u001b[0m\u001b[1;34m'localhost:27017'\u001b[0m\u001b[1;33m)\u001b[0m\u001b[1;33m\u001b[0m\u001b[1;33m\u001b[0m\u001b[0m\n\u001b[0;32m     11\u001b[0m \u001b[0mdb\u001b[0m \u001b[1;33m=\u001b[0m \u001b[0mclient\u001b[0m\u001b[1;33m[\u001b[0m\u001b[0mDB_NAME\u001b[0m\u001b[1;33m]\u001b[0m\u001b[1;33m\u001b[0m\u001b[1;33m\u001b[0m\u001b[0m\n\u001b[1;32m---> 12\u001b[1;33m \u001b[0mcoll\u001b[0m \u001b[1;33m=\u001b[0m \u001b[0mdb\u001b[0m\u001b[1;33m[\u001b[0m\u001b[0mDB_COLLECTION\u001b[0m\u001b[1;33m]\u001b[0m\u001b[1;33m\u001b[0m\u001b[1;33m\u001b[0m\u001b[0m\n\u001b[0m\u001b[0;32m     13\u001b[0m \u001b[1;33m\u001b[0m\u001b[0m\n\u001b[0;32m     14\u001b[0m \u001b[0mprint\u001b[0m\u001b[1;33m(\u001b[0m\u001b[0mcoll\u001b[0m\u001b[1;33m.\u001b[0m\u001b[0mcount_documents\u001b[0m\u001b[1;33m(\u001b[0m\u001b[1;33m{\u001b[0m\u001b[1;33m}\u001b[0m\u001b[1;33m)\u001b[0m\u001b[1;33m)\u001b[0m\u001b[1;33m\u001b[0m\u001b[1;33m\u001b[0m\u001b[0m\n",
      "\u001b[1;32m~\\anaconda3\\lib\\site-packages\\pymongo\\database.py\u001b[0m in \u001b[0;36m__getitem__\u001b[1;34m(self, name)\u001b[0m\n\u001b[0;32m    302\u001b[0m           \u001b[1;33m-\u001b[0m\u001b[0;31m \u001b[0m\u001b[0;31m`\u001b[0m\u001b[0mname\u001b[0m\u001b[0;31m`\u001b[0m\u001b[1;33m:\u001b[0m \u001b[0mthe\u001b[0m \u001b[0mname\u001b[0m \u001b[0mof\u001b[0m \u001b[0mthe\u001b[0m \u001b[0mcollection\u001b[0m \u001b[0mto\u001b[0m \u001b[0mget\u001b[0m\u001b[1;33m\u001b[0m\u001b[1;33m\u001b[0m\u001b[0m\n\u001b[0;32m    303\u001b[0m         \"\"\"\n\u001b[1;32m--> 304\u001b[1;33m         \u001b[1;32mreturn\u001b[0m \u001b[0mCollection\u001b[0m\u001b[1;33m(\u001b[0m\u001b[0mself\u001b[0m\u001b[1;33m,\u001b[0m \u001b[0mname\u001b[0m\u001b[1;33m)\u001b[0m\u001b[1;33m\u001b[0m\u001b[1;33m\u001b[0m\u001b[0m\n\u001b[0m\u001b[0;32m    305\u001b[0m \u001b[1;33m\u001b[0m\u001b[0m\n\u001b[0;32m    306\u001b[0m     def get_collection(self, name, codec_options=None, read_preference=None,\n",
      "\u001b[1;32m~\\anaconda3\\lib\\site-packages\\pymongo\\collection.py\u001b[0m in \u001b[0;36m__init__\u001b[1;34m(self, database, name, create, codec_options, read_preference, write_concern, read_concern, session, **kwargs)\u001b[0m\n\u001b[0;32m    164\u001b[0m \u001b[1;33m\u001b[0m\u001b[0m\n\u001b[0;32m    165\u001b[0m         \u001b[1;32mif\u001b[0m \u001b[1;32mnot\u001b[0m \u001b[0misinstance\u001b[0m\u001b[1;33m(\u001b[0m\u001b[0mname\u001b[0m\u001b[1;33m,\u001b[0m \u001b[0mstring_type\u001b[0m\u001b[1;33m)\u001b[0m\u001b[1;33m:\u001b[0m\u001b[1;33m\u001b[0m\u001b[1;33m\u001b[0m\u001b[0m\n\u001b[1;32m--> 166\u001b[1;33m             raise TypeError(\"name must be an instance \"\n\u001b[0m\u001b[0;32m    167\u001b[0m                             \"of %s\" % (string_type.__name__,))\n\u001b[0;32m    168\u001b[0m \u001b[1;33m\u001b[0m\u001b[0m\n",
      "\u001b[1;31mTypeError\u001b[0m: name must be an instance of str"
     ]
    }
   ],
   "source": [
    "import os\n",
    "\n",
    "from dotenv import load_dotenv\n",
    "load_dotenv()\n",
    "\n",
    "DB_NAME = os.environ.get(\"DB_NAME\")\n",
    "DB_COLLECTION = os.environ.get(\"DB_COLLECTION\")\n",
    "\n",
    "from pymongo import MongoClient\n",
    "client = MongoClient('localhost:27017')\n",
    "db = client[DB_NAME]\n",
    "coll = db[DB_COLLECTION]\n",
    "\n",
    "print(coll.count_documents({}))"
   ]
  },
  {
   "cell_type": "code",
   "execution_count": 2,
   "id": "d025c9f1",
   "metadata": {},
   "outputs": [],
   "source": [
    "import pandas as pd\n",
    "df = pd.DataFrame(list(coll.find()))"
   ]
  },
  {
   "cell_type": "code",
   "execution_count": null,
   "id": "ad782cb1",
   "metadata": {},
   "outputs": [],
   "source": []
  },
  {
   "cell_type": "code",
   "execution_count": 3,
   "id": "2c6f7410",
   "metadata": {},
   "outputs": [],
   "source": [
    "df = df.drop(['english_headline', 'date_accessed_UTC', 'date_updated_UTC', 's3URL', 'post_category', 'claims_review'], axis = 1)"
   ]
  },
  {
   "cell_type": "code",
   "execution_count": 4,
   "id": "9699ba40",
   "metadata": {},
   "outputs": [],
   "source": [
    "df['date'] =  pd.to_datetime(df['date_accessed'])"
   ]
  },
  {
   "cell_type": "code",
   "execution_count": 5,
   "id": "946c9edf",
   "metadata": {},
   "outputs": [],
   "source": [
    "filtered_df = df.loc[(df['date'] >= '2020-09-19')& (df['date'] < '2020-09-26')]"
   ]
  },
  {
   "cell_type": "code",
   "execution_count": 6,
   "id": "5bd1a5d9",
   "metadata": {},
   "outputs": [
    {
     "name": "stderr",
     "output_type": "stream",
     "text": [
      "C:\\Users\\user\\anaconda3\\lib\\site-packages\\pandas\\core\\frame.py:3607: SettingWithCopyWarning: \n",
      "A value is trying to be set on a copy of a slice from a DataFrame.\n",
      "Try using .loc[row_indexer,col_indexer] = value instead\n",
      "\n",
      "See the caveats in the documentation: https://pandas.pydata.org/pandas-docs/stable/user_guide/indexing.html#returning-a-view-versus-a-copy\n",
      "  self._set_item(key, value)\n"
     ]
    }
   ],
   "source": [
    "filtered_df['factcheck_site'] = filtered_df['domain']"
   ]
  },
  {
   "cell_type": "code",
   "execution_count": 7,
   "id": "37f4e951",
   "metadata": {},
   "outputs": [
    {
     "data": {
      "text/plain": [
       "boomlive      40\n",
       "newsmobile    30\n",
       "altnews       22\n",
       "factly        19\n",
       "indiatoday     9\n",
       "Name: factcheck_site, dtype: int64"
      ]
     },
     "execution_count": 7,
     "metadata": {},
     "output_type": "execute_result"
    }
   ],
   "source": [
    "filtered_df.factcheck_site = filtered_df.factcheck_site.apply(lambda x: 'boomlive' if 'boomlive' in x else x)\n",
    "filtered_df.factcheck_site = filtered_df.factcheck_site.apply(lambda x: 'altnews' if 'altnews' in x else x)\n",
    "filtered_df.factcheck_site = filtered_df.factcheck_site.apply(lambda x: 'factly' if 'factly' in x else x)\n",
    "filtered_df.factcheck_site = filtered_df.factcheck_site.apply(lambda x: 'newsmobile' if 'newsmobile' in x else x)\n",
    "filtered_df.factcheck_site = filtered_df.factcheck_site.apply(lambda x: 'indiatoday' if 'indiatoday' in x else x)\n",
    "filtered_df['factcheck_site'].value_counts()"
   ]
  },
  {
   "cell_type": "code",
   "execution_count": 8,
   "id": "ce80db60",
   "metadata": {},
   "outputs": [
    {
     "name": "stderr",
     "output_type": "stream",
     "text": [
      "C:\\Users\\user\\anaconda3\\lib\\site-packages\\pandas\\util\\_decorators.py:311: SettingWithCopyWarning: \n",
      "A value is trying to be set on a copy of a slice from a DataFrame\n",
      "\n",
      "See the caveats in the documentation: https://pandas.pydata.org/pandas-docs/stable/user_guide/indexing.html#returning-a-view-versus-a-copy\n",
      "  return func(*args, **kwargs)\n"
     ]
    }
   ],
   "source": [
    "filtered_df.drop_duplicates(subset = \"postURL\", inplace = True)"
   ]
  },
  {
   "cell_type": "code",
   "execution_count": 17,
   "id": "7358f3a9",
   "metadata": {},
   "outputs": [],
   "source": [
    "filtered_df.to_csv(r'C:\\Users\\user\\Desktop\\factcheck sites database .csv', index=False)"
   ]
  },
  {
   "cell_type": "code",
   "execution_count": null,
   "id": "672c8fa1",
   "metadata": {},
   "outputs": [],
   "source": []
  },
  {
   "cell_type": "markdown",
   "id": "55faf8bc",
   "metadata": {},
   "source": [
    "Summary Statistics"
   ]
  },
  {
   "cell_type": "code",
   "execution_count": 18,
   "id": "3981bf91",
   "metadata": {},
   "outputs": [
    {
     "data": {
      "text/plain": [
       "120"
      ]
     },
     "execution_count": 18,
     "metadata": {},
     "output_type": "execute_result"
    }
   ],
   "source": [
    "# Count of articles\n",
    "len(pd.unique(filtered_df['postURL']))"
   ]
  },
  {
   "cell_type": "code",
   "execution_count": 19,
   "id": "b5955194",
   "metadata": {},
   "outputs": [
    {
     "data": {
      "text/html": [
       "<div>\n",
       "<style scoped>\n",
       "    .dataframe tbody tr th:only-of-type {\n",
       "        vertical-align: middle;\n",
       "    }\n",
       "\n",
       "    .dataframe tbody tr th {\n",
       "        vertical-align: top;\n",
       "    }\n",
       "\n",
       "    .dataframe thead th {\n",
       "        text-align: right;\n",
       "    }\n",
       "</style>\n",
       "<table border=\"1\" class=\"dataframe\">\n",
       "  <thead>\n",
       "    <tr style=\"text-align: right;\">\n",
       "      <th></th>\n",
       "      <th>date</th>\n",
       "      <th>counts</th>\n",
       "    </tr>\n",
       "  </thead>\n",
       "  <tbody>\n",
       "    <tr>\n",
       "      <th>0</th>\n",
       "      <td>2020-09-21</td>\n",
       "      <td>120</td>\n",
       "    </tr>\n",
       "  </tbody>\n",
       "</table>\n",
       "</div>"
      ],
      "text/plain": [
       "        date  counts\n",
       "0 2020-09-21     120"
      ]
     },
     "execution_count": 19,
     "metadata": {},
     "output_type": "execute_result"
    }
   ],
   "source": [
    "# Daywise count of articles\n",
    "df = filtered_df.groupby(['date']).size().reset_index(name='counts')"
   ]
  },
  {
   "cell_type": "code",
   "execution_count": null,
   "id": "9cc0cae4",
   "metadata": {},
   "outputs": [],
   "source": [
    "fig = px.line(df, x=\"date\", y=\"counts\")\n",
    "fig.show()"
   ]
  },
  {
   "cell_type": "code",
   "execution_count": 20,
   "id": "2405f2b4",
   "metadata": {},
   "outputs": [
    {
     "data": {
      "text/html": [
       "<div>\n",
       "<style scoped>\n",
       "    .dataframe tbody tr th:only-of-type {\n",
       "        vertical-align: middle;\n",
       "    }\n",
       "\n",
       "    .dataframe tbody tr th {\n",
       "        vertical-align: top;\n",
       "    }\n",
       "\n",
       "    .dataframe thead th {\n",
       "        text-align: right;\n",
       "    }\n",
       "</style>\n",
       "<table border=\"1\" class=\"dataframe\">\n",
       "  <thead>\n",
       "    <tr style=\"text-align: right;\">\n",
       "      <th></th>\n",
       "      <th>factcheck_site</th>\n",
       "      <th>counts</th>\n",
       "    </tr>\n",
       "  </thead>\n",
       "  <tbody>\n",
       "    <tr>\n",
       "      <th>0</th>\n",
       "      <td>altnews</td>\n",
       "      <td>22</td>\n",
       "    </tr>\n",
       "    <tr>\n",
       "      <th>1</th>\n",
       "      <td>boomlive</td>\n",
       "      <td>40</td>\n",
       "    </tr>\n",
       "    <tr>\n",
       "      <th>2</th>\n",
       "      <td>factly</td>\n",
       "      <td>19</td>\n",
       "    </tr>\n",
       "    <tr>\n",
       "      <th>3</th>\n",
       "      <td>indiatoday</td>\n",
       "      <td>9</td>\n",
       "    </tr>\n",
       "    <tr>\n",
       "      <th>4</th>\n",
       "      <td>newsmobile</td>\n",
       "      <td>30</td>\n",
       "    </tr>\n",
       "  </tbody>\n",
       "</table>\n",
       "</div>"
      ],
      "text/plain": [
       "  factcheck_site  counts\n",
       "0        altnews      22\n",
       "1       boomlive      40\n",
       "2         factly      19\n",
       "3     indiatoday       9\n",
       "4     newsmobile      30"
      ]
     },
     "execution_count": 20,
     "metadata": {},
     "output_type": "execute_result"
    }
   ],
   "source": [
    "# domain wise count of articles\n",
    "filtered_df.groupby(['factcheck_site']).size().reset_index(name='counts')"
   ]
  },
  {
   "cell_type": "code",
   "execution_count": 9,
   "id": "a4714184",
   "metadata": {},
   "outputs": [],
   "source": [
    "filtered_df = filtered_df.explode('docs').reset_index(drop=True)\n",
    "filtered_df['media_type'] = filtered_df['docs'].apply(lambda x: x.get('mediaType'))"
   ]
  },
  {
   "cell_type": "code",
   "execution_count": 22,
   "id": "990a7086",
   "metadata": {},
   "outputs": [
    {
     "data": {
      "text/plain": [
       "image    171\n",
       "text     120\n",
       "tweet     49\n",
       "video     33\n",
       "Name: media_type, dtype: int64"
      ]
     },
     "execution_count": 22,
     "metadata": {},
     "output_type": "execute_result"
    }
   ],
   "source": [
    "# count of media types and social media posts -\n",
    "filtered_df['media_type'].value_counts()"
   ]
  },
  {
   "cell_type": "code",
   "execution_count": 23,
   "id": "4b4191cc",
   "metadata": {},
   "outputs": [
    {
     "data": {
      "text/plain": [
       "date        media_type\n",
       "2020-09-21  image         171\n",
       "            text          120\n",
       "            tweet          49\n",
       "            video          33\n",
       "Name: media_type, dtype: int64"
      ]
     },
     "execution_count": 23,
     "metadata": {},
     "output_type": "execute_result"
    }
   ],
   "source": [
    "# daywise count of media types and social media posts\n",
    "filtered_df.groupby('date')['media_type'].value_counts()"
   ]
  },
  {
   "cell_type": "code",
   "execution_count": 24,
   "id": "d4d60521",
   "metadata": {},
   "outputs": [
    {
     "data": {
      "text/plain": [
       "factcheck_site  media_type\n",
       "altnews         image         60\n",
       "                text          22\n",
       "                video          8\n",
       "boomlive        image         53\n",
       "                tweet         41\n",
       "                text          40\n",
       "                video          3\n",
       "factly          image         41\n",
       "                text          19\n",
       "                tweet          5\n",
       "indiatoday      image         17\n",
       "                text           9\n",
       "                video          4\n",
       "                tweet          3\n",
       "newsmobile      text          30\n",
       "                video         18\n",
       "Name: media_type, dtype: int64"
      ]
     },
     "execution_count": 24,
     "metadata": {},
     "output_type": "execute_result"
    }
   ],
   "source": [
    "#domain wise count of media types and social media posts\n",
    "filtered_df.groupby('factcheck_site')['media_type'].value_counts()"
   ]
  },
  {
   "cell_type": "code",
   "execution_count": 29,
   "id": "d2d940a8",
   "metadata": {},
   "outputs": [
    {
     "name": "stdout",
     "output_type": "stream",
     "text": [
      "number of articles with tweets: 32\n",
      "percentage of articles with tweets: 26.666666666666668 %\n",
      "number of articles with fb posts: 0\n",
      "percentage of articles with fb posts: 0.0 %\n"
     ]
    }
   ],
   "source": [
    "#Number and percentage of articles with tweets/fb posts\n",
    "a = len(pd.unique(filtered_df[filtered_df['media_type']==\"tweet\"]['postURL']))\n",
    "b = len(pd.unique(filtered_df[filtered_df['media_type']==\"fbpost\"]['postURL']))\n",
    "c = len(pd.unique(filtered_df['postURL']))\n",
    "print(\"number of articles with tweets:\",a)\n",
    "print(\"percentage of articles with tweets:\",(a/c)*100,\"%\")\n",
    "print(\"number of articles with fb posts:\",b)\n",
    "print(\"percentage of articles with fb posts:\",(b/c)*100,\"%\")"
   ]
  },
  {
   "cell_type": "code",
   "execution_count": 33,
   "id": "179ff315",
   "metadata": {},
   "outputs": [
    {
     "name": "stdout",
     "output_type": "stream",
     "text": [
      "2\n"
     ]
    }
   ],
   "source": [
    "#Average number of images per article \n",
    "a = filtered_df[filtered_df['media_type']==\"image\"].groupby(['postURL']).size().reset_index(name='counts')['counts'].mean()\n",
    "print(round(a))"
   ]
  },
  {
   "cell_type": "code",
   "execution_count": null,
   "id": "cd1e0bd4",
   "metadata": {},
   "outputs": [],
   "source": []
  },
  {
   "cell_type": "code",
   "execution_count": null,
   "id": "3a643b8d",
   "metadata": {},
   "outputs": [],
   "source": []
  }
 ],
 "metadata": {
  "kernelspec": {
   "display_name": "Python 3",
   "language": "python",
   "name": "python3"
  },
  "language_info": {
   "codemirror_mode": {
    "name": "ipython",
    "version": 3
   },
   "file_extension": ".py",
   "mimetype": "text/x-python",
   "name": "python",
   "nbconvert_exporter": "python",
   "pygments_lexer": "ipython3",
   "version": "3.8.8"
  }
 },
 "nbformat": 4,
 "nbformat_minor": 5
}
