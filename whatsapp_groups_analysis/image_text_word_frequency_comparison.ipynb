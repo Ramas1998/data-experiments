{
 "cells": [
  {
   "cell_type": "code",
   "execution_count": 9,
   "metadata": {},
   "outputs": [],
   "source": [
    "import json\n",
    "import pandas as pd\n",
    "import re\n",
    "from googletrans import Translator\n",
    "from google_trans_new import google_translator  \n",
    "import time\n",
    "from time import sleep\n",
    "from random import uniform\n",
    "import datetime\n",
    "from datetime import date, timezone\n",
    "from wordcloud import WordCloud, STOPWORDS, ImageColorGenerator\n",
    "import matplotlib.pyplot as plt\n",
    "from nltk.corpus import stopwords\n",
    "import nltk\n",
    "from gensim.utils import simple_preprocess\n",
    "import spacy\n",
    "import gensim.corpora as corpora\n",
    "import matplotlib.pyplot as plt\n",
    "import numpy as np"
   ]
  },
  {
   "cell_type": "markdown",
   "metadata": {},
   "source": [
    "# 1. Image Text Analysis"
   ]
  },
  {
   "cell_type": "markdown",
   "metadata": {},
   "source": [
    "## 1.1 Prepare Data"
   ]
  },
  {
   "cell_type": "code",
   "execution_count": 10,
   "metadata": {},
   "outputs": [],
   "source": [
    "# Defining a function to remove accented characters in English text\n",
    "def remove_accents(sentence):\n",
    "    return \", \".join(simple_preprocess(str(sentence), deacc=True, max_len=100))\n",
    "\n",
    "# Detecting non-English text using regex\n",
    "def detect_lang(text):\n",
    "    pat = re.compile(\"[^\\x00-\\x7F]\") # matches non-English characters\n",
    "    if pat.search(text):\n",
    "        return 0\n",
    "    else:\n",
    "        return 1"
   ]
  },
  {
   "cell_type": "code",
   "execution_count": 11,
   "metadata": {},
   "outputs": [],
   "source": [
    "## text in image\n",
    "with open('image_text.json') as f:\n",
    "  data_dict = json.load(f)\n",
    "\n",
    "df = pd.DataFrame.from_dict(data_dict)\n",
    "df = df.T\n",
    "df = df.reset_index()\n",
    "clean_df = df\n",
    "\n",
    "clean_df[\"is_english\"] = df[\"text\"].map(detect_lang)\n",
    "unique_df = clean_df.drop_duplicates(subset = [\"text\"])\n",
    "english = unique_df[(unique_df['is_english'] ==1)]\n",
    "english[\"english_text\"] =english[\"text\"]"
   ]
  },
  {
   "cell_type": "code",
   "execution_count": 12,
   "metadata": {},
   "outputs": [
    {
     "data": {
      "text/plain": [
       "(2415, 3)"
      ]
     },
     "execution_count": 12,
     "metadata": {},
     "output_type": "execute_result"
    }
   ],
   "source": [
    "clean_df.shape"
   ]
  },
  {
   "cell_type": "code",
   "execution_count": 13,
   "metadata": {},
   "outputs": [],
   "source": [
    "non_english = pd.read_csv('non_english_jun2021.csv')"
   ]
  },
  {
   "cell_type": "code",
   "execution_count": 14,
   "metadata": {},
   "outputs": [],
   "source": [
    "all_english = pd.concat([english, non_english])"
   ]
  },
  {
   "cell_type": "markdown",
   "metadata": {},
   "source": [
    "## 1.2. Tokenize Data"
   ]
  },
  {
   "cell_type": "code",
   "execution_count": 7,
   "metadata": {},
   "outputs": [],
   "source": [
    "#all_english.iloc[1]['english_text']"
   ]
  },
  {
   "cell_type": "code",
   "execution_count": 92,
   "metadata": {},
   "outputs": [],
   "source": [
    "# from nltk.tokenize import word_tokenize\n",
    "# all_text = all_english[\"english_text\"].str.cat(sep='\\n')\n",
    "# tokenized_word= word_tokenize(all_text)\n",
    "# print(tokenized_word)"
   ]
  },
  {
   "cell_type": "code",
   "execution_count": 133,
   "metadata": {
    "scrolled": true
   },
   "outputs": [],
   "source": [
    "# from nltk.probability import FreqDist\n",
    "# fdist = FreqDist(tokenized_word)\n",
    "# print(fdist)"
   ]
  },
  {
   "cell_type": "code",
   "execution_count": 134,
   "metadata": {},
   "outputs": [],
   "source": [
    "# # Frequency Distribution Plot\n",
    "# import matplotlib.pyplot as plt\n",
    "# fdist.plot(30,cumulative=False)\n",
    "# plt.show()"
   ]
  },
  {
   "cell_type": "code",
   "execution_count": 15,
   "metadata": {},
   "outputs": [],
   "source": [
    "# Creating stop words list\n",
    "stop_words = stopwords.words(\"english\")\n",
    "\n",
    "# Adding domain words \n",
    "stop_words.extend([\"will\",\"yes\",\"#\",\".\",\"_\",\"%\",\"|\",\"r\",\"sr\",\"also\",\"bamboo\",\"b\"])"
   ]
  },
  {
   "cell_type": "code",
   "execution_count": 7,
   "metadata": {},
   "outputs": [],
   "source": [
    "# nlp = spacy.load('en_core_web_sm')\n",
    "# doc = nlp(\"Little update Any blood group will do as we would be\")\n",
    "# for token in doc:\n",
    "#     print(token.text, token.lemma_, token.pos_, token.tag_, token.dep_,\n",
    "#         token.shape_, token.is_alpha, token.is_stop)"
   ]
  },
  {
   "cell_type": "code",
   "execution_count": 16,
   "metadata": {},
   "outputs": [],
   "source": [
    "nlp = spacy.load('en_core_web_sm')\n",
    "allowed_posttags=[\"NOUN\", \"PROPN\", \"VERB\", \"ADJ\", \"ADV\"]\n",
    "lemmatized_tokens = []\n",
    "for text in all_english[\"english_text\"]:\n",
    "    #print(text)\n",
    "    doc = nlp(text)\n",
    "    for token in doc:\n",
    "        if(token.pos_ in allowed_posttags):\n",
    "            lemmatized_tokens.append(token.lemma_)\n",
    "        #print(token.text, token.lemma_, token.pos_, token.tag_, token.dep_,\n",
    "        #    token.shape_, token.is_alpha, token.is_stop)"
   ]
  },
  {
   "cell_type": "code",
   "execution_count": 17,
   "metadata": {},
   "outputs": [],
   "source": [
    "lemmatized_tokens_lower = map(str.lower, lemmatized_tokens)"
   ]
  },
  {
   "cell_type": "code",
   "execution_count": 18,
   "metadata": {},
   "outputs": [],
   "source": [
    "lemmatized_tokens_stopped = [token for token in lemmatized_tokens_lower if token not in stop_words]"
   ]
  },
  {
   "cell_type": "code",
   "execution_count": 19,
   "metadata": {},
   "outputs": [
    {
     "name": "stdout",
     "output_type": "stream",
     "text": [
      "<FreqDist with 25120 samples and 133357 outcomes>\n"
     ]
    }
   ],
   "source": [
    "from nltk.probability import FreqDist\n",
    "fdist = FreqDist(lemmatized_tokens_stopped)\n",
    "print(fdist)"
   ]
  },
  {
   "cell_type": "code",
   "execution_count": 20,
   "metadata": {},
   "outputs": [],
   "source": [
    "top_fifty = fdist.most_common(50)"
   ]
  },
  {
   "cell_type": "code",
   "execution_count": 21,
   "metadata": {},
   "outputs": [
    {
     "name": "stdout",
     "output_type": "stream",
     "text": [
      "[('hospital', 1350), ('blood', 1205), ('available', 1130), ('patient', 1049), ('oxygen', 937), ('name', 740), ('covid', 709), ('report', 670), ('pm', 584), ('contact', 539), ('day', 520), ('medical', 486), ('number', 474), ('may', 474), ('plasma', 471), ('india', 465), ('district', 456), ('date', 452), ('help', 440), ('time', 439), ('donor', 428), ('health', 412), ('delhi', 406), ('covid-19', 383), ('group', 374), ('bed', 374), ('nashik', 373), ('need', 354), ('home', 348), ('center', 339), ('state', 330), ('give', 323), ('dr.', 317), ('free', 315), ('use', 314), ('age', 307), ('take', 305), ('e', 291), ('new', 279), ('government', 277), ('injection', 276), ('aligarh', 268), ('mg', 268), ('call', 266), ('corona', 260), ('make', 258), ('road', 244), ('hyderabad', 243), ('bank', 241), ('kumar', 240)]\n"
     ]
    }
   ],
   "source": [
    "print(top_fifty)"
   ]
  },
  {
   "cell_type": "code",
   "execution_count": 22,
   "metadata": {},
   "outputs": [
    {
     "data": {
      "text/plain": [
       "1350"
      ]
     },
     "execution_count": 22,
     "metadata": {},
     "output_type": "execute_result"
    }
   ],
   "source": [
    "fdist.get('hospital')"
   ]
  },
  {
   "cell_type": "code",
   "execution_count": 23,
   "metadata": {},
   "outputs": [
    {
     "data": {
      "image/png": "[encoded data removed]",
      "text/plain": [
       "<Figure size 432x288 with 1 Axes>"
      ]
     },
     "metadata": {
      "needs_background": "light"
     },
     "output_type": "display_data"
    }
   ],
   "source": [
    "# Frequency Distribution Plot\n",
    "import matplotlib.pyplot as plt\n",
    "fdist.plot(30,cumulative=False)\n",
    "plt.show()"
   ]
  },
  {
   "cell_type": "code",
   "execution_count": 24,
   "metadata": {},
   "outputs": [],
   "source": [
    "image_word_freq = pd.DataFrame(fdist.items(), columns=['word', 'frequency'])\n",
    "image_total_words = sum(image_word_freq['frequency']) #len(WA_word_freq)\n",
    "image_word_freq['img_proportion'] = image_word_freq['frequency']/image_total_words"
   ]
  },
  {
   "cell_type": "code",
   "execution_count": 25,
   "metadata": {},
   "outputs": [
    {
     "data": {
      "text/html": [
       "<div>\n",
       "<style scoped>\n",
       "    .dataframe tbody tr th:only-of-type {\n",
       "        vertical-align: middle;\n",
       "    }\n",
       "\n",
       "    .dataframe tbody tr th {\n",
       "        vertical-align: top;\n",
       "    }\n",
       "\n",
       "    .dataframe thead th {\n",
       "        text-align: right;\n",
       "    }\n",
       "</style>\n",
       "<table border=\"1\" class=\"dataframe\">\n",
       "  <thead>\n",
       "    <tr style=\"text-align: right;\">\n",
       "      <th></th>\n",
       "      <th>word</th>\n",
       "      <th>frequency</th>\n",
       "      <th>img_proportion</th>\n",
       "    </tr>\n",
       "  </thead>\n",
       "  <tbody>\n",
       "    <tr>\n",
       "      <th>0</th>\n",
       "      <td>little</td>\n",
       "      <td>18</td>\n",
       "      <td>0.000135</td>\n",
       "    </tr>\n",
       "    <tr>\n",
       "      <th>1</th>\n",
       "      <td>update</td>\n",
       "      <td>53</td>\n",
       "      <td>0.000397</td>\n",
       "    </tr>\n",
       "    <tr>\n",
       "      <th>2</th>\n",
       "      <td>blood</td>\n",
       "      <td>1205</td>\n",
       "      <td>0.009036</td>\n",
       "    </tr>\n",
       "    <tr>\n",
       "      <th>3</th>\n",
       "      <td>group</td>\n",
       "      <td>374</td>\n",
       "      <td>0.002805</td>\n",
       "    </tr>\n",
       "    <tr>\n",
       "      <th>4</th>\n",
       "      <td>would</td>\n",
       "      <td>66</td>\n",
       "      <td>0.000495</td>\n",
       "    </tr>\n",
       "    <tr>\n",
       "      <th>...</th>\n",
       "      <td>...</td>\n",
       "      <td>...</td>\n",
       "      <td>...</td>\n",
       "    </tr>\n",
       "    <tr>\n",
       "      <th>25115</th>\n",
       "      <td>paeumothena</td>\n",
       "      <td>1</td>\n",
       "      <td>0.000007</td>\n",
       "    </tr>\n",
       "    <tr>\n",
       "      <th>25116</th>\n",
       "      <td>sav</td>\n",
       "      <td>1</td>\n",
       "      <td>0.000007</td>\n",
       "    </tr>\n",
       "    <tr>\n",
       "      <th>25117</th>\n",
       "      <td>tabel</td>\n",
       "      <td>1</td>\n",
       "      <td>0.000007</td>\n",
       "    </tr>\n",
       "    <tr>\n",
       "      <th>25118</th>\n",
       "      <td>govnd</td>\n",
       "      <td>1</td>\n",
       "      <td>0.000007</td>\n",
       "    </tr>\n",
       "    <tr>\n",
       "      <th>25119</th>\n",
       "      <td>receip</td>\n",
       "      <td>1</td>\n",
       "      <td>0.000007</td>\n",
       "    </tr>\n",
       "  </tbody>\n",
       "</table>\n",
       "<p>25120 rows × 3 columns</p>\n",
       "</div>"
      ],
      "text/plain": [
       "              word  frequency  img_proportion\n",
       "0           little         18        0.000135\n",
       "1           update         53        0.000397\n",
       "2            blood       1205        0.009036\n",
       "3            group        374        0.002805\n",
       "4            would         66        0.000495\n",
       "...            ...        ...             ...\n",
       "25115  paeumothena          1        0.000007\n",
       "25116          sav          1        0.000007\n",
       "25117        tabel          1        0.000007\n",
       "25118        govnd          1        0.000007\n",
       "25119       receip          1        0.000007\n",
       "\n",
       "[25120 rows x 3 columns]"
      ]
     },
     "execution_count": 25,
     "metadata": {},
     "output_type": "execute_result"
    }
   ],
   "source": [
    "image_word_freq"
   ]
  },
  {
   "cell_type": "code",
   "execution_count": 26,
   "metadata": {},
   "outputs": [
    {
     "data": {
      "text/plain": [
       "Index(['index', 'text', 'is_english', 'english_text', 'Unnamed: 0'], dtype='object')"
      ]
     },
     "execution_count": 26,
     "metadata": {},
     "output_type": "execute_result"
    }
   ],
   "source": [
    "all_english.columns"
   ]
  },
  {
   "cell_type": "code",
   "execution_count": 71,
   "metadata": {},
   "outputs": [],
   "source": [
    "verified_resource_list = pd.read_csv('factchecker_covid_list.csv')\n",
    "phonelist = verified_resource_list['phone_1'].append(verified_resource_list['phone_2'])\n",
    "phonelist.dropna(inplace=True) \n",
    "for phone in phonelist:\n",
    "    check = all_english[all_english['text'].str.contains(phone)]\n",
    "    if not check.empty:\n",
    "        print(phone)\n",
    "        print(check['text'])"
   ]
  },
  {
   "cell_type": "markdown",
   "metadata": {},
   "source": [
    "# 2. Analysis of WhatsApp Conversations"
   ]
  },
  {
   "cell_type": "markdown",
   "metadata": {},
   "source": [
    "## 2.1 Prepare Data"
   ]
  },
  {
   "cell_type": "code",
   "execution_count": 29,
   "metadata": {},
   "outputs": [],
   "source": [
    "WA_text = pd.read_csv('2021July13_whatsapptext_all_english.csv')\n",
    "WA_text = WA_text[WA_text['has_media'] == False]\n",
    "\n",
    "excluded_groups = ['1d80c681c6bd089ed87f5621b2b5a5c1b863e978cf3bc1bceddfe3634e9713c5',\n",
    "                  '3b7ab2f5937776fc15436c4aa8c7ce4a5794d04dcc7abd634a26b23a43baed90',\n",
    "                  '53256805e4ca4bc13d0f6b0def75afa1ea2f85be25015d123b20faab3506503a',\n",
    "                  '334f40dd68492c94847832d40b67b59f675dc3da577ed548390c3511f6459f67',\n",
    "                  '6ddab15f6695c440c164230b4d1aacff195423fc3759191bf4179c990a617c45',\n",
    "                  '88f77040e70941006eff31f4297352cf7b1453e3a2b15a9c7c25f590a2a90354']\n",
    "WA_text = WA_text[~WA_text['group_id'].isin(excluded_groups)]\n",
    "WA_text = WA_text[WA_text['datetime']>'2021-05-06']\n",
    "WA_text = WA_text[WA_text['datetime']<'2021-06-25']"
   ]
  },
  {
   "cell_type": "code",
   "execution_count": 30,
   "metadata": {},
   "outputs": [
    {
     "data": {
      "text/plain": [
       "(13524, 13)"
      ]
     },
     "execution_count": 30,
     "metadata": {},
     "output_type": "execute_result"
    }
   ],
   "source": [
    "WA_text.shape"
   ]
  },
  {
   "cell_type": "markdown",
   "metadata": {},
   "source": [
    "## 2.2 Tokenize Data"
   ]
  },
  {
   "cell_type": "code",
   "execution_count": 33,
   "metadata": {},
   "outputs": [],
   "source": [
    "nlp = spacy.load('en_core_web_sm')\n",
    "allowed_posttags=[\"NOUN\", \"PROPN\", \"VERB\", \"ADJ\", \"ADV\"]\n",
    "WA_lemmatized_tokens = []\n",
    "for text in WA_text[\"english_content\"]:\n",
    "    if text != text: #exclude string from tokenization if NAN\n",
    "            continue\n",
    "    doc = nlp(text)\n",
    "    for token in doc:\n",
    "        if(token.pos_ in allowed_posttags):\n",
    "            WA_lemmatized_tokens.append(token.lemma_)\n",
    "        #print(token.text, token.lemma_, token.pos_, token.tag_, token.dep_,\n",
    "        #    token.shape_, token.is_alpha, token.is_stop)"
   ]
  },
  {
   "cell_type": "code",
   "execution_count": 34,
   "metadata": {},
   "outputs": [],
   "source": [
    "WA_lemmatized_tokens_lower = map(str.lower, WA_lemmatized_tokens)\n",
    "WA_lemmatized_tokens_stopped = [token for token in WA_lemmatized_tokens_lower if token not in stop_words]"
   ]
  },
  {
   "cell_type": "code",
   "execution_count": 35,
   "metadata": {},
   "outputs": [
    {
     "name": "stdout",
     "output_type": "stream",
     "text": [
      "<FreqDist with 19530 samples and 155683 outcomes>\n"
     ]
    }
   ],
   "source": [
    "from nltk.probability import FreqDist\n",
    "WA_fdist = FreqDist(WA_lemmatized_tokens_stopped)\n",
    "print(WA_fdist)"
   ]
  },
  {
   "cell_type": "code",
   "execution_count": 36,
   "metadata": {},
   "outputs": [
    {
     "name": "stdout",
     "output_type": "stream",
     "text": [
      "[('hospital', 2355), ('patient', 1563), ('oxygen', 1447), ('need', 1274), ('blood', 1269), ('contact', 1189), ('help', 1145), ('name', 1144), ('group', 1142), ('available', 978), ('🙏', 978), ('covid', 935), ('bed', 881), ('delhi', 844), ('verify', 751), ('may', 728), ('plasma', 714), ('lead', 699), ('thank', 688), ('number', 639), ('jaipur', 615), ('require', 578), ('age', 537), ('day', 524), ('time', 464), ('hai', 444), ('take', 416), ('case', 413), ('call', 412), ('icu', 409), ('share', 402), ('give', 402), ('urgent', 392), ('send', 390), ('try', 387), ('free', 377), ('unit', 374), ('donor', 369), ('people', 369), ('ventilator', 361), ('location', 359), ('date', 357), ('requirement', 352), ('india', 350), ('healing', 350), ('injection', 342), ('pm', 334), ('new', 325), ('get', 322), ('join', 321)]\n"
     ]
    }
   ],
   "source": [
    "WA_top_fifty = WA_fdist.most_common(50)\n",
    "print(WA_top_fifty)"
   ]
  },
  {
   "cell_type": "code",
   "execution_count": 37,
   "metadata": {},
   "outputs": [],
   "source": [
    "WA_word_freq=pd.DataFrame(WA_fdist.items(), columns=['word', 'frequency'])"
   ]
  },
  {
   "cell_type": "code",
   "execution_count": 53,
   "metadata": {},
   "outputs": [],
   "source": [
    "# # Frequency Distribution Plot\n",
    "# import matplotlib.pyplot as plt\n",
    "# WA_fdist.plot(30,cumulative=False)\n",
    "# plt.show()"
   ]
  },
  {
   "cell_type": "code",
   "execution_count": 38,
   "metadata": {},
   "outputs": [],
   "source": [
    "WA_total_words = sum(WA_word_freq['frequency']) #len(WA_word_freq)"
   ]
  },
  {
   "cell_type": "code",
   "execution_count": 39,
   "metadata": {},
   "outputs": [],
   "source": [
    "WA_word_freq['WA_proportion'] = WA_word_freq['frequency']/WA_total_words"
   ]
  },
  {
   "cell_type": "code",
   "execution_count": 40,
   "metadata": {},
   "outputs": [
    {
     "data": {
      "text/html": [
       "<div>\n",
       "<style scoped>\n",
       "    .dataframe tbody tr th:only-of-type {\n",
       "        vertical-align: middle;\n",
       "    }\n",
       "\n",
       "    .dataframe tbody tr th {\n",
       "        vertical-align: top;\n",
       "    }\n",
       "\n",
       "    .dataframe thead th {\n",
       "        text-align: right;\n",
       "    }\n",
       "</style>\n",
       "<table border=\"1\" class=\"dataframe\">\n",
       "  <thead>\n",
       "    <tr style=\"text-align: right;\">\n",
       "      <th></th>\n",
       "      <th>word</th>\n",
       "      <th>frequency</th>\n",
       "      <th>WA_proportion</th>\n",
       "    </tr>\n",
       "  </thead>\n",
       "  <tbody>\n",
       "    <tr>\n",
       "      <th>0</th>\n",
       "      <td>patient</td>\n",
       "      <td>1563</td>\n",
       "      <td>0.010040</td>\n",
       "    </tr>\n",
       "    <tr>\n",
       "      <th>1</th>\n",
       "      <td>atul</td>\n",
       "      <td>7</td>\n",
       "      <td>0.000045</td>\n",
       "    </tr>\n",
       "  </tbody>\n",
       "</table>\n",
       "</div>"
      ],
      "text/plain": [
       "      word  frequency  WA_proportion\n",
       "0  patient       1563       0.010040\n",
       "1     atul          7       0.000045"
      ]
     },
     "execution_count": 40,
     "metadata": {},
     "output_type": "execute_result"
    }
   ],
   "source": [
    "WA_word_freq.head(2)"
   ]
  },
  {
   "cell_type": "markdown",
   "metadata": {},
   "source": [
    "# 3. Compare Image and Text Data"
   ]
  },
  {
   "cell_type": "code",
   "execution_count": 41,
   "metadata": {},
   "outputs": [],
   "source": [
    "result = pd.merge(WA_word_freq, image_word_freq, how=\"outer\", on=[\"word\"])"
   ]
  },
  {
   "cell_type": "code",
   "execution_count": null,
   "metadata": {},
   "outputs": [],
   "source": [
    "# result_inner = pd.merge(WA_word_freq, image_word_freq, how=\"outer\", on=[\"word\"])\n",
    "# result['WA_proportion'] = result['frequency_x']/76862\n",
    "# result['img_proportion'] = result['frequency_y']/102893\n",
    "# print(sum(result['frequency_y']))\n",
    "# print(sum(WA_word_freq['frequency']))"
   ]
  },
  {
   "cell_type": "code",
   "execution_count": 42,
   "metadata": {},
   "outputs": [
    {
     "data": {
      "text/html": [
       "<div>\n",
       "<style scoped>\n",
       "    .dataframe tbody tr th:only-of-type {\n",
       "        vertical-align: middle;\n",
       "    }\n",
       "\n",
       "    .dataframe tbody tr th {\n",
       "        vertical-align: top;\n",
       "    }\n",
       "\n",
       "    .dataframe thead th {\n",
       "        text-align: right;\n",
       "    }\n",
       "</style>\n",
       "<table border=\"1\" class=\"dataframe\">\n",
       "  <thead>\n",
       "    <tr style=\"text-align: right;\">\n",
       "      <th></th>\n",
       "      <th>word</th>\n",
       "      <th>frequency_x</th>\n",
       "      <th>WA_proportion</th>\n",
       "      <th>frequency_y</th>\n",
       "      <th>img_proportion</th>\n",
       "    </tr>\n",
       "  </thead>\n",
       "  <tbody>\n",
       "    <tr>\n",
       "      <th>0</th>\n",
       "      <td>patient</td>\n",
       "      <td>1563.0</td>\n",
       "      <td>0.010040</td>\n",
       "      <td>1049.0</td>\n",
       "      <td>0.007866</td>\n",
       "    </tr>\n",
       "    <tr>\n",
       "      <th>1</th>\n",
       "      <td>atul</td>\n",
       "      <td>7.0</td>\n",
       "      <td>0.000045</td>\n",
       "      <td>12.0</td>\n",
       "      <td>0.000090</td>\n",
       "    </tr>\n",
       "  </tbody>\n",
       "</table>\n",
       "</div>"
      ],
      "text/plain": [
       "      word  frequency_x  WA_proportion  frequency_y  img_proportion\n",
       "0  patient       1563.0       0.010040       1049.0        0.007866\n",
       "1     atul          7.0       0.000045         12.0        0.000090"
      ]
     },
     "execution_count": 42,
     "metadata": {},
     "output_type": "execute_result"
    }
   ],
   "source": [
    "result.head(2)"
   ]
  },
  {
   "cell_type": "code",
   "execution_count": 43,
   "metadata": {},
   "outputs": [],
   "source": [
    "result['prop_diff'] = abs(result[\"WA_proportion\"] - result[\"img_proportion\"])"
   ]
  },
  {
   "cell_type": "code",
   "execution_count": 65,
   "metadata": {},
   "outputs": [
    {
     "data": {
      "text/html": [
       "<div>\n",
       "<style scoped>\n",
       "    .dataframe tbody tr th:only-of-type {\n",
       "        vertical-align: middle;\n",
       "    }\n",
       "\n",
       "    .dataframe tbody tr th {\n",
       "        vertical-align: top;\n",
       "    }\n",
       "\n",
       "    .dataframe thead th {\n",
       "        text-align: right;\n",
       "    }\n",
       "</style>\n",
       "<table border=\"1\" class=\"dataframe\">\n",
       "  <thead>\n",
       "    <tr style=\"text-align: right;\">\n",
       "      <th></th>\n",
       "      <th>WA_proportion</th>\n",
       "      <th>img_proportion</th>\n",
       "    </tr>\n",
       "  </thead>\n",
       "  <tbody>\n",
       "    <tr>\n",
       "      <th>WA_proportion</th>\n",
       "      <td>1.000000</td>\n",
       "      <td>0.846086</td>\n",
       "    </tr>\n",
       "    <tr>\n",
       "      <th>img_proportion</th>\n",
       "      <td>0.846086</td>\n",
       "      <td>1.000000</td>\n",
       "    </tr>\n",
       "  </tbody>\n",
       "</table>\n",
       "</div>"
      ],
      "text/plain": [
       "                WA_proportion  img_proportion\n",
       "WA_proportion        1.000000        0.846086\n",
       "img_proportion       0.846086        1.000000"
      ]
     },
     "execution_count": 65,
     "metadata": {},
     "output_type": "execute_result"
    }
   ],
   "source": [
    "temp = result[[\"WA_proportion\",\"img_proportion\"]]\n",
    "temp.corr(method='pearson')#, min_periods=1)"
   ]
  },
  {
   "cell_type": "code",
   "execution_count": 66,
   "metadata": {},
   "outputs": [],
   "source": [
    "result_clean = result[result.WA_proportion.notnull()]\n",
    "result_clean = result_clean[result_clean.img_proportion.notnull()]\n"
   ]
  },
  {
   "cell_type": "code",
   "execution_count": 67,
   "metadata": {},
   "outputs": [],
   "source": [
    "result_clean =result_clean[(result_clean['WA_proportion'] > 0.0004) & (result_clean['img_proportion'] > 0.0004)]"
   ]
  },
  {
   "cell_type": "code",
   "execution_count": 68,
   "metadata": {},
   "outputs": [
    {
     "data": {
      "text/plain": [
       "(252, 6)"
      ]
     },
     "execution_count": 68,
     "metadata": {},
     "output_type": "execute_result"
    }
   ],
   "source": [
    "result_clean.shape"
   ]
  },
  {
   "cell_type": "code",
   "execution_count": 158,
   "metadata": {},
   "outputs": [],
   "source": [
    "result_clean.to_csv('check_Words.csv')"
   ]
  },
  {
   "cell_type": "code",
   "execution_count": 69,
   "metadata": {},
   "outputs": [],
   "source": [
    "top = fdist.most_common(30)\n",
    "\n",
    "WA_top = WA_fdist.most_common(30)\n",
    "\n",
    "\n",
    "WA_top_df = pd.DataFrame(WA_top, columns=['word', 'frequency'])\n",
    "top_df = pd.DataFrame(top, columns=['word', 'frequency'])\n",
    "wordlist = WA_top_df['word'].append(top_df['word'])\n",
    "result_clean = result_clean[result_clean['word'].isin(wordlist)]"
   ]
  },
  {
   "cell_type": "code",
   "execution_count": 70,
   "metadata": {},
   "outputs": [
    {
     "data": {
      "text/plain": [
       "(39, 6)"
      ]
     },
     "execution_count": 70,
     "metadata": {},
     "output_type": "execute_result"
    }
   ],
   "source": [
    "result_clean.shape"
   ]
  },
  {
   "cell_type": "markdown",
   "metadata": {},
   "source": [
    "# 4. Plot Graphs\n"
   ]
  },
  {
   "cell_type": "code",
   "execution_count": 105,
   "metadata": {},
   "outputs": [],
   "source": [
    "# import plotly.express as px\n",
    "# import plotly.graph_objects as go\n",
    "\n",
    "# fig1 = px.scatter(result_clean, x=\"WA_proportion\", y=\"img_proportion\", text=\"word\", size_max=60, \n",
    "#                  #trendline=\"ols\",\n",
    "#                  log_x=True, log_y=True)\n",
    "\n",
    "\n",
    "# fig1.update_traces(textposition='top center')\n",
    "\n",
    "# fig1.update_layout(\n",
    "#     #height=800,\n",
    "#     #plot_bgcolor=\"white\",\n",
    "#     title_text='Comparison of Words Found in Text Messages and Images'\n",
    "   \n",
    "# )\n",
    "\n",
    "# fig1.update_yaxes(range=list([-3.3880341096413864, -1.6965818195541233]))\n",
    "# fig1.update_xaxes(range=list([-3.3880341096413864, -1.6965818195541233]))\n",
    "\n",
    "\n",
    "# ax_arr = np.arange(0, 1.0375284158) #list(range(-3.3880341096413864, -1.6965818195541233))\n",
    "# fig2 = px.line(x=ax_arr,y=ax_arr,log_x=True,log_y=True,) #, color=rgb(140, 140, 140))      \n",
    "# #fig2.update_layout(plot_bgcolor=\"white\")\n",
    "               \n",
    "\n",
    "\n",
    "# fig = go.Figure(data=fig1.data + fig2.data)\n",
    "\n",
    "# fig.update_xaxes(type=\"log\", range=list([-3.3880341096413864, -1.6965818195541233])) \n",
    "# fig.update_yaxes(type=\"log\", range=list([-3.3880341096413864, -1.6965818195541233]))\n",
    "\n",
    "# fig.update_layout(\n",
    "#     #plot_bgcolor=\"white\",\n",
    "#     autosize=False,\n",
    "#     width=900,\n",
    "#     height=900\n",
    "# )\n",
    "\n",
    "# fig.show()"
   ]
  },
  {
   "cell_type": "code",
   "execution_count": 64,
   "metadata": {},
   "outputs": [
    {
     "data": {
      "application/vnd.plotly.v1+json": {
       "config": {
        "plotlyServerURL": "https://plot.ly"
       },
       "data": [
        {
         "marker": {
          "color": "#514E80",
          "opacity": 0.5,
          "size": 5
         },
         "mode": "markers+text",
         "name": "",
         "text": [
          "patient",
          "case",
          "help",
          "contact",
          "call",
          "verify",
          "donor",
          "blood",
          "hospital",
          "day",
          "lead",
          "plasma",
          "available",
          "covid",
          "group",
          "time",
          "oxygen",
          "delhi",
          "pm",
          "may",
          "need",
          "number",
          "home",
          "bed",
          "covid-19",
          "take",
          "report",
          "icu",
          "name",
          "medical",
          "health",
          "age",
          "require",
          "date",
          "india",
          "center",
          "district",
          "jaipur",
          "nashik"
         ],
         "textposition": "bottom left",
         "type": "scatter",
         "x": [
          0.01003963181593366,
          0.0026528265770829184,
          0.007354688694333999,
          0.007637314286081332,
          0.00264640326817957,
          0.004823904986414702,
          0.002370200985335586,
          0.008151178998349209,
          0.015126892467385649,
          0.003365813865354599,
          0.0044898929234405815,
          0.004586242556990808,
          0.006281996107474805,
          0.00600579382463082,
          0.007335418767623954,
          0.0029804153311536906,
          0.009294527983145237,
          0.00542127271442611,
          0.002145385173718389,
          0.004676168881637687,
          0.008183295542865952,
          0.004104494389239673,
          0.001843489655261011,
          0.005658935143850003,
          0.0009570730265989222,
          0.002672096503792964,
          0.0010084594978257099,
          0.0026271333414695248,
          0.007348265385430651,
          0.002042612231264814,
          0.0011626189115060733,
          0.003449316881098129,
          0.003712672546135416,
          0.002293121278495404,
          0.002248158116171965,
          0.0010469993512458007,
          0.0008221835396286043,
          0.003950334975559309,
          0.000873570010855392
         ],
         "y": [
          0.007866103766581431,
          0.0011697923618557706,
          0.0032994143539521736,
          0.004041782583591413,
          0.001994645950343814,
          0.0010723096650344563,
          0.0032094303261171143,
          0.009035896128437202,
          0.010123203131444169,
          0.0038993078728525687,
          0.00047991481512031615,
          0.0035318730925260767,
          0.008473495954468082,
          0.005316556311254752,
          0.0028045022008593473,
          0.0032919156849659185,
          0.0070262528401208784,
          0.0030444596084195055,
          0.004379222687972885,
          0.0035543690994848413,
          0.002654528821134249,
          0.0035543690994848413,
          0.0026095368072167192,
          0.0028045022008593473,
          0.002871990221735642,
          0.0022870940408077564,
          0.0050241082207908095,
          0.00124477905171832,
          0.005549015049828655,
          0.0036443531273199006,
          0.003089451622337035,
          0.0023020913787802663,
          0.0016047151630585572,
          0.003389398381787233,
          0.003486881078608547,
          0.0025420487863404245,
          0.0034193930577322523,
          0.0010573123270619465,
          0.0027970035318730926
         ]
        },
        {
         "line": {
          "color": "#c2c2d6",
          "dash": "dot"
         },
         "mode": "lines",
         "name": "y=x",
         "type": "scatter",
         "x": [
          0,
          1
         ],
         "y": [
          0,
          1
         ]
        }
       ],
       "layout": {
        "autosize": false,
        "height": 900,
        "plot_bgcolor": "white",
        "template": {
         "data": {
          "bar": [
           {
            "error_x": {
             "color": "#2a3f5f"
            },
            "error_y": {
             "color": "#2a3f5f"
            },
            "marker": {
             "line": {
              "color": "#E5ECF6",
              "width": 0.5
             }
            },
            "type": "bar"
           }
          ],
          "barpolar": [
           {
            "marker": {
             "line": {
              "color": "#E5ECF6",
              "width": 0.5
             }
            },
            "type": "barpolar"
           }
          ],
          "carpet": [
           {
            "aaxis": {
             "endlinecolor": "#2a3f5f",
             "gridcolor": "white",
             "linecolor": "white",
             "minorgridcolor": "white",
             "startlinecolor": "#2a3f5f"
            },
            "baxis": {
             "endlinecolor": "#2a3f5f",
             "gridcolor": "white",
             "linecolor": "white",
             "minorgridcolor": "white",
             "startlinecolor": "#2a3f5f"
            },
            "type": "carpet"
           }
          ],
          "choropleth": [
           {
            "colorbar": {
             "outlinewidth": 0,
             "ticks": ""
            },
            "type": "choropleth"
           }
          ],
          "contour": [
           {
            "colorbar": {
             "outlinewidth": 0,
             "ticks": ""
            },
            "colorscale": [
             [
              0,
              "#0d0887"
             ],
             [
              0.1111111111111111,
              "#46039f"
             ],
             [
              0.2222222222222222,
              "#7201a8"
             ],
             [
              0.3333333333333333,
              "#9c179e"
             ],
             [
              0.4444444444444444,
              "#bd3786"
             ],
             [
              0.5555555555555556,
              "#d8576b"
             ],
             [
              0.6666666666666666,
              "#ed7953"
             ],
             [
              0.7777777777777778,
              "#fb9f3a"
             ],
             [
              0.8888888888888888,
              "#fdca26"
             ],
             [
              1,
              "#f0f921"
             ]
            ],
            "type": "contour"
           }
          ],
          "contourcarpet": [
           {
            "colorbar": {
             "outlinewidth": 0,
             "ticks": ""
            },
            "type": "contourcarpet"
           }
          ],
          "heatmap": [
           {
            "colorbar": {
             "outlinewidth": 0,
             "ticks": ""
            },
            "colorscale": [
             [
              0,
              "#0d0887"
             ],
             [
              0.1111111111111111,
              "#46039f"
             ],
             [
              0.2222222222222222,
              "#7201a8"
             ],
             [
              0.3333333333333333,
              "#9c179e"
             ],
             [
              0.4444444444444444,
              "#bd3786"
             ],
             [
              0.5555555555555556,
              "#d8576b"
             ],
             [
              0.6666666666666666,
              "#ed7953"
             ],
             [
              0.7777777777777778,
              "#fb9f3a"
             ],
             [
              0.8888888888888888,
              "#fdca26"
             ],
             [
              1,
              "#f0f921"
             ]
            ],
            "type": "heatmap"
           }
          ],
          "heatmapgl": [
           {
            "colorbar": {
             "outlinewidth": 0,
             "ticks": ""
            },
            "colorscale": [
             [
              0,
              "#0d0887"
             ],
             [
              0.1111111111111111,
              "#46039f"
             ],
             [
              0.2222222222222222,
              "#7201a8"
             ],
             [
              0.3333333333333333,
              "#9c179e"
             ],
             [
              0.4444444444444444,
              "#bd3786"
             ],
             [
              0.5555555555555556,
              "#d8576b"
             ],
             [
              0.6666666666666666,
              "#ed7953"
             ],
             [
              0.7777777777777778,
              "#fb9f3a"
             ],
             [
              0.8888888888888888,
              "#fdca26"
             ],
             [
              1,
              "#f0f921"
             ]
            ],
            "type": "heatmapgl"
           }
          ],
          "histogram": [
           {
            "marker": {
             "colorbar": {
              "outlinewidth": 0,
              "ticks": ""
             }
            },
            "type": "histogram"
           }
          ],
          "histogram2d": [
           {
            "colorbar": {
             "outlinewidth": 0,
             "ticks": ""
            },
            "colorscale": [
             [
              0,
              "#0d0887"
             ],
             [
              0.1111111111111111,
              "#46039f"
             ],
             [
              0.2222222222222222,
              "#7201a8"
             ],
             [
              0.3333333333333333,
              "#9c179e"
             ],
             [
              0.4444444444444444,
              "#bd3786"
             ],
             [
              0.5555555555555556,
              "#d8576b"
             ],
             [
              0.6666666666666666,
              "#ed7953"
             ],
             [
              0.7777777777777778,
              "#fb9f3a"
             ],
             [
              0.8888888888888888,
              "#fdca26"
             ],
             [
              1,
              "#f0f921"
             ]
            ],
            "type": "histogram2d"
           }
          ],
          "histogram2dcontour": [
           {
            "colorbar": {
             "outlinewidth": 0,
             "ticks": ""
            },
            "colorscale": [
             [
              0,
              "#0d0887"
             ],
             [
              0.1111111111111111,
              "#46039f"
             ],
             [
              0.2222222222222222,
              "#7201a8"
             ],
             [
              0.3333333333333333,
              "#9c179e"
             ],
             [
              0.4444444444444444,
              "#bd3786"
             ],
             [
              0.5555555555555556,
              "#d8576b"
             ],
             [
              0.6666666666666666,
              "#ed7953"
             ],
             [
              0.7777777777777778,
              "#fb9f3a"
             ],
             [
              0.8888888888888888,
              "#fdca26"
             ],
             [
              1,
              "#f0f921"
             ]
            ],
            "type": "histogram2dcontour"
           }
          ],
          "mesh3d": [
           {
            "colorbar": {
             "outlinewidth": 0,
             "ticks": ""
            },
            "type": "mesh3d"
           }
          ],
          "parcoords": [
           {
            "line": {
             "colorbar": {
              "outlinewidth": 0,
              "ticks": ""
             }
            },
            "type": "parcoords"
           }
          ],
          "pie": [
           {
            "automargin": true,
            "type": "pie"
           }
          ],
          "scatter": [
           {
            "marker": {
             "colorbar": {
              "outlinewidth": 0,
              "ticks": ""
             }
            },
            "type": "scatter"
           }
          ],
          "scatter3d": [
           {
            "line": {
             "colorbar": {
              "outlinewidth": 0,
              "ticks": ""
             }
            },
            "marker": {
             "colorbar": {
              "outlinewidth": 0,
              "ticks": ""
             }
            },
            "type": "scatter3d"
           }
          ],
          "scattercarpet": [
           {
            "marker": {
             "colorbar": {
              "outlinewidth": 0,
              "ticks": ""
             }
            },
            "type": "scattercarpet"
           }
          ],
          "scattergeo": [
           {
            "marker": {
             "colorbar": {
              "outlinewidth": 0,
              "ticks": ""
             }
            },
            "type": "scattergeo"
           }
          ],
          "scattergl": [
           {
            "marker": {
             "colorbar": {
              "outlinewidth": 0,
              "ticks": ""
             }
            },
            "type": "scattergl"
           }
          ],
          "scattermapbox": [
           {
            "marker": {
             "colorbar": {
              "outlinewidth": 0,
              "ticks": ""
             }
            },
            "type": "scattermapbox"
           }
          ],
          "scatterpolar": [
           {
            "marker": {
             "colorbar": {
              "outlinewidth": 0,
              "ticks": ""
             }
            },
            "type": "scatterpolar"
           }
          ],
          "scatterpolargl": [
           {
            "marker": {
             "colorbar": {
              "outlinewidth": 0,
              "ticks": ""
             }
            },
            "type": "scatterpolargl"
           }
          ],
          "scatterternary": [
           {
            "marker": {
             "colorbar": {
              "outlinewidth": 0,
              "ticks": ""
             }
            },
            "type": "scatterternary"
           }
          ],
          "surface": [
           {
            "colorbar": {
             "outlinewidth": 0,
             "ticks": ""
            },
            "colorscale": [
             [
              0,
              "#0d0887"
             ],
             [
              0.1111111111111111,
              "#46039f"
             ],
             [
              0.2222222222222222,
              "#7201a8"
             ],
             [
              0.3333333333333333,
              "#9c179e"
             ],
             [
              0.4444444444444444,
              "#bd3786"
             ],
             [
              0.5555555555555556,
              "#d8576b"
             ],
             [
              0.6666666666666666,
              "#ed7953"
             ],
             [
              0.7777777777777778,
              "#fb9f3a"
             ],
             [
              0.8888888888888888,
              "#fdca26"
             ],
             [
              1,
              "#f0f921"
             ]
            ],
            "type": "surface"
           }
          ],
          "table": [
           {
            "cells": {
             "fill": {
              "color": "#EBF0F8"
             },
             "line": {
              "color": "white"
             }
            },
            "header": {
             "fill": {
              "color": "#C8D4E3"
             },
             "line": {
              "color": "white"
             }
            },
            "type": "table"
           }
          ]
         },
         "layout": {
          "annotationdefaults": {
           "arrowcolor": "#2a3f5f",
           "arrowhead": 0,
           "arrowwidth": 1
          },
          "autotypenumbers": "strict",
          "coloraxis": {
           "colorbar": {
            "outlinewidth": 0,
            "ticks": ""
           }
          },
          "colorscale": {
           "diverging": [
            [
             0,
             "#8e0152"
            ],
            [
             0.1,
             "#c51b7d"
            ],
            [
             0.2,
             "#de77ae"
            ],
            [
             0.3,
             "#f1b6da"
            ],
            [
             0.4,
             "#fde0ef"
            ],
            [
             0.5,
             "#f7f7f7"
            ],
            [
             0.6,
             "#e6f5d0"
            ],
            [
             0.7,
             "#b8e186"
            ],
            [
             0.8,
             "#7fbc41"
            ],
            [
             0.9,
             "#4d9221"
            ],
            [
             1,
             "#276419"
            ]
           ],
           "sequential": [
            [
             0,
             "#0d0887"
            ],
            [
             0.1111111111111111,
             "#46039f"
            ],
            [
             0.2222222222222222,
             "#7201a8"
            ],
            [
             0.3333333333333333,
             "#9c179e"
            ],
            [
             0.4444444444444444,
             "#bd3786"
            ],
            [
             0.5555555555555556,
             "#d8576b"
            ],
            [
             0.6666666666666666,
             "#ed7953"
            ],
            [
             0.7777777777777778,
             "#fb9f3a"
            ],
            [
             0.8888888888888888,
             "#fdca26"
            ],
            [
             1,
             "#f0f921"
            ]
           ],
           "sequentialminus": [
            [
             0,
             "#0d0887"
            ],
            [
             0.1111111111111111,
             "#46039f"
            ],
            [
             0.2222222222222222,
             "#7201a8"
            ],
            [
             0.3333333333333333,
             "#9c179e"
            ],
            [
             0.4444444444444444,
             "#bd3786"
            ],
            [
             0.5555555555555556,
             "#d8576b"
            ],
            [
             0.6666666666666666,
             "#ed7953"
            ],
            [
             0.7777777777777778,
             "#fb9f3a"
            ],
            [
             0.8888888888888888,
             "#fdca26"
            ],
            [
             1,
             "#f0f921"
            ]
           ]
          },
          "colorway": [
           "#636efa",
           "#EF553B",
           "#00cc96",
           "#ab63fa",
           "#FFA15A",
           "#19d3f3",
           "#FF6692",
           "#B6E880",
           "#FF97FF",
           "#FECB52"
          ],
          "font": {
           "color": "#2a3f5f"
          },
          "geo": {
           "bgcolor": "white",
           "lakecolor": "white",
           "landcolor": "#E5ECF6",
           "showlakes": true,
           "showland": true,
           "subunitcolor": "white"
          },
          "hoverlabel": {
           "align": "left"
          },
          "hovermode": "closest",
          "mapbox": {
           "style": "light"
          },
          "paper_bgcolor": "white",
          "plot_bgcolor": "#E5ECF6",
          "polar": {
           "angularaxis": {
            "gridcolor": "white",
            "linecolor": "white",
            "ticks": ""
           },
           "bgcolor": "#E5ECF6",
           "radialaxis": {
            "gridcolor": "white",
            "linecolor": "white",
            "ticks": ""
           }
          },
          "scene": {
           "xaxis": {
            "backgroundcolor": "#E5ECF6",
            "gridcolor": "white",
            "gridwidth": 2,
            "linecolor": "white",
            "showbackground": true,
            "ticks": "",
            "zerolinecolor": "white"
           },
           "yaxis": {
            "backgroundcolor": "#E5ECF6",
            "gridcolor": "white",
            "gridwidth": 2,
            "linecolor": "white",
            "showbackground": true,
            "ticks": "",
            "zerolinecolor": "white"
           },
           "zaxis": {
            "backgroundcolor": "#E5ECF6",
            "gridcolor": "white",
            "gridwidth": 2,
            "linecolor": "white",
            "showbackground": true,
            "ticks": "",
            "zerolinecolor": "white"
           }
          },
          "shapedefaults": {
           "line": {
            "color": "#2a3f5f"
           }
          },
          "ternary": {
           "aaxis": {
            "gridcolor": "white",
            "linecolor": "white",
            "ticks": ""
           },
           "baxis": {
            "gridcolor": "white",
            "linecolor": "white",
            "ticks": ""
           },
           "bgcolor": "#E5ECF6",
           "caxis": {
            "gridcolor": "white",
            "linecolor": "white",
            "ticks": ""
           }
          },
          "title": {
           "x": 0.05
          },
          "xaxis": {
           "automargin": true,
           "gridcolor": "white",
           "linecolor": "white",
           "ticks": "",
           "title": {
            "standoff": 15
           },
           "zerolinecolor": "white",
           "zerolinewidth": 2
          },
          "yaxis": {
           "automargin": true,
           "gridcolor": "white",
           "linecolor": "white",
           "ticks": "",
           "title": {
            "standoff": 15
           },
           "zerolinecolor": "white",
           "zerolinewidth": 2
          }
         }
        },
        "width": 900,
        "xaxis": {
         "gridcolor": "#EDC9C4",
         "linecolor": "black",
         "range": [
          -3.155,
          -1.6965818195541233
         ],
         "showgrid": true,
         "tickangle": 45,
         "tickformat": ".3%",
         "title": {
          "text": "Words in Text Messages"
         },
         "type": "log"
        },
        "yaxis": {
         "gridcolor": "#EDC9C4",
         "linecolor": "black",
         "range": [
          -3.155,
          -1.6965818195541233
         ],
         "showgrid": true,
         "tickformat": ".3%",
         "title": {
          "text": "Words in Images"
         },
         "type": "log"
        }
       }
      },
      "text/html": [
       "<div>                            <div id=\"5661f1b0-9f7e-4429-97e9-39140905c96f\" class=\"plotly-graph-div\" style=\"height:900px; width:900px;\"></div>            <script type=\"text/javascript\">                require([\"plotly\"], function(Plotly) {                    window.PLOTLYENV=window.PLOTLYENV || {};                                    if (document.getElementById(\"5661f1b0-9f7e-4429-97e9-39140905c96f\")) {                    Plotly.newPlot(                        \"5661f1b0-9f7e-4429-97e9-39140905c96f\",                        [{\"marker\": {\"color\": \"#514E80\", \"opacity\": 0.5, \"size\": 5}, \"mode\": \"markers+text\", \"name\": \"\", \"text\": [\"patient\", \"case\", \"help\", \"contact\", \"call\", \"verify\", \"donor\", \"blood\", \"hospital\", \"day\", \"lead\", \"plasma\", \"available\", \"covid\", \"group\", \"time\", \"oxygen\", \"delhi\", \"pm\", \"may\", \"need\", \"number\", \"home\", \"bed\", \"covid-19\", \"take\", \"report\", \"icu\", \"name\", \"medical\", \"health\", \"age\", \"require\", \"date\", \"india\", \"center\", \"district\", \"jaipur\", \"nashik\"], \"textposition\": \"bottom left\", \"type\": \"scatter\", \"x\": [0.01003963181593366, 0.0026528265770829184, 0.007354688694333999, 0.007637314286081332, 0.00264640326817957, 0.004823904986414702, 0.002370200985335586, 0.008151178998349209, 0.015126892467385649, 0.003365813865354599, 0.0044898929234405815, 0.004586242556990808, 0.006281996107474805, 0.00600579382463082, 0.007335418767623954, 0.0029804153311536906, 0.009294527983145237, 0.00542127271442611, 0.002145385173718389, 0.004676168881637687, 0.008183295542865952, 0.004104494389239673, 0.001843489655261011, 0.005658935143850003, 0.0009570730265989222, 0.002672096503792964, 0.0010084594978257099, 0.0026271333414695248, 0.007348265385430651, 0.002042612231264814, 0.0011626189115060733, 0.003449316881098129, 0.003712672546135416, 0.002293121278495404, 0.002248158116171965, 0.0010469993512458007, 0.0008221835396286043, 0.003950334975559309, 0.000873570010855392], \"y\": [0.007866103766581431, 0.0011697923618557706, 0.0032994143539521736, 0.004041782583591413, 0.001994645950343814, 0.0010723096650344563, 0.0032094303261171143, 0.009035896128437202, 0.010123203131444169, 0.0038993078728525687, 0.00047991481512031615, 0.0035318730925260767, 0.008473495954468082, 0.005316556311254752, 0.0028045022008593473, 0.0032919156849659185, 0.0070262528401208784, 0.0030444596084195055, 0.004379222687972885, 0.0035543690994848413, 0.002654528821134249, 0.0035543690994848413, 0.0026095368072167192, 0.0028045022008593473, 0.002871990221735642, 0.0022870940408077564, 0.0050241082207908095, 0.00124477905171832, 0.005549015049828655, 0.0036443531273199006, 0.003089451622337035, 0.0023020913787802663, 0.0016047151630585572, 0.003389398381787233, 0.003486881078608547, 0.0025420487863404245, 0.0034193930577322523, 0.0010573123270619465, 0.0027970035318730926]}, {\"line\": {\"color\": \"#c2c2d6\", \"dash\": \"dot\"}, \"mode\": \"lines\", \"name\": \"y=x\", \"type\": \"scatter\", \"x\": [0.0, 1.0], \"y\": [0.0, 1.0]}],                        {\"autosize\": false, \"height\": 900, \"plot_bgcolor\": \"white\", \"template\": {\"data\": {\"bar\": [{\"error_x\": {\"color\": \"#2a3f5f\"}, \"error_y\": {\"color\": \"#2a3f5f\"}, \"marker\": {\"line\": {\"color\": \"#E5ECF6\", \"width\": 0.5}}, \"type\": \"bar\"}], \"barpolar\": [{\"marker\": {\"line\": {\"color\": \"#E5ECF6\", \"width\": 0.5}}, \"type\": \"barpolar\"}], \"carpet\": [{\"aaxis\": {\"endlinecolor\": \"#2a3f5f\", \"gridcolor\": \"white\", \"linecolor\": \"white\", \"minorgridcolor\": \"white\", \"startlinecolor\": \"#2a3f5f\"}, \"baxis\": {\"endlinecolor\": \"#2a3f5f\", \"gridcolor\": \"white\", \"linecolor\": \"white\", \"minorgridcolor\": \"white\", \"startlinecolor\": \"#2a3f5f\"}, \"type\": \"carpet\"}], \"choropleth\": [{\"colorbar\": {\"outlinewidth\": 0, \"ticks\": \"\"}, \"type\": \"choropleth\"}], \"contour\": [{\"colorbar\": {\"outlinewidth\": 0, \"ticks\": \"\"}, \"colorscale\": [[0.0, \"#0d0887\"], [0.1111111111111111, \"#46039f\"], [0.2222222222222222, \"#7201a8\"], [0.3333333333333333, \"#9c179e\"], [0.4444444444444444, \"#bd3786\"], [0.5555555555555556, \"#d8576b\"], [0.6666666666666666, \"#ed7953\"], [0.7777777777777778, \"#fb9f3a\"], [0.8888888888888888, \"#fdca26\"], [1.0, \"#f0f921\"]], \"type\": \"contour\"}], \"contourcarpet\": [{\"colorbar\": {\"outlinewidth\": 0, \"ticks\": \"\"}, \"type\": \"contourcarpet\"}], \"heatmap\": [{\"colorbar\": {\"outlinewidth\": 0, \"ticks\": \"\"}, \"colorscale\": [[0.0, \"#0d0887\"], [0.1111111111111111, \"#46039f\"], [0.2222222222222222, \"#7201a8\"], [0.3333333333333333, \"#9c179e\"], [0.4444444444444444, \"#bd3786\"], [0.5555555555555556, \"#d8576b\"], [0.6666666666666666, \"#ed7953\"], [0.7777777777777778, \"#fb9f3a\"], [0.8888888888888888, \"#fdca26\"], [1.0, \"#f0f921\"]], \"type\": \"heatmap\"}], \"heatmapgl\": [{\"colorbar\": {\"outlinewidth\": 0, \"ticks\": \"\"}, \"colorscale\": [[0.0, \"#0d0887\"], [0.1111111111111111, \"#46039f\"], [0.2222222222222222, \"#7201a8\"], [0.3333333333333333, \"#9c179e\"], [0.4444444444444444, \"#bd3786\"], [0.5555555555555556, \"#d8576b\"], [0.6666666666666666, \"#ed7953\"], [0.7777777777777778, \"#fb9f3a\"], [0.8888888888888888, \"#fdca26\"], [1.0, \"#f0f921\"]], \"type\": \"heatmapgl\"}], \"histogram\": [{\"marker\": {\"colorbar\": {\"outlinewidth\": 0, \"ticks\": \"\"}}, \"type\": \"histogram\"}], \"histogram2d\": [{\"colorbar\": {\"outlinewidth\": 0, \"ticks\": \"\"}, \"colorscale\": [[0.0, \"#0d0887\"], [0.1111111111111111, \"#46039f\"], [0.2222222222222222, \"#7201a8\"], [0.3333333333333333, \"#9c179e\"], [0.4444444444444444, \"#bd3786\"], [0.5555555555555556, \"#d8576b\"], [0.6666666666666666, \"#ed7953\"], [0.7777777777777778, \"#fb9f3a\"], [0.8888888888888888, \"#fdca26\"], [1.0, \"#f0f921\"]], \"type\": \"histogram2d\"}], \"histogram2dcontour\": [{\"colorbar\": {\"outlinewidth\": 0, \"ticks\": \"\"}, \"colorscale\": [[0.0, \"#0d0887\"], [0.1111111111111111, \"#46039f\"], [0.2222222222222222, \"#7201a8\"], [0.3333333333333333, \"#9c179e\"], [0.4444444444444444, \"#bd3786\"], [0.5555555555555556, \"#d8576b\"], [0.6666666666666666, \"#ed7953\"], [0.7777777777777778, \"#fb9f3a\"], [0.8888888888888888, \"#fdca26\"], [1.0, \"#f0f921\"]], \"type\": \"histogram2dcontour\"}], \"mesh3d\": [{\"colorbar\": {\"outlinewidth\": 0, \"ticks\": \"\"}, \"type\": \"mesh3d\"}], \"parcoords\": [{\"line\": {\"colorbar\": {\"outlinewidth\": 0, \"ticks\": \"\"}}, \"type\": \"parcoords\"}], \"pie\": [{\"automargin\": true, \"type\": \"pie\"}], \"scatter\": [{\"marker\": {\"colorbar\": {\"outlinewidth\": 0, \"ticks\": \"\"}}, \"type\": \"scatter\"}], \"scatter3d\": [{\"line\": {\"colorbar\": {\"outlinewidth\": 0, \"ticks\": \"\"}}, \"marker\": {\"colorbar\": {\"outlinewidth\": 0, \"ticks\": \"\"}}, \"type\": \"scatter3d\"}], \"scattercarpet\": [{\"marker\": {\"colorbar\": {\"outlinewidth\": 0, \"ticks\": \"\"}}, \"type\": \"scattercarpet\"}], \"scattergeo\": [{\"marker\": {\"colorbar\": {\"outlinewidth\": 0, \"ticks\": \"\"}}, \"type\": \"scattergeo\"}], \"scattergl\": [{\"marker\": {\"colorbar\": {\"outlinewidth\": 0, \"ticks\": \"\"}}, \"type\": \"scattergl\"}], \"scattermapbox\": [{\"marker\": {\"colorbar\": {\"outlinewidth\": 0, \"ticks\": \"\"}}, \"type\": \"scattermapbox\"}], \"scatterpolar\": [{\"marker\": {\"colorbar\": {\"outlinewidth\": 0, \"ticks\": \"\"}}, \"type\": \"scatterpolar\"}], \"scatterpolargl\": [{\"marker\": {\"colorbar\": {\"outlinewidth\": 0, \"ticks\": \"\"}}, \"type\": \"scatterpolargl\"}], \"scatterternary\": [{\"marker\": {\"colorbar\": {\"outlinewidth\": 0, \"ticks\": \"\"}}, \"type\": \"scatterternary\"}], \"surface\": [{\"colorbar\": {\"outlinewidth\": 0, \"ticks\": \"\"}, \"colorscale\": [[0.0, \"#0d0887\"], [0.1111111111111111, \"#46039f\"], [0.2222222222222222, \"#7201a8\"], [0.3333333333333333, \"#9c179e\"], [0.4444444444444444, \"#bd3786\"], [0.5555555555555556, \"#d8576b\"], [0.6666666666666666, \"#ed7953\"], [0.7777777777777778, \"#fb9f3a\"], [0.8888888888888888, \"#fdca26\"], [1.0, \"#f0f921\"]], \"type\": \"surface\"}], \"table\": [{\"cells\": {\"fill\": {\"color\": \"#EBF0F8\"}, \"line\": {\"color\": \"white\"}}, \"header\": {\"fill\": {\"color\": \"#C8D4E3\"}, \"line\": {\"color\": \"white\"}}, \"type\": \"table\"}]}, \"layout\": {\"annotationdefaults\": {\"arrowcolor\": \"#2a3f5f\", \"arrowhead\": 0, \"arrowwidth\": 1}, \"autotypenumbers\": \"strict\", \"coloraxis\": {\"colorbar\": {\"outlinewidth\": 0, \"ticks\": \"\"}}, \"colorscale\": {\"diverging\": [[0, \"#8e0152\"], [0.1, \"#c51b7d\"], [0.2, \"#de77ae\"], [0.3, \"#f1b6da\"], [0.4, \"#fde0ef\"], [0.5, \"#f7f7f7\"], [0.6, \"#e6f5d0\"], [0.7, \"#b8e186\"], [0.8, \"#7fbc41\"], [0.9, \"#4d9221\"], [1, \"#276419\"]], \"sequential\": [[0.0, \"#0d0887\"], [0.1111111111111111, \"#46039f\"], [0.2222222222222222, \"#7201a8\"], [0.3333333333333333, \"#9c179e\"], [0.4444444444444444, \"#bd3786\"], [0.5555555555555556, \"#d8576b\"], [0.6666666666666666, \"#ed7953\"], [0.7777777777777778, \"#fb9f3a\"], [0.8888888888888888, \"#fdca26\"], [1.0, \"#f0f921\"]], \"sequentialminus\": [[0.0, \"#0d0887\"], [0.1111111111111111, \"#46039f\"], [0.2222222222222222, \"#7201a8\"], [0.3333333333333333, \"#9c179e\"], [0.4444444444444444, \"#bd3786\"], [0.5555555555555556, \"#d8576b\"], [0.6666666666666666, \"#ed7953\"], [0.7777777777777778, \"#fb9f3a\"], [0.8888888888888888, \"#fdca26\"], [1.0, \"#f0f921\"]]}, \"colorway\": [\"#636efa\", \"#EF553B\", \"#00cc96\", \"#ab63fa\", \"#FFA15A\", \"#19d3f3\", \"#FF6692\", \"#B6E880\", \"#FF97FF\", \"#FECB52\"], \"font\": {\"color\": \"#2a3f5f\"}, \"geo\": {\"bgcolor\": \"white\", \"lakecolor\": \"white\", \"landcolor\": \"#E5ECF6\", \"showlakes\": true, \"showland\": true, \"subunitcolor\": \"white\"}, \"hoverlabel\": {\"align\": \"left\"}, \"hovermode\": \"closest\", \"mapbox\": {\"style\": \"light\"}, \"paper_bgcolor\": \"white\", \"plot_bgcolor\": \"#E5ECF6\", \"polar\": {\"angularaxis\": {\"gridcolor\": \"white\", \"linecolor\": \"white\", \"ticks\": \"\"}, \"bgcolor\": \"#E5ECF6\", \"radialaxis\": {\"gridcolor\": \"white\", \"linecolor\": \"white\", \"ticks\": \"\"}}, \"scene\": {\"xaxis\": {\"backgroundcolor\": \"#E5ECF6\", \"gridcolor\": \"white\", \"gridwidth\": 2, \"linecolor\": \"white\", \"showbackground\": true, \"ticks\": \"\", \"zerolinecolor\": \"white\"}, \"yaxis\": {\"backgroundcolor\": \"#E5ECF6\", \"gridcolor\": \"white\", \"gridwidth\": 2, \"linecolor\": \"white\", \"showbackground\": true, \"ticks\": \"\", \"zerolinecolor\": \"white\"}, \"zaxis\": {\"backgroundcolor\": \"#E5ECF6\", \"gridcolor\": \"white\", \"gridwidth\": 2, \"linecolor\": \"white\", \"showbackground\": true, \"ticks\": \"\", \"zerolinecolor\": \"white\"}}, \"shapedefaults\": {\"line\": {\"color\": \"#2a3f5f\"}}, \"ternary\": {\"aaxis\": {\"gridcolor\": \"white\", \"linecolor\": \"white\", \"ticks\": \"\"}, \"baxis\": {\"gridcolor\": \"white\", \"linecolor\": \"white\", \"ticks\": \"\"}, \"bgcolor\": \"#E5ECF6\", \"caxis\": {\"gridcolor\": \"white\", \"linecolor\": \"white\", \"ticks\": \"\"}}, \"title\": {\"x\": 0.05}, \"xaxis\": {\"automargin\": true, \"gridcolor\": \"white\", \"linecolor\": \"white\", \"ticks\": \"\", \"title\": {\"standoff\": 15}, \"zerolinecolor\": \"white\", \"zerolinewidth\": 2}, \"yaxis\": {\"automargin\": true, \"gridcolor\": \"white\", \"linecolor\": \"white\", \"ticks\": \"\", \"title\": {\"standoff\": 15}, \"zerolinecolor\": \"white\", \"zerolinewidth\": 2}}}, \"width\": 900, \"xaxis\": {\"gridcolor\": \"#EDC9C4\", \"linecolor\": \"black\", \"range\": [-3.155, -1.6965818195541233], \"showgrid\": true, \"tickangle\": 45, \"tickformat\": \".3%\", \"title\": {\"text\": \"Words in Text Messages\"}, \"type\": \"log\"}, \"yaxis\": {\"gridcolor\": \"#EDC9C4\", \"linecolor\": \"black\", \"range\": [-3.155, -1.6965818195541233], \"showgrid\": true, \"tickformat\": \".3%\", \"title\": {\"text\": \"Words in Images\"}, \"type\": \"log\"}},                        {\"responsive\": true}                    ).then(function(){\n",
       "                            \n",
       "var gd = document.getElementById('5661f1b0-9f7e-4429-97e9-39140905c96f');\n",
       "var x = new MutationObserver(function (mutations, observer) {{\n",
       "        var display = window.getComputedStyle(gd).display;\n",
       "        if (!display || display === 'none') {{\n",
       "            console.log([gd, 'removed!']);\n",
       "            Plotly.purge(gd);\n",
       "            observer.disconnect();\n",
       "        }}\n",
       "}});\n",
       "\n",
       "// Listen for the removal of the full notebook cells\n",
       "var notebookContainer = gd.closest('#notebook-container');\n",
       "if (notebookContainer) {{\n",
       "    x.observe(notebookContainer, {childList: true});\n",
       "}}\n",
       "\n",
       "// Listen for the clearing of the current output cell\n",
       "var outputEl = gd.closest('.output');\n",
       "if (outputEl) {{\n",
       "    x.observe(outputEl, {childList: true});\n",
       "}}\n",
       "\n",
       "                        })                };                });            </script>        </div>"
      ]
     },
     "metadata": {},
     "output_type": "display_data"
    }
   ],
   "source": [
    "import plotly.graph_objects as go\n",
    "import plotly.express as px\n",
    "\n",
    "fig = go.Figure()\n",
    "\n",
    "fig.add_trace(\n",
    "    go.Scatter(x=result_clean[\"WA_proportion\"], y=result_clean[\"img_proportion\"],\n",
    "              mode=\"markers+text\",text=result_clean[\"word\"],\n",
    "              textposition='bottom left',\n",
    "              marker=dict(\n",
    "                    color='#514E80',\n",
    "                    size=5,\n",
    "                    opacity=0.5,),\n",
    "              name = \"\",\n",
    "              )\n",
    "              \n",
    ")\n",
    "\n",
    "ax_arr = np.arange(0, 1.0375284158)\n",
    "fig.add_trace(go.Scatter(\n",
    "        x=ax_arr,\n",
    "        y=ax_arr,\n",
    "        mode=\"lines\",\n",
    "        line=dict(color=\"#c2c2d6\", \n",
    "                 dash='dot'),\n",
    "        name=\"y=x\")\n",
    "        \n",
    ")\n",
    "\n",
    "\n",
    "fig.update_xaxes(type=\"log\", range=[-3.155, -1.6965818195541233],\n",
    "                 showgrid=True,linecolor='black',gridcolor='#EDC9C4')\n",
    "fig.update_yaxes(type=\"log\", range=[-3.155, -1.6965818195541233],\n",
    "                 showgrid=True,linecolor='black',gridcolor='#EDC9C4')\n",
    "\n",
    "\n",
    "\n",
    "fig.update_layout(\n",
    "    plot_bgcolor=\"white\",\n",
    "    autosize=False,\n",
    "    width=900,\n",
    "    height=900,\n",
    "    yaxis=dict(tickformat=\".3%\"),\n",
    "    xaxis=dict(tickformat=\".3%\",tickangle=45),\n",
    "    xaxis_title=\"Words in Text Messages\",\n",
    "    yaxis_title=\"Words in Images\"\n",
    ")\n",
    "\n",
    "fig.show()"
   ]
  },
  {
   "cell_type": "code",
   "execution_count": 250,
   "metadata": {},
   "outputs": [
    {
     "name": "stdout",
     "output_type": "stream",
     "text": [
      "(-3.5, -1.6965818195541233)\n",
      "(-3.5, -1.6965818195541233)\n"
     ]
    }
   ],
   "source": [
    "# fig = px.scatter(result_clean, x=\"WA_proportion\", y=\"img_proportion\", text=\"word\", size_max=60, \n",
    "#                  trendline=\"ols\",\n",
    "#                  log_x=True, log_y=True)\n",
    "\n",
    "\n",
    "# fig.update_traces(textposition='top center')\n",
    "\n",
    "# fig.update_layout(\n",
    "#     #height=800,\n",
    "#     #plot_bgcolor=\"white\",\n",
    "#     title_text='Comparison of Words Found in Text Messages and Images'\n",
    "   \n",
    "# )\n",
    "\n",
    "full_fig = fig.full_figure_for_development()\n",
    "print(full_fig.layout.xaxis.range)\n",
    "print(full_fig.layout.yaxis.range)"
   ]
  },
  {
   "cell_type": "code",
   "execution_count": 89,
   "metadata": {},
   "outputs": [
    {
     "name": "stdout",
     "output_type": "stream",
     "text": [
      "0.614482103115227\n",
      "0.6144819326148592 4.099461467289302e-05\n"
     ]
    },
    {
     "data": {
      "image/png": "[encoded data removed]",
      "text/plain": [
       "<Figure size 432x288 with 1 Axes>"
      ]
     },
     "metadata": {
      "needs_background": "light"
     },
     "output_type": "display_data"
    }
   ],
   "source": [
    "x = result_clean[\"WA_proportion\"]\n",
    "y = result_clean[\"img_proportion\"]\n",
    "\n",
    "\n",
    "# sdx = np.std(x)\n",
    "# sdy = np.std(y)\n",
    "\n",
    "# beta = (sdy/sdx)*0.820648\n",
    "# print(beta)\n",
    "\n",
    "\n",
    "## Plot Abline\n",
    "axes = plt.gca()\n",
    "# Find the slope and intercept of the best fit line\n",
    "slope, intercept = np.polyfit(x, y, 1)\n",
    "\n",
    "print(slope,intercept)"
   ]
  },
  {
   "cell_type": "code",
   "execution_count": 2,
   "metadata": {},
   "outputs": [],
   "source": [
    "# x = result_clean[\"WA_proportion\"]\n",
    "# y = result_clean[\"img_proportion\"]\n",
    "# fig = plt.figure(figsize=(12, 12))\n",
    "\n",
    "# # Plot the best fit line over the actual values\n",
    "# plt.scatter(x=\"WA_proportion\", y=\"img_proportion\", data=result_clean)\n",
    "# plt.xlim([0, 0.018])\n",
    "# plt.ylim(0, 0.018)\n",
    "\n",
    "\n",
    "# ## Plot Abline\n",
    "# axes = plt.gca()\n",
    "# # Find the slope and intercept of the best fit line\n",
    "# slope, intercept = np.polyfit(x, y, 1)\n",
    "# print(slope,intercept)\n",
    "\n",
    "# # Create a list of values in the best fit line\n",
    "# abline_values = [slope * i + intercept for i in x]\n",
    "\n",
    "# plt.plot(x, abline_values, '--', color=\"gray\")\n",
    "\n",
    "# plt.xlabel(\"Proportion of word in text Messages\")\n",
    "# plt.ylabel(\"Proportion of word in Images\")\n"
   ]
  },
  {
   "cell_type": "code",
   "execution_count": 1,
   "metadata": {},
   "outputs": [],
   "source": [
    "# import seaborn as sns\n",
    "# fig = plt.figure(figsize=(12, 12))\n",
    "\n",
    "# sns.set_theme(style=\"white\")\n",
    "\n",
    "# cmap =  sns.cubehelix_palette(as_cmap=True)\n",
    "\n",
    "# splt = sns.scatterplot(x=\"WA_proportion\", y=\"img_proportion\", data=result_clean, \n",
    "#                 #hue='prop_diff', \n",
    "#                 sizes=(40, 400), alpha=.5, palette=\"muted\",\n",
    "#                 cmap=cmap)\n",
    "\n",
    "# splt.set(ylim=(0, 0.018))\n",
    "# splt.set(xlim=(0, 0.018))"
   ]
  },
  {
   "cell_type": "code",
   "execution_count": null,
   "metadata": {},
   "outputs": [],
   "source": []
  }
 ],
 "metadata": {
  "kernelspec": {
   "display_name": "Python 3",
   "language": "python",
   "name": "python3"
  },
  "language_info": {
   "codemirror_mode": {
    "name": "ipython",
    "version": 3
   },
   "file_extension": ".py",
   "mimetype": "text/x-python",
   "name": "python",
   "nbconvert_exporter": "python",
   "pygments_lexer": "ipython3",
   "version": "3.8.6"
  }
 },
 "nbformat": 4,
 "nbformat_minor": 4
}
