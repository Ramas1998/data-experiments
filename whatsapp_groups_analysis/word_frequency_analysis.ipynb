{
 "cells": [
  {
   "cell_type": "code",
   "execution_count": 1,
   "metadata": {},
   "outputs": [],
   "source": [
    "import json\n",
    "import pandas as pd\n",
    "import re\n",
    "from googletrans import Translator\n",
    "from google_trans_new import google_translator  \n",
    "import time\n",
    "from time import sleep\n",
    "from random import uniform\n",
    "import datetime\n",
    "from datetime import date, timezone\n",
    "from wordcloud import WordCloud, STOPWORDS, ImageColorGenerator\n",
    "import matplotlib.pyplot as plt\n",
    "from nltk.corpus import stopwords\n",
    "import nltk\n",
    "from gensim.utils import simple_preprocess\n",
    "import spacy\n",
    "import gensim.corpora as corpora\n",
    "import matplotlib.pyplot as plt\n",
    "import numpy as np"
   ]
  },
  {
   "cell_type": "markdown",
   "metadata": {},
   "source": [
    "# 1. Image Text Analysis"
   ]
  },
  {
   "cell_type": "markdown",
   "metadata": {},
   "source": [
    "## 1.1 Prepare Data"
   ]
  },
  {
   "cell_type": "code",
   "execution_count": 2,
   "metadata": {},
   "outputs": [],
   "source": [
    "# Defining a function to remove accented characters in English text\n",
    "def remove_accents(sentence):\n",
    "    return \", \".join(simple_preprocess(str(sentence), deacc=True, max_len=100))\n",
    "\n",
    "# Detecting non-English text using regex\n",
    "def detect_lang(text):\n",
    "    pat = re.compile(\"[^\\x00-\\x7F]\") # matches non-English characters\n",
    "    if pat.search(text):\n",
    "        return 0\n",
    "    else:\n",
    "        return 1"
   ]
  },
  {
   "cell_type": "code",
   "execution_count": 3,
   "metadata": {},
   "outputs": [
    {
     "name": "stderr",
     "output_type": "stream",
     "text": [
      "<ipython-input-3-75c7cc6f8833>:13: SettingWithCopyWarning: \n",
      "A value is trying to be set on a copy of a slice from a DataFrame.\n",
      "Try using .loc[row_indexer,col_indexer] = value instead\n",
      "\n",
      "See the caveats in the documentation: http://pandas.pydata.org/pandas-docs/stable/user_guide/indexing.html#returning-a-view-versus-a-copy\n",
      "  english[\"english_text\"] =english[\"text\"]\n"
     ]
    }
   ],
   "source": [
    "## text in image\n",
    "with open('../image_text.json') as f:\n",
    "  data_dict = json.load(f)\n",
    "\n",
    "df = pd.DataFrame.from_dict(data_dict)\n",
    "df = df.T\n",
    "df = df.reset_index()\n",
    "clean_df = df\n",
    "\n",
    "clean_df[\"is_english\"] = df[\"text\"].map(detect_lang)\n",
    "unique_df = clean_df.drop_duplicates(subset = [\"text\"])\n",
    "english = unique_df[(unique_df['is_english'] ==1)]\n",
    "english[\"english_text\"] =english[\"text\"]"
   ]
  },
  {
   "cell_type": "code",
   "execution_count": 4,
   "metadata": {},
   "outputs": [],
   "source": [
    "non_english = pd.read_csv('non_english_jun2021.csv')"
   ]
  },
  {
   "cell_type": "code",
   "execution_count": 5,
   "metadata": {},
   "outputs": [
    {
     "name": "stderr",
     "output_type": "stream",
     "text": [
      "<ipython-input-5-c27270e107fc>:1: FutureWarning: Sorting because non-concatenation axis is not aligned. A future version\n",
      "of pandas will change to not sort by default.\n",
      "\n",
      "To accept the future behavior, pass 'sort=False'.\n",
      "\n",
      "To retain the current behavior and silence the warning, pass 'sort=True'.\n",
      "\n",
      "  all_english = pd.concat([english, non_english])\n"
     ]
    }
   ],
   "source": [
    "all_english = pd.concat([english, non_english])"
   ]
  },
  {
   "cell_type": "markdown",
   "metadata": {},
   "source": [
    "## 1.2. Tokenize Data"
   ]
  },
  {
   "cell_type": "code",
   "execution_count": 7,
   "metadata": {},
   "outputs": [],
   "source": [
    "#all_english.iloc[1]['english_text']"
   ]
  },
  {
   "cell_type": "code",
   "execution_count": 92,
   "metadata": {},
   "outputs": [],
   "source": [
    "# from nltk.tokenize import word_tokenize\n",
    "# all_text = all_english[\"english_text\"].str.cat(sep='\\n')\n",
    "# tokenized_word= word_tokenize(all_text)\n",
    "# print(tokenized_word)"
   ]
  },
  {
   "cell_type": "code",
   "execution_count": 133,
   "metadata": {
    "scrolled": true
   },
   "outputs": [],
   "source": [
    "# from nltk.probability import FreqDist\n",
    "# fdist = FreqDist(tokenized_word)\n",
    "# print(fdist)"
   ]
  },
  {
   "cell_type": "code",
   "execution_count": 134,
   "metadata": {},
   "outputs": [],
   "source": [
    "# # Frequency Distribution Plot\n",
    "# import matplotlib.pyplot as plt\n",
    "# fdist.plot(30,cumulative=False)\n",
    "# plt.show()"
   ]
  },
  {
   "cell_type": "code",
   "execution_count": 94,
   "metadata": {},
   "outputs": [],
   "source": [
    "# Creating stop words list\n",
    "stop_words = stopwords.words(\"english\")\n",
    "\n",
    "# Adding domain words \n",
    "stop_words.extend([\"will\",\"yes\",\"#\",\".\",\"_\",\"%\",\"|\",\"r\",\"sr\"])"
   ]
  },
  {
   "cell_type": "code",
   "execution_count": 146,
   "metadata": {},
   "outputs": [],
   "source": [
    "# nlp = spacy.load('en_core_web_sm')\n",
    "# doc = nlp(\"Little update Any blood group will do as we would be\")\n",
    "# for token in doc:\n",
    "#     print(token.text, token.lemma_, token.pos_, token.tag_, token.dep_,\n",
    "#         token.shape_, token.is_alpha, token.is_stop)"
   ]
  },
  {
   "cell_type": "code",
   "execution_count": 9,
   "metadata": {},
   "outputs": [],
   "source": [
    "nlp = spacy.load('en_core_web_sm')\n",
    "allowed_posttags=[\"NOUN\", \"PROPN\", \"VERB\", \"ADJ\", \"ADV\"]\n",
    "lemmatized_tokens = []\n",
    "for text in all_english[\"english_text\"]:\n",
    "    #print(text)\n",
    "    doc = nlp(text)\n",
    "    for token in doc:\n",
    "        if(token.pos_ in allowed_posttags):\n",
    "            lemmatized_tokens.append(token.lemma_)\n",
    "        #print(token.text, token.lemma_, token.pos_, token.tag_, token.dep_,\n",
    "        #    token.shape_, token.is_alpha, token.is_stop)"
   ]
  },
  {
   "cell_type": "code",
   "execution_count": 95,
   "metadata": {},
   "outputs": [],
   "source": [
    "lemmatized_tokens_lower = map(str.lower, lemmatized_tokens)"
   ]
  },
  {
   "cell_type": "code",
   "execution_count": 96,
   "metadata": {},
   "outputs": [],
   "source": [
    "lemmatized_tokens_stopped = [token for token in lemmatized_tokens_lower if token not in stop_words]"
   ]
  },
  {
   "cell_type": "code",
   "execution_count": 63,
   "metadata": {},
   "outputs": [
    {
     "ename": "TypeError",
     "evalue": "list indices must be integers or slices, not str",
     "output_type": "error",
     "traceback": [
      "\u001b[0;31m---------------------------------------------------------------------------\u001b[0m",
      "\u001b[0;31mTypeError\u001b[0m                                 Traceback (most recent call last)",
      "\u001b[0;32m<ipython-input-63-2ce474dcc1b8>\u001b[0m in \u001b[0;36m<module>\u001b[0;34m\u001b[0m\n\u001b[0;32m----> 1\u001b[0;31m \u001b[0mlemmatized_tokens_stopped\u001b[0m \u001b[0;34m=\u001b[0m \u001b[0mlemmatized_tokens_stopped\u001b[0m\u001b[0;34m[\u001b[0m\u001b[0mlemmatized_tokens_stopped\u001b[0m\u001b[0;34m[\u001b[0m\u001b[0;34m'english_text'\u001b[0m\u001b[0;34m]\u001b[0m\u001b[0;34m.\u001b[0m\u001b[0mapply\u001b[0m\u001b[0;34m(\u001b[0m\u001b[0;32mlambda\u001b[0m \u001b[0mx\u001b[0m\u001b[0;34m:\u001b[0m \u001b[0mlen\u001b[0m\u001b[0;34m(\u001b[0m\u001b[0mstr\u001b[0m\u001b[0;34m(\u001b[0m\u001b[0mx\u001b[0m\u001b[0;34m)\u001b[0m\u001b[0;34m)\u001b[0m \u001b[0;34m>\u001b[0m\u001b[0;36m3\u001b[0m\u001b[0;34m)\u001b[0m\u001b[0;34m]\u001b[0m\u001b[0;34m\u001b[0m\u001b[0;34m\u001b[0m\u001b[0m\n\u001b[0m",
      "\u001b[0;31mTypeError\u001b[0m: list indices must be integers or slices, not str"
     ]
    }
   ],
   "source": [
    "#lemmatized_tokens_stopped = lemmatized_tokens_stopped[lemmatized_tokens_stopped['english_text'].apply(lambda x: len(str(x)) >3)]"
   ]
  },
  {
   "cell_type": "code",
   "execution_count": 97,
   "metadata": {},
   "outputs": [
    {
     "name": "stdout",
     "output_type": "stream",
     "text": [
      "<FreqDist with 25122 samples and 133901 outcomes>\n"
     ]
    }
   ],
   "source": [
    "from nltk.probability import FreqDist\n",
    "fdist = FreqDist(lemmatized_tokens_stopped)\n",
    "print(fdist)"
   ]
  },
  {
   "cell_type": "code",
   "execution_count": 98,
   "metadata": {},
   "outputs": [
    {
     "data": {
      "image/png": "[encoded data removed]",
      "text/plain": [
       "<Figure size 432x288 with 1 Axes>"
      ]
     },
     "metadata": {
      "needs_background": "light"
     },
     "output_type": "display_data"
    }
   ],
   "source": [
    "# Frequency Distribution Plot\n",
    "import matplotlib.pyplot as plt\n",
    "fdist.plot(30,cumulative=False)\n",
    "plt.show()"
   ]
  },
  {
   "cell_type": "code",
   "execution_count": 102,
   "metadata": {},
   "outputs": [],
   "source": [
    "image_word_freq = pd.DataFrame(fdist.items(), columns=['word', 'frequency'])\n",
    "image_total_words = sum(image_word_freq['frequency']) #len(WA_word_freq)\n",
    "image_word_freq['img_proportion'] = image_word_freq['frequency']/image_total_words"
   ]
  },
  {
   "cell_type": "code",
   "execution_count": 103,
   "metadata": {},
   "outputs": [
    {
     "data": {
      "text/html": [
       "<div>\n",
       "<style scoped>\n",
       "    .dataframe tbody tr th:only-of-type {\n",
       "        vertical-align: middle;\n",
       "    }\n",
       "\n",
       "    .dataframe tbody tr th {\n",
       "        vertical-align: top;\n",
       "    }\n",
       "\n",
       "    .dataframe thead th {\n",
       "        text-align: right;\n",
       "    }\n",
       "</style>\n",
       "<table border=\"1\" class=\"dataframe\">\n",
       "  <thead>\n",
       "    <tr style=\"text-align: right;\">\n",
       "      <th></th>\n",
       "      <th>word</th>\n",
       "      <th>frequency</th>\n",
       "      <th>img_proportion</th>\n",
       "    </tr>\n",
       "  </thead>\n",
       "  <tbody>\n",
       "    <tr>\n",
       "      <th>0</th>\n",
       "      <td>little</td>\n",
       "      <td>18</td>\n",
       "      <td>0.000134</td>\n",
       "    </tr>\n",
       "    <tr>\n",
       "      <th>1</th>\n",
       "      <td>update</td>\n",
       "      <td>53</td>\n",
       "      <td>0.000396</td>\n",
       "    </tr>\n",
       "    <tr>\n",
       "      <th>2</th>\n",
       "      <td>blood</td>\n",
       "      <td>1205</td>\n",
       "      <td>0.008999</td>\n",
       "    </tr>\n",
       "    <tr>\n",
       "      <th>3</th>\n",
       "      <td>group</td>\n",
       "      <td>374</td>\n",
       "      <td>0.002793</td>\n",
       "    </tr>\n",
       "    <tr>\n",
       "      <th>4</th>\n",
       "      <td>would</td>\n",
       "      <td>66</td>\n",
       "      <td>0.000493</td>\n",
       "    </tr>\n",
       "    <tr>\n",
       "      <th>...</th>\n",
       "      <td>...</td>\n",
       "      <td>...</td>\n",
       "      <td>...</td>\n",
       "    </tr>\n",
       "    <tr>\n",
       "      <th>25117</th>\n",
       "      <td>paeumothena</td>\n",
       "      <td>1</td>\n",
       "      <td>0.000007</td>\n",
       "    </tr>\n",
       "    <tr>\n",
       "      <th>25118</th>\n",
       "      <td>sav</td>\n",
       "      <td>1</td>\n",
       "      <td>0.000007</td>\n",
       "    </tr>\n",
       "    <tr>\n",
       "      <th>25119</th>\n",
       "      <td>tabel</td>\n",
       "      <td>1</td>\n",
       "      <td>0.000007</td>\n",
       "    </tr>\n",
       "    <tr>\n",
       "      <th>25120</th>\n",
       "      <td>govnd</td>\n",
       "      <td>1</td>\n",
       "      <td>0.000007</td>\n",
       "    </tr>\n",
       "    <tr>\n",
       "      <th>25121</th>\n",
       "      <td>receip</td>\n",
       "      <td>1</td>\n",
       "      <td>0.000007</td>\n",
       "    </tr>\n",
       "  </tbody>\n",
       "</table>\n",
       "<p>25122 rows × 3 columns</p>\n",
       "</div>"
      ],
      "text/plain": [
       "              word  frequency  img_proportion\n",
       "0           little         18        0.000134\n",
       "1           update         53        0.000396\n",
       "2            blood       1205        0.008999\n",
       "3            group        374        0.002793\n",
       "4            would         66        0.000493\n",
       "...            ...        ...             ...\n",
       "25117  paeumothena          1        0.000007\n",
       "25118          sav          1        0.000007\n",
       "25119        tabel          1        0.000007\n",
       "25120        govnd          1        0.000007\n",
       "25121       receip          1        0.000007\n",
       "\n",
       "[25122 rows x 3 columns]"
      ]
     },
     "execution_count": 103,
     "metadata": {},
     "output_type": "execute_result"
    }
   ],
   "source": [
    "image_word_freq"
   ]
  },
  {
   "cell_type": "markdown",
   "metadata": {},
   "source": [
    "# 2. Analysis of WhatsApp Conversations"
   ]
  },
  {
   "cell_type": "markdown",
   "metadata": {},
   "source": [
    "## 2.1 Prepare Data"
   ]
  },
  {
   "cell_type": "code",
   "execution_count": 21,
   "metadata": {},
   "outputs": [],
   "source": [
    "WA_text = pd.read_csv('whatsapp_text_all_english_2021.csv')\n",
    "WA_text = WA_text[WA_text['Has Media'] == False]\n",
    "\n",
    "excluded_groups = ['1d80c681c6bd089ed87f5621b2b5a5c1b863e978cf3bc1bceddfe3634e9713c5',\n",
    "                  '3b7ab2f5937776fc15436c4aa8c7ce4a5794d04dcc7abd634a26b23a43baed90',\n",
    "                  '53256805e4ca4bc13d0f6b0def75afa1ea2f85be25015d123b20faab3506503a',\n",
    "                  '334f40dd68492c94847832d40b67b59f675dc3da577ed548390c3511f6459f67',\n",
    "                  '6ddab15f6695c440c164230b4d1aacff195423fc3759191bf4179c990a617c45',\n",
    "                  '88f77040e70941006eff31f4297352cf7b1453e3a2b15a9c7c25f590a2a90354']\n",
    "WA_text = WA_text[~WA_text['Group ID'].isin(excluded_groups)]"
   ]
  },
  {
   "cell_type": "code",
   "execution_count": 22,
   "metadata": {},
   "outputs": [
    {
     "data": {
      "text/plain": [
       "(7542, 14)"
      ]
     },
     "execution_count": 22,
     "metadata": {},
     "output_type": "execute_result"
    }
   ],
   "source": [
    "WA_text.shape"
   ]
  },
  {
   "cell_type": "markdown",
   "metadata": {},
   "source": [
    "## 2.2 Tokenize Data"
   ]
  },
  {
   "cell_type": "code",
   "execution_count": 71,
   "metadata": {},
   "outputs": [],
   "source": [
    "nlp = spacy.load('en_core_web_sm')\n",
    "allowed_posttags=[\"NOUN\", \"PROPN\", \"VERB\", \"ADJ\", \"ADV\"]\n",
    "WA_lemmatized_tokens = []\n",
    "for text in WA_text[\"english_Content\"]:\n",
    "    #print(text)\n",
    "    doc = nlp(text)\n",
    "    for token in doc:\n",
    "        if(token.pos_ in allowed_posttags):\n",
    "            WA_lemmatized_tokens.append(token.lemma_)\n",
    "        #print(token.text, token.lemma_, token.pos_, token.tag_, token.dep_,\n",
    "        #    token.shape_, token.is_alpha, token.is_stop)"
   ]
  },
  {
   "cell_type": "code",
   "execution_count": 72,
   "metadata": {},
   "outputs": [],
   "source": [
    "WA_lemmatized_tokens_lower = map(str.lower, WA_lemmatized_tokens)\n",
    "WA_lemmatized_tokens_stopped = [token for token in WA_lemmatized_tokens_lower if token not in stop_words]"
   ]
  },
  {
   "cell_type": "code",
   "execution_count": 73,
   "metadata": {},
   "outputs": [
    {
     "name": "stdout",
     "output_type": "stream",
     "text": [
      "<FreqDist with 12427 samples and 80260 outcomes>\n"
     ]
    }
   ],
   "source": [
    "from nltk.probability import FreqDist\n",
    "WA_fdist = FreqDist(WA_lemmatized_tokens_stopped)\n",
    "print(WA_fdist)"
   ]
  },
  {
   "cell_type": "code",
   "execution_count": 74,
   "metadata": {},
   "outputs": [],
   "source": [
    "WA_word_freq=pd.DataFrame(WA_fdist.items(), columns=['word', 'frequency'])"
   ]
  },
  {
   "cell_type": "code",
   "execution_count": 140,
   "metadata": {},
   "outputs": [],
   "source": [
    "# # Frequency Distribution Plot\n",
    "# import matplotlib.pyplot as plt\n",
    "# WA_fdist.plot(30,cumulative=False)\n",
    "# plt.show()"
   ]
  },
  {
   "cell_type": "code",
   "execution_count": 75,
   "metadata": {},
   "outputs": [],
   "source": [
    "WA_total_words = sum(WA_word_freq['frequency']) #len(WA_word_freq)"
   ]
  },
  {
   "cell_type": "code",
   "execution_count": 76,
   "metadata": {},
   "outputs": [],
   "source": [
    "WA_word_freq['WA_proportion'] = WA_word_freq['frequency']/WA_total_words"
   ]
  },
  {
   "cell_type": "code",
   "execution_count": 77,
   "metadata": {},
   "outputs": [
    {
     "data": {
      "text/html": [
       "<div>\n",
       "<style scoped>\n",
       "    .dataframe tbody tr th:only-of-type {\n",
       "        vertical-align: middle;\n",
       "    }\n",
       "\n",
       "    .dataframe tbody tr th {\n",
       "        vertical-align: top;\n",
       "    }\n",
       "\n",
       "    .dataframe thead th {\n",
       "        text-align: right;\n",
       "    }\n",
       "</style>\n",
       "<table border=\"1\" class=\"dataframe\">\n",
       "  <thead>\n",
       "    <tr style=\"text-align: right;\">\n",
       "      <th></th>\n",
       "      <th>word</th>\n",
       "      <th>frequency</th>\n",
       "      <th>WA_proportion</th>\n",
       "    </tr>\n",
       "  </thead>\n",
       "  <tbody>\n",
       "    <tr>\n",
       "      <th>0</th>\n",
       "      <td>https://twitter.com/thejibrailkhan/status/1393...</td>\n",
       "      <td>1</td>\n",
       "      <td>0.000012</td>\n",
       "    </tr>\n",
       "    <tr>\n",
       "      <th>1</th>\n",
       "      <td>read</td>\n",
       "      <td>42</td>\n",
       "      <td>0.000523</td>\n",
       "    </tr>\n",
       "  </tbody>\n",
       "</table>\n",
       "</div>"
      ],
      "text/plain": [
       "                                                word  frequency  WA_proportion\n",
       "0  https://twitter.com/thejibrailkhan/status/1393...          1       0.000012\n",
       "1                                               read         42       0.000523"
      ]
     },
     "execution_count": 77,
     "metadata": {},
     "output_type": "execute_result"
    }
   ],
   "source": [
    "WA_word_freq.head(2)"
   ]
  },
  {
   "cell_type": "markdown",
   "metadata": {},
   "source": [
    "# 3. Compare Image and Text Data"
   ]
  },
  {
   "cell_type": "code",
   "execution_count": 104,
   "metadata": {},
   "outputs": [],
   "source": [
    "result = pd.merge(WA_word_freq, image_word_freq, how=\"outer\", on=[\"word\"])"
   ]
  },
  {
   "cell_type": "code",
   "execution_count": 120,
   "metadata": {},
   "outputs": [],
   "source": [
    "# result_inner = pd.merge(WA_word_freq, image_word_freq, how=\"outer\", on=[\"word\"])\n",
    "# result['WA_proportion'] = result['frequency_x']/76862\n",
    "# result['img_proportion'] = result['frequency_y']/102893\n",
    "# print(sum(result['frequency_y']))\n",
    "# print(sum(WA_word_freq['frequency']))"
   ]
  },
  {
   "cell_type": "code",
   "execution_count": 105,
   "metadata": {},
   "outputs": [
    {
     "data": {
      "text/html": [
       "<div>\n",
       "<style scoped>\n",
       "    .dataframe tbody tr th:only-of-type {\n",
       "        vertical-align: middle;\n",
       "    }\n",
       "\n",
       "    .dataframe tbody tr th {\n",
       "        vertical-align: top;\n",
       "    }\n",
       "\n",
       "    .dataframe thead th {\n",
       "        text-align: right;\n",
       "    }\n",
       "</style>\n",
       "<table border=\"1\" class=\"dataframe\">\n",
       "  <thead>\n",
       "    <tr style=\"text-align: right;\">\n",
       "      <th></th>\n",
       "      <th>word</th>\n",
       "      <th>frequency_x</th>\n",
       "      <th>WA_proportion</th>\n",
       "      <th>frequency_y</th>\n",
       "      <th>img_proportion</th>\n",
       "    </tr>\n",
       "  </thead>\n",
       "  <tbody>\n",
       "    <tr>\n",
       "      <th>0</th>\n",
       "      <td>https://twitter.com/thejibrailkhan/status/1393...</td>\n",
       "      <td>1.0</td>\n",
       "      <td>0.000012</td>\n",
       "      <td>NaN</td>\n",
       "      <td>NaN</td>\n",
       "    </tr>\n",
       "    <tr>\n",
       "      <th>1</th>\n",
       "      <td>read</td>\n",
       "      <td>42.0</td>\n",
       "      <td>0.000523</td>\n",
       "      <td>63.0</td>\n",
       "      <td>0.00047</td>\n",
       "    </tr>\n",
       "  </tbody>\n",
       "</table>\n",
       "</div>"
      ],
      "text/plain": [
       "                                                word  frequency_x  \\\n",
       "0  https://twitter.com/thejibrailkhan/status/1393...          1.0   \n",
       "1                                               read         42.0   \n",
       "\n",
       "   WA_proportion  frequency_y  img_proportion  \n",
       "0       0.000012          NaN             NaN  \n",
       "1       0.000523         63.0         0.00047  "
      ]
     },
     "execution_count": 105,
     "metadata": {},
     "output_type": "execute_result"
    }
   ],
   "source": [
    "result.head(2)"
   ]
  },
  {
   "cell_type": "code",
   "execution_count": 106,
   "metadata": {},
   "outputs": [],
   "source": [
    "result['prop_diff'] = abs(result[\"WA_proportion\"] - result[\"img_proportion\"])"
   ]
  },
  {
   "cell_type": "code",
   "execution_count": 107,
   "metadata": {},
   "outputs": [
    {
     "data": {
      "text/html": [
       "<div>\n",
       "<style scoped>\n",
       "    .dataframe tbody tr th:only-of-type {\n",
       "        vertical-align: middle;\n",
       "    }\n",
       "\n",
       "    .dataframe tbody tr th {\n",
       "        vertical-align: top;\n",
       "    }\n",
       "\n",
       "    .dataframe thead th {\n",
       "        text-align: right;\n",
       "    }\n",
       "</style>\n",
       "<table border=\"1\" class=\"dataframe\">\n",
       "  <thead>\n",
       "    <tr style=\"text-align: right;\">\n",
       "      <th></th>\n",
       "      <th>WA_proportion</th>\n",
       "      <th>img_proportion</th>\n",
       "    </tr>\n",
       "  </thead>\n",
       "  <tbody>\n",
       "    <tr>\n",
       "      <th>WA_proportion</th>\n",
       "      <td>1.000000</td>\n",
       "      <td>0.831193</td>\n",
       "    </tr>\n",
       "    <tr>\n",
       "      <th>img_proportion</th>\n",
       "      <td>0.831193</td>\n",
       "      <td>1.000000</td>\n",
       "    </tr>\n",
       "  </tbody>\n",
       "</table>\n",
       "</div>"
      ],
      "text/plain": [
       "                WA_proportion  img_proportion\n",
       "WA_proportion        1.000000        0.831193\n",
       "img_proportion       0.831193        1.000000"
      ]
     },
     "execution_count": 107,
     "metadata": {},
     "output_type": "execute_result"
    }
   ],
   "source": [
    "temp = result[[\"WA_proportion\",\"img_proportion\"]]\n",
    "temp.corr(method='pearson')#, min_periods=1)"
   ]
  },
  {
   "cell_type": "code",
   "execution_count": 226,
   "metadata": {},
   "outputs": [],
   "source": [
    "result_clean = result[result.WA_proportion.notnull()]\n",
    "result_clean = result_clean[result_clean.img_proportion.notnull()]\n"
   ]
  },
  {
   "cell_type": "code",
   "execution_count": 227,
   "metadata": {},
   "outputs": [],
   "source": [
    "result_clean =result_clean[(result_clean['WA_proportion'] > 0.0004) & (result_clean['img_proportion'] > 0.0004)]"
   ]
  },
  {
   "cell_type": "code",
   "execution_count": 228,
   "metadata": {},
   "outputs": [
    {
     "data": {
      "text/plain": [
       "(242, 6)"
      ]
     },
     "execution_count": 228,
     "metadata": {},
     "output_type": "execute_result"
    }
   ],
   "source": [
    "result_clean.shape"
   ]
  },
  {
   "cell_type": "code",
   "execution_count": 171,
   "metadata": {},
   "outputs": [],
   "source": [
    "result_clean.to_csv('check_Words.csv')"
   ]
  },
  {
   "cell_type": "markdown",
   "metadata": {},
   "source": [
    "# 4. Plot Graphs\n"
   ]
  },
  {
   "cell_type": "code",
   "execution_count": 231,
   "metadata": {},
   "outputs": [
    {
     "data": {
      "application/vnd.plotly.v1+json": {
       "config": {
        "plotlyServerURL": "https://plot.ly"
       },
       "data": [
        {
         "hovertemplate": "WA_proportion=%{x}<br>img_proportion=%{y}<br>word=%{text}<extra></extra>",
         "legendgroup": "",
         "marker": {
          "color": "#636efa",
          "symbol": "circle"
         },
         "mode": "markers+text",
         "name": "",
         "orientation": "v",
         "showlegend": false,
         "text": [
          "read",
          "today",
          "people",
          "leave",
          "bed",
          "hospital",
          "home",
          "india",
          "icu",
          "lead",
          "delhi",
          "liposomal",
          "amphotericin",
          "b",
          "pharma",
          "new",
          "private",
          "helpline",
          "also",
          "mg",
          "injection",
          "phone",
          "jaipur",
          "available",
          "month",
          "plasma",
          "bank",
          "would",
          "request",
          "donor",
          "come",
          "help",
          "patient",
          "name",
          "age",
          "level",
          "blood",
          "group",
          "call",
          "life",
          "let",
          "send",
          "case",
          "may",
          "add",
          "contact",
          "require",
          "pradesh",
          "urgent",
          "need",
          "year",
          "location",
          "supply",
          "use",
          "oxygen",
          "jain",
          "covid",
          "positive",
          "admit",
          "number",
          "requirement",
          "city",
          "sir",
          "mother",
          "mr.",
          "last",
          "day",
          "doctor",
          "give",
          "ventilator",
          "save",
          "heart",
          "family",
          "member",
          "share",
          "delivery",
          "pay",
          "whatsapp",
          "follow",
          "link",
          "kumar",
          "concentrator",
          "covid-19",
          "singh",
          "beds",
          "near",
          "central",
          "school",
          "verify",
          "govt",
          "full",
          "time",
          "get",
          "type",
          "good",
          "see",
          "check",
          "free",
          "start",
          "team",
          "ambulance",
          "service",
          "person",
          "work",
          "email",
          "verified",
          "well",
          "right",
          "society",
          "message",
          "cylinder",
          "road",
          "medical",
          "mumbai",
          "medicine",
          "address",
          "old",
          "detail",
          "nagar",
          "pm",
          "drug",
          "non",
          "stock",
          "emergency",
          "support",
          "gandhi",
          "public",
          "say",
          "vaccine",
          "covishield",
          "institute",
          "take",
          "report",
          "government",
          "issue",
          "dose",
          "health",
          "know",
          "die",
          "state",
          "unit",
          "order",
          "list",
          "news",
          "corona",
          "water",
          "minister",
          "country",
          "treatment",
          "dr.",
          "first",
          "hand",
          "general",
          "amount",
          "reddy",
          "form",
          "black",
          "k",
          "many",
          "indian",
          "national",
          "social",
          "area",
          "make",
          "cost",
          "stay",
          "ward",
          "dr",
          "refill",
          "mobile",
          "sharma",
          "condition",
          "second",
          "june",
          "tell",
          "-",
          "ask",
          "online",
          "go",
          "receive",
          "prescription",
          "control",
          "provide",
          "office",
          "back",
          "market",
          "find",
          "friend",
          "father",
          "gupta",
          "college",
          "donate",
          "remdesivir",
          "date",
          "morning",
          "tweet",
          "reach",
          "look",
          "facility",
          "daily",
          "availability",
          "information",
          "high",
          "district",
          "aligarh",
          "slot",
          "h",
          "hour",
          "close",
          "keep",
          "center",
          "telangana",
          "nashik",
          "gas",
          "price",
          "volunteer",
          "food",
          "note",
          "disease",
          "krishna",
          "meal",
          "centre",
          "donation",
          "place",
          "open",
          "post",
          "even",
          "fill",
          "visakhapatnam",
          "hyderabad",
          "problem",
          "vaccination",
          "sri",
          "total",
          "care",
          "test",
          "live",
          "card",
          "n",
          "company",
          "include",
          "relate"
         ],
         "textposition": "top center",
         "type": "scatter",
         "x": [
          0.000523299277348617,
          0.0012833291801644655,
          0.002815848492399701,
          0.0006354348367804635,
          0.0067032145527037125,
          0.01611014203837528,
          0.002217792175429853,
          0.002417144281086469,
          0.0026538749065537007,
          0.004335908298031398,
          0.006715674059307251,
          0.0011088960877149265,
          0.0012334911537503115,
          0.0022053326688263146,
          0.0005855968103663095,
          0.001844006977323698,
          0.000822327435833541,
          0.000797408422626464,
          0.0027037129329678545,
          0.000822327435833541,
          0.002267630201844007,
          0.0011587341141290806,
          0.001096436581111388,
          0.007538001495140793,
          0.0005855968103663095,
          0.004996262148018939,
          0.0011836531273361575,
          0.0010341390480936956,
          0.002068278096187391,
          0.002093197109394468,
          0.0015823573386493895,
          0.008123598305507101,
          0.010179416895090955,
          0.007351108896087715,
          0.0034512833291801643,
          0.001694492898081236,
          0.008734114129080489,
          0.007986543732868178,
          0.0029030650386244706,
          0.001594816845252928,
          0.001370545726389235,
          0.002167954149015699,
          0.0019810615499626216,
          0.0032768502367306255,
          0.0004111637179167705,
          0.009120358833790181,
          0.0038998255669075504,
          0.000797408422626464,
          0.0019810615499626216,
          0.008534762023423872,
          0.001569897832045851,
          0.002317468228258161,
          0.0009843010216795416,
          0.0019561425367555446,
          0.010590580613007725,
          0.000722651383005233,
          0.006802890605532021,
          0.001520059805631697,
          0.001395464739596312,
          0.005170695240468477,
          0.002566658360328931,
          0.0020558185895838523,
          0.001121355594318465,
          0.000622975330176925,
          0.0005108397707450785,
          0.0009593820084724645,
          0.0028781460254173933,
          0.0019312235235484675,
          0.001968602043359083,
          0.0018564664839272366,
          0.0009344629952653875,
          0.000598056316969848,
          0.001918764016944929,
          0.00124595066035385,
          0.002815848492399701,
          0.000622975330176925,
          0.0008846249688512335,
          0.0023548467480687765,
          0.0011587341141290806,
          0.0022302516820333915,
          0.0011338151009220034,
          0.0014079242461998505,
          0.001196112633939696,
          0.0009344629952653875,
          0.0007101918764016945,
          0.00049838026414154,
          0.000523299277348617,
          0.00049838026414154,
          0.006777971592324944,
          0.0009593820084724645,
          0.0005606777971592325,
          0.002442063294293546,
          0.0020059805631696985,
          0.000622975330176925,
          0.001320707699975081,
          0.000872165462247695,
          0.0018813854971343135,
          0.003015200598056317,
          0.0012833291801644655,
          0.001096436581111388,
          0.00099676052828308,
          0.0011462746075255419,
          0.0018813854971343135,
          0.001918764016944929,
          0.000672813356591079,
          0.0013331672065786196,
          0.0008970844754547719,
          0.0005855968103663095,
          0.0010839770745078494,
          0.004784450535758784,
          0.0023299277348616996,
          0.0010092200348866185,
          0.0028033889857961626,
          0.0008846249688512335,
          0.00174433092449539,
          0.001221031647146773,
          0.0008347869424370795,
          0.002417144281086469,
          0.0022053326688263146,
          0.0018315474707201595,
          0.001420383752803389,
          0.0007849489160229255,
          0.000548218290555694,
          0.0011462746075255419,
          0.0019810615499626216,
          0.000598056316969848,
          0.0004859207575380015,
          0.0014079242461998505,
          0.001943683030152006,
          0.0008846249688512335,
          0.0004111637179167705,
          0.0022302516820333915,
          0.001196112633939696,
          0.00149514079242462,
          0.000822327435833541,
          0.0012833291801644655,
          0.0009843010216795416,
          0.0023797657612758534,
          0.0004111637179167705,
          0.0011462746075255419,
          0.0025043608273112384,
          0.000622975330176925,
          0.001844006977323698,
          0.000647894343384002,
          0.0010341390480936956,
          0.0005357587839521555,
          0.0005731373037627709,
          0.0006603538499875404,
          0.0015325193122352355,
          0.000772489409419387,
          0.0009593820084724645,
          0.0006603538499875404,
          0.000548218290555694,
          0.000473461250934463,
          0.00049838026414154,
          0.0015076002990281586,
          0.0009593820084724645,
          0.0008098679292300025,
          0.0009095439820583105,
          0.0005357587839521555,
          0.0004360827311238475,
          0.0004111637179167705,
          0.0012334911537503115,
          0.0014826812858210814,
          0.001295788686768004,
          0.000423623224520309,
          0.0004360827311238475,
          0.001544978818838774,
          0.001171193620732619,
          0.001569897832045851,
          0.000598056316969848,
          0.000772489409419387,
          0.0008098679292300025,
          0.0006852728631946175,
          0.000672813356591079,
          0.0009843010216795416,
          0.0012085721405432346,
          0.0008597059556441565,
          0.002018440069773237,
          0.0005108397707450785,
          0.000847246449040618,
          0.000423623224520309,
          0.001694492898081236,
          0.000622975330176925,
          0.0004859207575380015,
          0.0007849489160229255,
          0.001345626713182158,
          0.002167954149015699,
          0.001021679541490157,
          0.0004610017443309245,
          0.0004859207575380015,
          0.001096436581111388,
          0.00099676052828308,
          0.001868925990530775,
          0.00074757039621231,
          0.001943683030152006,
          0.0007351108896087715,
          0.001370545726389235,
          0.0007101918764016945,
          0.000473461250934463,
          0.000697732369798156,
          0.001868925990530775,
          0.0005357587839521555,
          0.000797408422626464,
          0.0014577622726140045,
          0.0014826812858210814,
          0.001320707699975081,
          0.000598056316969848,
          0.0005731373037627709,
          0.000971841515076003,
          0.0015325193122352355,
          0.0004360827311238475,
          0.0011338151009220034,
          0.0005357587839521555,
          0.0006852728631946175,
          0.0008098679292300025,
          0.0016072763518564664,
          0.000548218290555694,
          0.0008098679292300025,
          0.0004360827311238475,
          0.0005357587839521555,
          0.000722651383005233,
          0.0008098679292300025,
          0.0006852728631946175,
          0.00099676052828308,
          0.0009593820084724645,
          0.0006852728631946175,
          0.000697732369798156,
          0.0004111637179167705,
          0.002118116122601545,
          0.0004360827311238475,
          0.0011338151009220034,
          0.0005855968103663095,
          0.001096436581111388,
          0.001270869673560927,
          0.0007101918764016945,
          0.0006603538499875404,
          0.0008846249688512335,
          0.0004859207575380015,
          0.0005606777971592325,
          0.0004360827311238475,
          0.0004360827311238475
         ],
         "xaxis": "x",
         "y": [
          0.00047049685962016714,
          0.0009633983316031994,
          0.0017176869478196578,
          0.0005227742884668523,
          0.0027931083412371825,
          0.010082075563289297,
          0.002598935034092352,
          0.0034727149162440906,
          0.0012397218840785357,
          0.0004779650637411222,
          0.003032090873107744,
          0.0008289706574260088,
          0.0011725080469899404,
          0.00218071560331887,
          0.0004630286554992121,
          0.0020836289497464544,
          0.0008289706574260088,
          0.0007020111873697732,
          0.0018819874384806686,
          0.0020014787044159493,
          0.0020612243373835893,
          0.0011799762511108954,
          0.0010530167810546597,
          0.008439070656679188,
          0.0007468204120955034,
          0.003517524140969821,
          0.0017998371931501633,
          0.0004929014719830322,
          0.0016131320901262873,
          0.0031963913637687545,
          0.0013816177623766812,
          0.003286009813220215,
          0.00783414612288183,
          0.005526471049506725,
          0.0022927386651331954,
          0.0010082075563289297,
          0.008999185965750816,
          0.0027931083412371825,
          0.001986542296174039,
          0.0012098490675947155,
          0.000448092247257302,
          0.0014562998035862317,
          0.0011650398428689852,
          0.003539928753332686,
          0.000642265554402133,
          0.004025362021194763,
          0.0015981956818843773,
          0.000896184494514604,
          0.0007020111873697732,
          0.002643744258818082,
          0.0011799762511108954,
          0.0007244157997326382,
          0.0005899881255554477,
          0.002345016093979881,
          0.006997707261334867,
          0.0008140342491840987,
          0.005294956721757119,
          0.00108288959753848,
          0.0007841614327002785,
          0.003539928753332686,
          0.0008215024533050538,
          0.0013592131500138162,
          0.00043315583901539195,
          0.0005974563296764027,
          0.0008289706574260088,
          0.0007169475956116832,
          0.0038834661428966176,
          0.001762496172545388,
          0.002412229931068476,
          0.0010231439645708397,
          0.0009111209027565141,
          0.00043315583901539195,
          0.001299467517046176,
          0.0005302424925878075,
          0.0008663116780307839,
          0.0005675835131925826,
          0.00047049685962016714,
          0.0009409937192403343,
          0.0014040223747395465,
          0.0004555604513782571,
          0.001792368989029208,
          0.0008140342491840987,
          0.002860322178325778,
          0.0014114905788605015,
          0.0009185891068774692,
          0.0006796065750069081,
          0.0004107512266525269,
          0.0005899881255554477,
          0.00106795318929657,
          0.0004182194307734819,
          0.0007841614327002785,
          0.00327854160909926,
          0.000896184494514604,
          0.0007766932285793235,
          0.0009858029439660644,
          0.0005825199214344926,
          0.0007617568203374135,
          0.002352484298100836,
          0.001075421393417525,
          0.0010306121686917947,
          0.00042568763489443694,
          0.0016803459272148825,
          0.0008513752697888739,
          0.0009111209027565141,
          0.0005227742884668523,
          0.000873779882151739,
          0.0005825199214344926,
          0.0005377106967087625,
          0.0004107512266525269,
          0.0009260573109984242,
          0.001329340333529996,
          0.0018222418055130283,
          0.0036295472027841466,
          0.0005974563296764027,
          0.001792368989029208,
          0.0009484619233612893,
          0.0004107512266525269,
          0.0014189587829814565,
          0.0016803459272148825,
          0.00436143120663774,
          0.0014787044159490967,
          0.00043315583901539195,
          0.0004032830225315718,
          0.0008663116780307839,
          0.0007318840038535934,
          0.0005974563296764027,
          0.0006049245337973577,
          0.0016430049066101075,
          0.0015981956818843773,
          0.0005899881255554477,
          0.000642265554402133,
          0.0022778022568912854,
          0.005003696761039873,
          0.0020686925415045443,
          0.000896184494514604,
          0.0015085772324329168,
          0.003076900097833474,
          0.0007841614327002785,
          0.0004032830225315718,
          0.0024645073599151614,
          0.0014562998035862317,
          0.001075421393417525,
          0.0005377106967087625,
          0.0007318840038535934,
          0.0019417330714483088,
          0.0008140342491840987,
          0.000657201962644043,
          0.0010082075563289297,
          0.0016131320901262873,
          0.002367420706342746,
          0.0008588434739098289,
          0.0005003696761039873,
          0.0006198609420392678,
          0.0005750517173135376,
          0.0005899881255554477,
          0.0012397218840785357,
          0.0005153060843458973,
          0.000448092247257302,
          0.0007841614327002785,
          0.0005377106967087625,
          0.0005526471049506725,
          0.0005153060843458973,
          0.0008140342491840987,
          0.0019267966632063988,
          0.0004107512266525269,
          0.0006721383708859531,
          0.0009036526986355591,
          0.0012471900881994907,
          0.0007094793914907282,
          0.0016878141313358378,
          0.0004779650637411222,
          0.0004182194307734819,
          0.0005750517173135376,
          0.0006721383708859531,
          0.0006049245337973577,
          0.001523513640674827,
          0.0004555604513782571,
          0.0005750517173135376,
          0.0011949126593528054,
          0.0007244157997326382,
          0.0006198609420392678,
          0.001090357801659435,
          0.0010156757604498847,
          0.0010380803728127497,
          0.0004854332678620772,
          0.000657201962644043,
          0.0007617568203374135,
          0.0005899881255554477,
          0.0005825199214344926,
          0.00108288959753848,
          0.0009932711480870194,
          0.0006870747791278631,
          0.0004854332678620772,
          0.0033756282626716755,
          0.0010082075563289297,
          0.00043315583901539195,
          0.0007468204120955034,
          0.0004555604513782571,
          0.0005675835131925826,
          0.0005377106967087625,
          0.0005899881255554477,
          0.0011202306181432552,
          0.0006123927379183127,
          0.0034055010791554955,
          0.0020014787044159493,
          0.0004779650637411222,
          0.0005526471049506725,
          0.000881248086272694,
          0.000440624043136347,
          0.0007468204120955034,
          0.0025317211970037564,
          0.0004929014719830322,
          0.0027856401371162275,
          0.0005526471049506725,
          0.0005601153090716276,
          0.00042568763489443694,
          0.0011575716387480302,
          0.0007916296368212336,
          0.0008140342491840987,
          0.00042568763489443694,
          0.0004779650637411222,
          0.0009111209027565141,
          0.0005675835131925826,
          0.0005675835131925826,
          0.0007916296368212336,
          0.0007692250244583685,
          0.0005675835131925826,
          0.0006721383708859531,
          0.0004107512266525269,
          0.0018147736013920733,
          0.0004107512266525269,
          0.0014936408241910067,
          0.0005526471049506725,
          0.0007841614327002785,
          0.001545918253037692,
          0.0009484619233612893,
          0.0007318840038535934,
          0.0006198609420392678,
          0.0005526471049506725,
          0.0005825199214344926,
          0.0005974563296764027,
          0.0005451789008297175
         ],
         "yaxis": "y"
        },
        {
         "hovertemplate": "<b>OLS trendline</b><br>img_proportion = 0.56061 * WA_proportion + 0.000406315<br>R<sup>2</sup>=0.628530<br><br>WA_proportion=%{x}<br>img_proportion=%{y} <b>(trend)</b><extra></extra>",
         "legendgroup": "",
         "marker": {
          "color": "#636efa",
          "symbol": "circle"
         },
         "mode": "lines",
         "name": "",
         "showlegend": false,
         "textposition": "top center",
         "type": "scatter",
         "x": [
          0.0004111637179167705,
          0.0004111637179167705,
          0.0004111637179167705,
          0.0004111637179167705,
          0.0004111637179167705,
          0.000423623224520309,
          0.000423623224520309,
          0.0004360827311238475,
          0.0004360827311238475,
          0.0004360827311238475,
          0.0004360827311238475,
          0.0004360827311238475,
          0.0004360827311238475,
          0.0004360827311238475,
          0.0004610017443309245,
          0.000473461250934463,
          0.000473461250934463,
          0.0004859207575380015,
          0.0004859207575380015,
          0.0004859207575380015,
          0.0004859207575380015,
          0.00049838026414154,
          0.00049838026414154,
          0.00049838026414154,
          0.0005108397707450785,
          0.0005108397707450785,
          0.000523299277348617,
          0.000523299277348617,
          0.0005357587839521555,
          0.0005357587839521555,
          0.0005357587839521555,
          0.0005357587839521555,
          0.0005357587839521555,
          0.000548218290555694,
          0.000548218290555694,
          0.000548218290555694,
          0.0005606777971592325,
          0.0005606777971592325,
          0.0005731373037627709,
          0.0005731373037627709,
          0.0005855968103663095,
          0.0005855968103663095,
          0.0005855968103663095,
          0.0005855968103663095,
          0.000598056316969848,
          0.000598056316969848,
          0.000598056316969848,
          0.000598056316969848,
          0.000622975330176925,
          0.000622975330176925,
          0.000622975330176925,
          0.000622975330176925,
          0.000622975330176925,
          0.0006354348367804635,
          0.000647894343384002,
          0.0006603538499875404,
          0.0006603538499875404,
          0.0006603538499875404,
          0.000672813356591079,
          0.000672813356591079,
          0.0006852728631946175,
          0.0006852728631946175,
          0.0006852728631946175,
          0.0006852728631946175,
          0.000697732369798156,
          0.000697732369798156,
          0.0007101918764016945,
          0.0007101918764016945,
          0.0007101918764016945,
          0.000722651383005233,
          0.000722651383005233,
          0.0007351108896087715,
          0.00074757039621231,
          0.000772489409419387,
          0.000772489409419387,
          0.0007849489160229255,
          0.0007849489160229255,
          0.000797408422626464,
          0.000797408422626464,
          0.000797408422626464,
          0.0008098679292300025,
          0.0008098679292300025,
          0.0008098679292300025,
          0.0008098679292300025,
          0.0008098679292300025,
          0.000822327435833541,
          0.000822327435833541,
          0.000822327435833541,
          0.0008347869424370795,
          0.000847246449040618,
          0.0008597059556441565,
          0.000872165462247695,
          0.0008846249688512335,
          0.0008846249688512335,
          0.0008846249688512335,
          0.0008846249688512335,
          0.0008970844754547719,
          0.0009095439820583105,
          0.0009344629952653875,
          0.0009344629952653875,
          0.0009593820084724645,
          0.0009593820084724645,
          0.0009593820084724645,
          0.0009593820084724645,
          0.0009593820084724645,
          0.000971841515076003,
          0.0009843010216795416,
          0.0009843010216795416,
          0.0009843010216795416,
          0.00099676052828308,
          0.00099676052828308,
          0.00099676052828308,
          0.0010092200348866185,
          0.001021679541490157,
          0.0010341390480936956,
          0.0010341390480936956,
          0.0010839770745078494,
          0.001096436581111388,
          0.001096436581111388,
          0.001096436581111388,
          0.001096436581111388,
          0.0011088960877149265,
          0.001121355594318465,
          0.0011338151009220034,
          0.0011338151009220034,
          0.0011338151009220034,
          0.0011462746075255419,
          0.0011462746075255419,
          0.0011462746075255419,
          0.0011587341141290806,
          0.0011587341141290806,
          0.001171193620732619,
          0.0011836531273361575,
          0.001196112633939696,
          0.001196112633939696,
          0.0012085721405432346,
          0.001221031647146773,
          0.0012334911537503115,
          0.0012334911537503115,
          0.00124595066035385,
          0.001270869673560927,
          0.0012833291801644655,
          0.0012833291801644655,
          0.0012833291801644655,
          0.001295788686768004,
          0.001320707699975081,
          0.001320707699975081,
          0.0013331672065786196,
          0.001345626713182158,
          0.001370545726389235,
          0.001370545726389235,
          0.001395464739596312,
          0.0014079242461998505,
          0.0014079242461998505,
          0.001420383752803389,
          0.0014577622726140045,
          0.0014826812858210814,
          0.0014826812858210814,
          0.00149514079242462,
          0.0015076002990281586,
          0.001520059805631697,
          0.0015325193122352355,
          0.0015325193122352355,
          0.001544978818838774,
          0.001569897832045851,
          0.001569897832045851,
          0.0015823573386493895,
          0.001594816845252928,
          0.0016072763518564664,
          0.001694492898081236,
          0.001694492898081236,
          0.00174433092449539,
          0.0018315474707201595,
          0.001844006977323698,
          0.001844006977323698,
          0.0018564664839272366,
          0.001868925990530775,
          0.001868925990530775,
          0.0018813854971343135,
          0.0018813854971343135,
          0.001918764016944929,
          0.001918764016944929,
          0.0019312235235484675,
          0.001943683030152006,
          0.001943683030152006,
          0.0019561425367555446,
          0.001968602043359083,
          0.0019810615499626216,
          0.0019810615499626216,
          0.0019810615499626216,
          0.0020059805631696985,
          0.002018440069773237,
          0.0020558185895838523,
          0.002068278096187391,
          0.002093197109394468,
          0.002118116122601545,
          0.002167954149015699,
          0.002167954149015699,
          0.0022053326688263146,
          0.0022053326688263146,
          0.002217792175429853,
          0.0022302516820333915,
          0.0022302516820333915,
          0.002267630201844007,
          0.002317468228258161,
          0.0023299277348616996,
          0.0023548467480687765,
          0.0023797657612758534,
          0.002417144281086469,
          0.002417144281086469,
          0.002442063294293546,
          0.0025043608273112384,
          0.002566658360328931,
          0.0026538749065537007,
          0.0027037129329678545,
          0.0028033889857961626,
          0.002815848492399701,
          0.002815848492399701,
          0.0028781460254173933,
          0.0029030650386244706,
          0.003015200598056317,
          0.0032768502367306255,
          0.0034512833291801643,
          0.0038998255669075504,
          0.004335908298031398,
          0.004784450535758784,
          0.004996262148018939,
          0.005170695240468477,
          0.0067032145527037125,
          0.006715674059307251,
          0.006777971592324944,
          0.006802890605532021,
          0.007351108896087715,
          0.007538001495140793,
          0.007986543732868178,
          0.008123598305507101,
          0.008534762023423872,
          0.008734114129080489,
          0.009120358833790181,
          0.010179416895090955,
          0.010590580613007725,
          0.01611014203837528
         ],
         "xaxis": "x",
         "y": [
          0.0006368170548787543,
          0.0006368170548787543,
          0.0006368170548787543,
          0.0006368170548787543,
          0.0006368170548787543,
          0.0006438019806313443,
          0.0006438019806313443,
          0.0006507869063839343,
          0.0006507869063839343,
          0.0006507869063839343,
          0.0006507869063839343,
          0.0006507869063839343,
          0.0006507869063839343,
          0.0006507869063839343,
          0.0006647567578891142,
          0.0006717416836417042,
          0.0006717416836417042,
          0.0006787266093942941,
          0.0006787266093942941,
          0.0006787266093942941,
          0.0006787266093942941,
          0.0006857115351468841,
          0.0006857115351468841,
          0.0006857115351468841,
          0.000692696460899474,
          0.000692696460899474,
          0.0006996813866520641,
          0.0006996813866520641,
          0.0007066663124046539,
          0.0007066663124046539,
          0.0007066663124046539,
          0.0007066663124046539,
          0.0007066663124046539,
          0.000713651238157244,
          0.000713651238157244,
          0.000713651238157244,
          0.0007206361639098339,
          0.0007206361639098339,
          0.0007276210896624239,
          0.0007276210896624239,
          0.0007346060154150138,
          0.0007346060154150138,
          0.0007346060154150138,
          0.0007346060154150138,
          0.0007415909411676038,
          0.0007415909411676038,
          0.0007415909411676038,
          0.0007415909411676038,
          0.0007555607926727837,
          0.0007555607926727837,
          0.0007555607926727837,
          0.0007555607926727837,
          0.0007555607926727837,
          0.0007625457184253738,
          0.0007695306441779636,
          0.0007765155699305536,
          0.0007765155699305536,
          0.0007765155699305536,
          0.0007835004956831435,
          0.0007835004956831435,
          0.0007904854214357335,
          0.0007904854214357335,
          0.0007904854214357335,
          0.0007904854214357335,
          0.0007974703471883234,
          0.0007974703471883234,
          0.0008044552729409135,
          0.0008044552729409135,
          0.0008044552729409135,
          0.0008114401986935034,
          0.0008114401986935034,
          0.0008184251244460934,
          0.0008254100501986833,
          0.0008393799017038632,
          0.0008393799017038632,
          0.0008463648274564532,
          0.0008463648274564532,
          0.0008533497532090431,
          0.0008533497532090431,
          0.0008533497532090431,
          0.0008603346789616332,
          0.0008603346789616332,
          0.0008603346789616332,
          0.0008603346789616332,
          0.0008603346789616332,
          0.0008673196047142231,
          0.0008673196047142231,
          0.0008673196047142231,
          0.0008743045304668131,
          0.000881289456219403,
          0.000888274381971993,
          0.000895259307724583,
          0.0009022442334771729,
          0.0009022442334771729,
          0.0009022442334771729,
          0.0009022442334771729,
          0.0009092291592297627,
          0.0009162140849823528,
          0.0009301839364875327,
          0.0009301839364875327,
          0.0009441537879927126,
          0.0009441537879927126,
          0.0009441537879927126,
          0.0009441537879927126,
          0.0009441537879927126,
          0.0009511387137453027,
          0.0009581236394978925,
          0.0009581236394978925,
          0.0009581236394978925,
          0.0009651085652504826,
          0.0009651085652504826,
          0.0009651085652504826,
          0.0009720934910030724,
          0.0009790784167556625,
          0.0009860633425082526,
          0.0009860633425082526,
          0.0010140030455186122,
          0.0010209879712712022,
          0.0010209879712712022,
          0.0010209879712712022,
          0.0010209879712712022,
          0.0010279728970237923,
          0.0010349578227763822,
          0.001041942748528972,
          0.001041942748528972,
          0.001041942748528972,
          0.001048927674281562,
          0.001048927674281562,
          0.001048927674281562,
          0.0010559126000341521,
          0.0010559126000341521,
          0.001062897525786742,
          0.001069882451539332,
          0.001076867377291922,
          0.001076867377291922,
          0.001083852303044512,
          0.0010908372287971018,
          0.0010978221545496919,
          0.0010978221545496919,
          0.0011048070803022817,
          0.0011187769318074618,
          0.0011257618575600517,
          0.0011257618575600517,
          0.0011257618575600517,
          0.0011327467833126415,
          0.0011467166348178215,
          0.0011467166348178215,
          0.0011537015605704115,
          0.0011606864863230016,
          0.0011746563378281813,
          0.0011746563378281813,
          0.0011886261893333614,
          0.0011956111150859513,
          0.0011956111150859513,
          0.0012025960408385413,
          0.001223550818096311,
          0.001237520669601491,
          0.001237520669601491,
          0.001244505595354081,
          0.0012514905211066711,
          0.001258475446859261,
          0.0012654603726118508,
          0.0012654603726118508,
          0.0012724452983644409,
          0.0012864151498696208,
          0.0012864151498696208,
          0.0012934000756222109,
          0.0013003850013748007,
          0.0013073699271273906,
          0.0013562644073955204,
          0.0013562644073955204,
          0.0013842041104058804,
          0.00143309859067401,
          0.0014400835164266,
          0.0014400835164266,
          0.00144706844217919,
          0.00145405336793178,
          0.00145405336793178,
          0.0014610382936843698,
          0.0014610382936843698,
          0.0014819930709421398,
          0.0014819930709421398,
          0.0014889779966947298,
          0.0014959629224473197,
          0.0014959629224473197,
          0.0015029478481999098,
          0.0015099327739524996,
          0.0015169176997050897,
          0.0015169176997050897,
          0.0015169176997050897,
          0.0015308875512102696,
          0.0015378724769628594,
          0.0015588272542206292,
          0.0015658121799732195,
          0.0015797820314783994,
          0.001593751882983579,
          0.001621691585993939,
          0.001621691585993939,
          0.0016426463632517089,
          0.0016426463632517089,
          0.001649631289004299,
          0.0016566162147568888,
          0.0016566162147568888,
          0.0016775709920146585,
          0.0017055106950250186,
          0.0017124956207776086,
          0.0017264654722827883,
          0.0017404353237879683,
          0.0017613901010457384,
          0.0017613901010457384,
          0.0017753599525509181,
          0.0018102845813138678,
          0.001845209210076818,
          0.0018941036903449475,
          0.0019220433933553073,
          0.0019779227993760268,
          0.001984907725128617,
          0.001984907725128617,
          0.0020198323538915667,
          0.002033802205396747,
          0.0020966665371700563,
          0.0022433499779744453,
          0.002341138938510705,
          0.0025925962656039433,
          0.002837068666944592,
          0.0030885259940378307,
          0.0032072697318318603,
          0.0033050586923681195,
          0.004164204559936685,
          0.004171189485689275,
          0.004206114114452225,
          0.004220083965957405,
          0.004527420699071362,
          0.004632194585360213,
          0.004883651912453451,
          0.00496048609573194,
          0.005190988645567409,
          0.005302747457608848,
          0.005519280155939137,
          0.006112998844909285,
          0.006343501394744753,
          0.009437823503142106
         ],
         "yaxis": "y"
        },
        {
         "hovertemplate": "x=%{x}<br>y=%{y}<extra></extra>",
         "legendgroup": "",
         "line": {
          "color": "#636efa",
          "dash": "solid"
         },
         "mode": "lines",
         "name": "",
         "orientation": "v",
         "showlegend": false,
         "type": "scatter",
         "x": [
          0
         ],
         "xaxis": "x",
         "y": [
          0
         ],
         "yaxis": "y"
        }
       ],
       "layout": {
        "autosize": false,
        "height": 900,
        "template": {
         "data": {
          "bar": [
           {
            "error_x": {
             "color": "#2a3f5f"
            },
            "error_y": {
             "color": "#2a3f5f"
            },
            "marker": {
             "line": {
              "color": "#E5ECF6",
              "width": 0.5
             }
            },
            "type": "bar"
           }
          ],
          "barpolar": [
           {
            "marker": {
             "line": {
              "color": "#E5ECF6",
              "width": 0.5
             }
            },
            "type": "barpolar"
           }
          ],
          "carpet": [
           {
            "aaxis": {
             "endlinecolor": "#2a3f5f",
             "gridcolor": "white",
             "linecolor": "white",
             "minorgridcolor": "white",
             "startlinecolor": "#2a3f5f"
            },
            "baxis": {
             "endlinecolor": "#2a3f5f",
             "gridcolor": "white",
             "linecolor": "white",
             "minorgridcolor": "white",
             "startlinecolor": "#2a3f5f"
            },
            "type": "carpet"
           }
          ],
          "choropleth": [
           {
            "colorbar": {
             "outlinewidth": 0,
             "ticks": ""
            },
            "type": "choropleth"
           }
          ],
          "contour": [
           {
            "colorbar": {
             "outlinewidth": 0,
             "ticks": ""
            },
            "colorscale": [
             [
              0,
              "#0d0887"
             ],
             [
              0.1111111111111111,
              "#46039f"
             ],
             [
              0.2222222222222222,
              "#7201a8"
             ],
             [
              0.3333333333333333,
              "#9c179e"
             ],
             [
              0.4444444444444444,
              "#bd3786"
             ],
             [
              0.5555555555555556,
              "#d8576b"
             ],
             [
              0.6666666666666666,
              "#ed7953"
             ],
             [
              0.7777777777777778,
              "#fb9f3a"
             ],
             [
              0.8888888888888888,
              "#fdca26"
             ],
             [
              1,
              "#f0f921"
             ]
            ],
            "type": "contour"
           }
          ],
          "contourcarpet": [
           {
            "colorbar": {
             "outlinewidth": 0,
             "ticks": ""
            },
            "type": "contourcarpet"
           }
          ],
          "heatmap": [
           {
            "colorbar": {
             "outlinewidth": 0,
             "ticks": ""
            },
            "colorscale": [
             [
              0,
              "#0d0887"
             ],
             [
              0.1111111111111111,
              "#46039f"
             ],
             [
              0.2222222222222222,
              "#7201a8"
             ],
             [
              0.3333333333333333,
              "#9c179e"
             ],
             [
              0.4444444444444444,
              "#bd3786"
             ],
             [
              0.5555555555555556,
              "#d8576b"
             ],
             [
              0.6666666666666666,
              "#ed7953"
             ],
             [
              0.7777777777777778,
              "#fb9f3a"
             ],
             [
              0.8888888888888888,
              "#fdca26"
             ],
             [
              1,
              "#f0f921"
             ]
            ],
            "type": "heatmap"
           }
          ],
          "heatmapgl": [
           {
            "colorbar": {
             "outlinewidth": 0,
             "ticks": ""
            },
            "colorscale": [
             [
              0,
              "#0d0887"
             ],
             [
              0.1111111111111111,
              "#46039f"
             ],
             [
              0.2222222222222222,
              "#7201a8"
             ],
             [
              0.3333333333333333,
              "#9c179e"
             ],
             [
              0.4444444444444444,
              "#bd3786"
             ],
             [
              0.5555555555555556,
              "#d8576b"
             ],
             [
              0.6666666666666666,
              "#ed7953"
             ],
             [
              0.7777777777777778,
              "#fb9f3a"
             ],
             [
              0.8888888888888888,
              "#fdca26"
             ],
             [
              1,
              "#f0f921"
             ]
            ],
            "type": "heatmapgl"
           }
          ],
          "histogram": [
           {
            "marker": {
             "colorbar": {
              "outlinewidth": 0,
              "ticks": ""
             }
            },
            "type": "histogram"
           }
          ],
          "histogram2d": [
           {
            "colorbar": {
             "outlinewidth": 0,
             "ticks": ""
            },
            "colorscale": [
             [
              0,
              "#0d0887"
             ],
             [
              0.1111111111111111,
              "#46039f"
             ],
             [
              0.2222222222222222,
              "#7201a8"
             ],
             [
              0.3333333333333333,
              "#9c179e"
             ],
             [
              0.4444444444444444,
              "#bd3786"
             ],
             [
              0.5555555555555556,
              "#d8576b"
             ],
             [
              0.6666666666666666,
              "#ed7953"
             ],
             [
              0.7777777777777778,
              "#fb9f3a"
             ],
             [
              0.8888888888888888,
              "#fdca26"
             ],
             [
              1,
              "#f0f921"
             ]
            ],
            "type": "histogram2d"
           }
          ],
          "histogram2dcontour": [
           {
            "colorbar": {
             "outlinewidth": 0,
             "ticks": ""
            },
            "colorscale": [
             [
              0,
              "#0d0887"
             ],
             [
              0.1111111111111111,
              "#46039f"
             ],
             [
              0.2222222222222222,
              "#7201a8"
             ],
             [
              0.3333333333333333,
              "#9c179e"
             ],
             [
              0.4444444444444444,
              "#bd3786"
             ],
             [
              0.5555555555555556,
              "#d8576b"
             ],
             [
              0.6666666666666666,
              "#ed7953"
             ],
             [
              0.7777777777777778,
              "#fb9f3a"
             ],
             [
              0.8888888888888888,
              "#fdca26"
             ],
             [
              1,
              "#f0f921"
             ]
            ],
            "type": "histogram2dcontour"
           }
          ],
          "mesh3d": [
           {
            "colorbar": {
             "outlinewidth": 0,
             "ticks": ""
            },
            "type": "mesh3d"
           }
          ],
          "parcoords": [
           {
            "line": {
             "colorbar": {
              "outlinewidth": 0,
              "ticks": ""
             }
            },
            "type": "parcoords"
           }
          ],
          "pie": [
           {
            "automargin": true,
            "type": "pie"
           }
          ],
          "scatter": [
           {
            "marker": {
             "colorbar": {
              "outlinewidth": 0,
              "ticks": ""
             }
            },
            "type": "scatter"
           }
          ],
          "scatter3d": [
           {
            "line": {
             "colorbar": {
              "outlinewidth": 0,
              "ticks": ""
             }
            },
            "marker": {
             "colorbar": {
              "outlinewidth": 0,
              "ticks": ""
             }
            },
            "type": "scatter3d"
           }
          ],
          "scattercarpet": [
           {
            "marker": {
             "colorbar": {
              "outlinewidth": 0,
              "ticks": ""
             }
            },
            "type": "scattercarpet"
           }
          ],
          "scattergeo": [
           {
            "marker": {
             "colorbar": {
              "outlinewidth": 0,
              "ticks": ""
             }
            },
            "type": "scattergeo"
           }
          ],
          "scattergl": [
           {
            "marker": {
             "colorbar": {
              "outlinewidth": 0,
              "ticks": ""
             }
            },
            "type": "scattergl"
           }
          ],
          "scattermapbox": [
           {
            "marker": {
             "colorbar": {
              "outlinewidth": 0,
              "ticks": ""
             }
            },
            "type": "scattermapbox"
           }
          ],
          "scatterpolar": [
           {
            "marker": {
             "colorbar": {
              "outlinewidth": 0,
              "ticks": ""
             }
            },
            "type": "scatterpolar"
           }
          ],
          "scatterpolargl": [
           {
            "marker": {
             "colorbar": {
              "outlinewidth": 0,
              "ticks": ""
             }
            },
            "type": "scatterpolargl"
           }
          ],
          "scatterternary": [
           {
            "marker": {
             "colorbar": {
              "outlinewidth": 0,
              "ticks": ""
             }
            },
            "type": "scatterternary"
           }
          ],
          "surface": [
           {
            "colorbar": {
             "outlinewidth": 0,
             "ticks": ""
            },
            "colorscale": [
             [
              0,
              "#0d0887"
             ],
             [
              0.1111111111111111,
              "#46039f"
             ],
             [
              0.2222222222222222,
              "#7201a8"
             ],
             [
              0.3333333333333333,
              "#9c179e"
             ],
             [
              0.4444444444444444,
              "#bd3786"
             ],
             [
              0.5555555555555556,
              "#d8576b"
             ],
             [
              0.6666666666666666,
              "#ed7953"
             ],
             [
              0.7777777777777778,
              "#fb9f3a"
             ],
             [
              0.8888888888888888,
              "#fdca26"
             ],
             [
              1,
              "#f0f921"
             ]
            ],
            "type": "surface"
           }
          ],
          "table": [
           {
            "cells": {
             "fill": {
              "color": "#EBF0F8"
             },
             "line": {
              "color": "white"
             }
            },
            "header": {
             "fill": {
              "color": "#C8D4E3"
             },
             "line": {
              "color": "white"
             }
            },
            "type": "table"
           }
          ]
         },
         "layout": {
          "annotationdefaults": {
           "arrowcolor": "#2a3f5f",
           "arrowhead": 0,
           "arrowwidth": 1
          },
          "autotypenumbers": "strict",
          "coloraxis": {
           "colorbar": {
            "outlinewidth": 0,
            "ticks": ""
           }
          },
          "colorscale": {
           "diverging": [
            [
             0,
             "#8e0152"
            ],
            [
             0.1,
             "#c51b7d"
            ],
            [
             0.2,
             "#de77ae"
            ],
            [
             0.3,
             "#f1b6da"
            ],
            [
             0.4,
             "#fde0ef"
            ],
            [
             0.5,
             "#f7f7f7"
            ],
            [
             0.6,
             "#e6f5d0"
            ],
            [
             0.7,
             "#b8e186"
            ],
            [
             0.8,
             "#7fbc41"
            ],
            [
             0.9,
             "#4d9221"
            ],
            [
             1,
             "#276419"
            ]
           ],
           "sequential": [
            [
             0,
             "#0d0887"
            ],
            [
             0.1111111111111111,
             "#46039f"
            ],
            [
             0.2222222222222222,
             "#7201a8"
            ],
            [
             0.3333333333333333,
             "#9c179e"
            ],
            [
             0.4444444444444444,
             "#bd3786"
            ],
            [
             0.5555555555555556,
             "#d8576b"
            ],
            [
             0.6666666666666666,
             "#ed7953"
            ],
            [
             0.7777777777777778,
             "#fb9f3a"
            ],
            [
             0.8888888888888888,
             "#fdca26"
            ],
            [
             1,
             "#f0f921"
            ]
           ],
           "sequentialminus": [
            [
             0,
             "#0d0887"
            ],
            [
             0.1111111111111111,
             "#46039f"
            ],
            [
             0.2222222222222222,
             "#7201a8"
            ],
            [
             0.3333333333333333,
             "#9c179e"
            ],
            [
             0.4444444444444444,
             "#bd3786"
            ],
            [
             0.5555555555555556,
             "#d8576b"
            ],
            [
             0.6666666666666666,
             "#ed7953"
            ],
            [
             0.7777777777777778,
             "#fb9f3a"
            ],
            [
             0.8888888888888888,
             "#fdca26"
            ],
            [
             1,
             "#f0f921"
            ]
           ]
          },
          "colorway": [
           "#636efa",
           "#EF553B",
           "#00cc96",
           "#ab63fa",
           "#FFA15A",
           "#19d3f3",
           "#FF6692",
           "#B6E880",
           "#FF97FF",
           "#FECB52"
          ],
          "font": {
           "color": "#2a3f5f"
          },
          "geo": {
           "bgcolor": "white",
           "lakecolor": "white",
           "landcolor": "#E5ECF6",
           "showlakes": true,
           "showland": true,
           "subunitcolor": "white"
          },
          "hoverlabel": {
           "align": "left"
          },
          "hovermode": "closest",
          "mapbox": {
           "style": "light"
          },
          "paper_bgcolor": "white",
          "plot_bgcolor": "#E5ECF6",
          "polar": {
           "angularaxis": {
            "gridcolor": "white",
            "linecolor": "white",
            "ticks": ""
           },
           "bgcolor": "#E5ECF6",
           "radialaxis": {
            "gridcolor": "white",
            "linecolor": "white",
            "ticks": ""
           }
          },
          "scene": {
           "xaxis": {
            "backgroundcolor": "#E5ECF6",
            "gridcolor": "white",
            "gridwidth": 2,
            "linecolor": "white",
            "showbackground": true,
            "ticks": "",
            "zerolinecolor": "white"
           },
           "yaxis": {
            "backgroundcolor": "#E5ECF6",
            "gridcolor": "white",
            "gridwidth": 2,
            "linecolor": "white",
            "showbackground": true,
            "ticks": "",
            "zerolinecolor": "white"
           },
           "zaxis": {
            "backgroundcolor": "#E5ECF6",
            "gridcolor": "white",
            "gridwidth": 2,
            "linecolor": "white",
            "showbackground": true,
            "ticks": "",
            "zerolinecolor": "white"
           }
          },
          "shapedefaults": {
           "line": {
            "color": "#2a3f5f"
           }
          },
          "ternary": {
           "aaxis": {
            "gridcolor": "white",
            "linecolor": "white",
            "ticks": ""
           },
           "baxis": {
            "gridcolor": "white",
            "linecolor": "white",
            "ticks": ""
           },
           "bgcolor": "#E5ECF6",
           "caxis": {
            "gridcolor": "white",
            "linecolor": "white",
            "ticks": ""
           }
          },
          "title": {
           "x": 0.05
          },
          "xaxis": {
           "automargin": true,
           "gridcolor": "white",
           "linecolor": "white",
           "ticks": "",
           "title": {
            "standoff": 15
           },
           "zerolinecolor": "white",
           "zerolinewidth": 2
          },
          "yaxis": {
           "automargin": true,
           "gridcolor": "white",
           "linecolor": "white",
           "ticks": "",
           "title": {
            "standoff": 15
           },
           "zerolinecolor": "white",
           "zerolinewidth": 2
          }
         }
        },
        "width": 900,
        "xaxis": {
         "range": [
          -3.3880341096413864,
          -1.6965818195541233
         ],
         "type": "log"
        },
        "yaxis": {
         "range": [
          -3.3880341096413864,
          -1.6965818195541233
         ],
         "type": "log"
        }
       }
      },
      "text/html": [
       "<div>                            <div id=\"71d20858-d18a-4049-a458-1bc6deb97e9a\" class=\"plotly-graph-div\" style=\"height:900px; width:900px;\"></div>            <script type=\"text/javascript\">                require([\"plotly\"], function(Plotly) {                    window.PLOTLYENV=window.PLOTLYENV || {};                                    if (document.getElementById(\"71d20858-d18a-4049-a458-1bc6deb97e9a\")) {                    Plotly.newPlot(                        \"71d20858-d18a-4049-a458-1bc6deb97e9a\",                        [{\"hovertemplate\": \"WA_proportion=%{x}<br>img_proportion=%{y}<br>word=%{text}<extra></extra>\", \"legendgroup\": \"\", \"marker\": {\"color\": \"#636efa\", \"symbol\": \"circle\"}, \"mode\": \"markers+text\", \"name\": \"\", \"orientation\": \"v\", \"showlegend\": false, \"text\": [\"read\", \"today\", \"people\", \"leave\", \"bed\", \"hospital\", \"home\", \"india\", \"icu\", \"lead\", \"delhi\", \"liposomal\", \"amphotericin\", \"b\", \"pharma\", \"new\", \"private\", \"helpline\", \"also\", \"mg\", \"injection\", \"phone\", \"jaipur\", \"available\", \"month\", \"plasma\", \"bank\", \"would\", \"request\", \"donor\", \"come\", \"help\", \"patient\", \"name\", \"age\", \"level\", \"blood\", \"group\", \"call\", \"life\", \"let\", \"send\", \"case\", \"may\", \"add\", \"contact\", \"require\", \"pradesh\", \"urgent\", \"need\", \"year\", \"location\", \"supply\", \"use\", \"oxygen\", \"jain\", \"covid\", \"positive\", \"admit\", \"number\", \"requirement\", \"city\", \"sir\", \"mother\", \"mr.\", \"last\", \"day\", \"doctor\", \"give\", \"ventilator\", \"save\", \"heart\", \"family\", \"member\", \"share\", \"delivery\", \"pay\", \"whatsapp\", \"follow\", \"link\", \"kumar\", \"concentrator\", \"covid-19\", \"singh\", \"beds\", \"near\", \"central\", \"school\", \"verify\", \"govt\", \"full\", \"time\", \"get\", \"type\", \"good\", \"see\", \"check\", \"free\", \"start\", \"team\", \"ambulance\", \"service\", \"person\", \"work\", \"email\", \"verified\", \"well\", \"right\", \"society\", \"message\", \"cylinder\", \"road\", \"medical\", \"mumbai\", \"medicine\", \"address\", \"old\", \"detail\", \"nagar\", \"pm\", \"drug\", \"non\", \"stock\", \"emergency\", \"support\", \"gandhi\", \"public\", \"say\", \"vaccine\", \"covishield\", \"institute\", \"take\", \"report\", \"government\", \"issue\", \"dose\", \"health\", \"know\", \"die\", \"state\", \"unit\", \"order\", \"list\", \"news\", \"corona\", \"water\", \"minister\", \"country\", \"treatment\", \"dr.\", \"first\", \"hand\", \"general\", \"amount\", \"reddy\", \"form\", \"black\", \"k\", \"many\", \"indian\", \"national\", \"social\", \"area\", \"make\", \"cost\", \"stay\", \"ward\", \"dr\", \"refill\", \"mobile\", \"sharma\", \"condition\", \"second\", \"june\", \"tell\", \"-\", \"ask\", \"online\", \"go\", \"receive\", \"prescription\", \"control\", \"provide\", \"office\", \"back\", \"market\", \"find\", \"friend\", \"father\", \"gupta\", \"college\", \"donate\", \"remdesivir\", \"date\", \"morning\", \"tweet\", \"reach\", \"look\", \"facility\", \"daily\", \"availability\", \"information\", \"high\", \"district\", \"aligarh\", \"slot\", \"h\", \"hour\", \"close\", \"keep\", \"center\", \"telangana\", \"nashik\", \"gas\", \"price\", \"volunteer\", \"food\", \"note\", \"disease\", \"krishna\", \"meal\", \"centre\", \"donation\", \"place\", \"open\", \"post\", \"even\", \"fill\", \"visakhapatnam\", \"hyderabad\", \"problem\", \"vaccination\", \"sri\", \"total\", \"care\", \"test\", \"live\", \"card\", \"n\", \"company\", \"include\", \"relate\"], \"textposition\": \"top center\", \"type\": \"scatter\", \"x\": [0.000523299277348617, 0.0012833291801644655, 0.002815848492399701, 0.0006354348367804635, 0.0067032145527037125, 0.01611014203837528, 0.002217792175429853, 0.002417144281086469, 0.0026538749065537007, 0.004335908298031398, 0.006715674059307251, 0.0011088960877149265, 0.0012334911537503115, 0.0022053326688263146, 0.0005855968103663095, 0.001844006977323698, 0.000822327435833541, 0.000797408422626464, 0.0027037129329678545, 0.000822327435833541, 0.002267630201844007, 0.0011587341141290806, 0.001096436581111388, 0.007538001495140793, 0.0005855968103663095, 0.004996262148018939, 0.0011836531273361575, 0.0010341390480936956, 0.002068278096187391, 0.002093197109394468, 0.0015823573386493895, 0.008123598305507101, 0.010179416895090955, 0.007351108896087715, 0.0034512833291801643, 0.001694492898081236, 0.008734114129080489, 0.007986543732868178, 0.0029030650386244706, 0.001594816845252928, 0.001370545726389235, 0.002167954149015699, 0.0019810615499626216, 0.0032768502367306255, 0.0004111637179167705, 0.009120358833790181, 0.0038998255669075504, 0.000797408422626464, 0.0019810615499626216, 0.008534762023423872, 0.001569897832045851, 0.002317468228258161, 0.0009843010216795416, 0.0019561425367555446, 0.010590580613007725, 0.000722651383005233, 0.006802890605532021, 0.001520059805631697, 0.001395464739596312, 0.005170695240468477, 0.002566658360328931, 0.0020558185895838523, 0.001121355594318465, 0.000622975330176925, 0.0005108397707450785, 0.0009593820084724645, 0.0028781460254173933, 0.0019312235235484675, 0.001968602043359083, 0.0018564664839272366, 0.0009344629952653875, 0.000598056316969848, 0.001918764016944929, 0.00124595066035385, 0.002815848492399701, 0.000622975330176925, 0.0008846249688512335, 0.0023548467480687765, 0.0011587341141290806, 0.0022302516820333915, 0.0011338151009220034, 0.0014079242461998505, 0.001196112633939696, 0.0009344629952653875, 0.0007101918764016945, 0.00049838026414154, 0.000523299277348617, 0.00049838026414154, 0.006777971592324944, 0.0009593820084724645, 0.0005606777971592325, 0.002442063294293546, 0.0020059805631696985, 0.000622975330176925, 0.001320707699975081, 0.000872165462247695, 0.0018813854971343135, 0.003015200598056317, 0.0012833291801644655, 0.001096436581111388, 0.00099676052828308, 0.0011462746075255419, 0.0018813854971343135, 0.001918764016944929, 0.000672813356591079, 0.0013331672065786196, 0.0008970844754547719, 0.0005855968103663095, 0.0010839770745078494, 0.004784450535758784, 0.0023299277348616996, 0.0010092200348866185, 0.0028033889857961626, 0.0008846249688512335, 0.00174433092449539, 0.001221031647146773, 0.0008347869424370795, 0.002417144281086469, 0.0022053326688263146, 0.0018315474707201595, 0.001420383752803389, 0.0007849489160229255, 0.000548218290555694, 0.0011462746075255419, 0.0019810615499626216, 0.000598056316969848, 0.0004859207575380015, 0.0014079242461998505, 0.001943683030152006, 0.0008846249688512335, 0.0004111637179167705, 0.0022302516820333915, 0.001196112633939696, 0.00149514079242462, 0.000822327435833541, 0.0012833291801644655, 0.0009843010216795416, 0.0023797657612758534, 0.0004111637179167705, 0.0011462746075255419, 0.0025043608273112384, 0.000622975330176925, 0.001844006977323698, 0.000647894343384002, 0.0010341390480936956, 0.0005357587839521555, 0.0005731373037627709, 0.0006603538499875404, 0.0015325193122352355, 0.000772489409419387, 0.0009593820084724645, 0.0006603538499875404, 0.000548218290555694, 0.000473461250934463, 0.00049838026414154, 0.0015076002990281586, 0.0009593820084724645, 0.0008098679292300025, 0.0009095439820583105, 0.0005357587839521555, 0.0004360827311238475, 0.0004111637179167705, 0.0012334911537503115, 0.0014826812858210814, 0.001295788686768004, 0.000423623224520309, 0.0004360827311238475, 0.001544978818838774, 0.001171193620732619, 0.001569897832045851, 0.000598056316969848, 0.000772489409419387, 0.0008098679292300025, 0.0006852728631946175, 0.000672813356591079, 0.0009843010216795416, 0.0012085721405432346, 0.0008597059556441565, 0.002018440069773237, 0.0005108397707450785, 0.000847246449040618, 0.000423623224520309, 0.001694492898081236, 0.000622975330176925, 0.0004859207575380015, 0.0007849489160229255, 0.001345626713182158, 0.002167954149015699, 0.001021679541490157, 0.0004610017443309245, 0.0004859207575380015, 0.001096436581111388, 0.00099676052828308, 0.001868925990530775, 0.00074757039621231, 0.001943683030152006, 0.0007351108896087715, 0.001370545726389235, 0.0007101918764016945, 0.000473461250934463, 0.000697732369798156, 0.001868925990530775, 0.0005357587839521555, 0.000797408422626464, 0.0014577622726140045, 0.0014826812858210814, 0.001320707699975081, 0.000598056316969848, 0.0005731373037627709, 0.000971841515076003, 0.0015325193122352355, 0.0004360827311238475, 0.0011338151009220034, 0.0005357587839521555, 0.0006852728631946175, 0.0008098679292300025, 0.0016072763518564664, 0.000548218290555694, 0.0008098679292300025, 0.0004360827311238475, 0.0005357587839521555, 0.000722651383005233, 0.0008098679292300025, 0.0006852728631946175, 0.00099676052828308, 0.0009593820084724645, 0.0006852728631946175, 0.000697732369798156, 0.0004111637179167705, 0.002118116122601545, 0.0004360827311238475, 0.0011338151009220034, 0.0005855968103663095, 0.001096436581111388, 0.001270869673560927, 0.0007101918764016945, 0.0006603538499875404, 0.0008846249688512335, 0.0004859207575380015, 0.0005606777971592325, 0.0004360827311238475, 0.0004360827311238475], \"xaxis\": \"x\", \"y\": [0.00047049685962016714, 0.0009633983316031994, 0.0017176869478196578, 0.0005227742884668523, 0.0027931083412371825, 0.010082075563289297, 0.002598935034092352, 0.0034727149162440906, 0.0012397218840785357, 0.0004779650637411222, 0.003032090873107744, 0.0008289706574260088, 0.0011725080469899404, 0.00218071560331887, 0.0004630286554992121, 0.0020836289497464544, 0.0008289706574260088, 0.0007020111873697732, 0.0018819874384806686, 0.0020014787044159493, 0.0020612243373835893, 0.0011799762511108954, 0.0010530167810546597, 0.008439070656679188, 0.0007468204120955034, 0.003517524140969821, 0.0017998371931501633, 0.0004929014719830322, 0.0016131320901262873, 0.0031963913637687545, 0.0013816177623766812, 0.003286009813220215, 0.00783414612288183, 0.005526471049506725, 0.0022927386651331954, 0.0010082075563289297, 0.008999185965750816, 0.0027931083412371825, 0.001986542296174039, 0.0012098490675947155, 0.000448092247257302, 0.0014562998035862317, 0.0011650398428689852, 0.003539928753332686, 0.000642265554402133, 0.004025362021194763, 0.0015981956818843773, 0.000896184494514604, 0.0007020111873697732, 0.002643744258818082, 0.0011799762511108954, 0.0007244157997326382, 0.0005899881255554477, 0.002345016093979881, 0.006997707261334867, 0.0008140342491840987, 0.005294956721757119, 0.00108288959753848, 0.0007841614327002785, 0.003539928753332686, 0.0008215024533050538, 0.0013592131500138162, 0.00043315583901539195, 0.0005974563296764027, 0.0008289706574260088, 0.0007169475956116832, 0.0038834661428966176, 0.001762496172545388, 0.002412229931068476, 0.0010231439645708397, 0.0009111209027565141, 0.00043315583901539195, 0.001299467517046176, 0.0005302424925878075, 0.0008663116780307839, 0.0005675835131925826, 0.00047049685962016714, 0.0009409937192403343, 0.0014040223747395465, 0.0004555604513782571, 0.001792368989029208, 0.0008140342491840987, 0.002860322178325778, 0.0014114905788605015, 0.0009185891068774692, 0.0006796065750069081, 0.0004107512266525269, 0.0005899881255554477, 0.00106795318929657, 0.0004182194307734819, 0.0007841614327002785, 0.00327854160909926, 0.000896184494514604, 0.0007766932285793235, 0.0009858029439660644, 0.0005825199214344926, 0.0007617568203374135, 0.002352484298100836, 0.001075421393417525, 0.0010306121686917947, 0.00042568763489443694, 0.0016803459272148825, 0.0008513752697888739, 0.0009111209027565141, 0.0005227742884668523, 0.000873779882151739, 0.0005825199214344926, 0.0005377106967087625, 0.0004107512266525269, 0.0009260573109984242, 0.001329340333529996, 0.0018222418055130283, 0.0036295472027841466, 0.0005974563296764027, 0.001792368989029208, 0.0009484619233612893, 0.0004107512266525269, 0.0014189587829814565, 0.0016803459272148825, 0.00436143120663774, 0.0014787044159490967, 0.00043315583901539195, 0.0004032830225315718, 0.0008663116780307839, 0.0007318840038535934, 0.0005974563296764027, 0.0006049245337973577, 0.0016430049066101075, 0.0015981956818843773, 0.0005899881255554477, 0.000642265554402133, 0.0022778022568912854, 0.005003696761039873, 0.0020686925415045443, 0.000896184494514604, 0.0015085772324329168, 0.003076900097833474, 0.0007841614327002785, 0.0004032830225315718, 0.0024645073599151614, 0.0014562998035862317, 0.001075421393417525, 0.0005377106967087625, 0.0007318840038535934, 0.0019417330714483088, 0.0008140342491840987, 0.000657201962644043, 0.0010082075563289297, 0.0016131320901262873, 0.002367420706342746, 0.0008588434739098289, 0.0005003696761039873, 0.0006198609420392678, 0.0005750517173135376, 0.0005899881255554477, 0.0012397218840785357, 0.0005153060843458973, 0.000448092247257302, 0.0007841614327002785, 0.0005377106967087625, 0.0005526471049506725, 0.0005153060843458973, 0.0008140342491840987, 0.0019267966632063988, 0.0004107512266525269, 0.0006721383708859531, 0.0009036526986355591, 0.0012471900881994907, 0.0007094793914907282, 0.0016878141313358378, 0.0004779650637411222, 0.0004182194307734819, 0.0005750517173135376, 0.0006721383708859531, 0.0006049245337973577, 0.001523513640674827, 0.0004555604513782571, 0.0005750517173135376, 0.0011949126593528054, 0.0007244157997326382, 0.0006198609420392678, 0.001090357801659435, 0.0010156757604498847, 0.0010380803728127497, 0.0004854332678620772, 0.000657201962644043, 0.0007617568203374135, 0.0005899881255554477, 0.0005825199214344926, 0.00108288959753848, 0.0009932711480870194, 0.0006870747791278631, 0.0004854332678620772, 0.0033756282626716755, 0.0010082075563289297, 0.00043315583901539195, 0.0007468204120955034, 0.0004555604513782571, 0.0005675835131925826, 0.0005377106967087625, 0.0005899881255554477, 0.0011202306181432552, 0.0006123927379183127, 0.0034055010791554955, 0.0020014787044159493, 0.0004779650637411222, 0.0005526471049506725, 0.000881248086272694, 0.000440624043136347, 0.0007468204120955034, 0.0025317211970037564, 0.0004929014719830322, 0.0027856401371162275, 0.0005526471049506725, 0.0005601153090716276, 0.00042568763489443694, 0.0011575716387480302, 0.0007916296368212336, 0.0008140342491840987, 0.00042568763489443694, 0.0004779650637411222, 0.0009111209027565141, 0.0005675835131925826, 0.0005675835131925826, 0.0007916296368212336, 0.0007692250244583685, 0.0005675835131925826, 0.0006721383708859531, 0.0004107512266525269, 0.0018147736013920733, 0.0004107512266525269, 0.0014936408241910067, 0.0005526471049506725, 0.0007841614327002785, 0.001545918253037692, 0.0009484619233612893, 0.0007318840038535934, 0.0006198609420392678, 0.0005526471049506725, 0.0005825199214344926, 0.0005974563296764027, 0.0005451789008297175], \"yaxis\": \"y\"}, {\"hovertemplate\": \"<b>OLS trendline</b><br>img_proportion = 0.56061 * WA_proportion + 0.000406315<br>R<sup>2</sup>=0.628530<br><br>WA_proportion=%{x}<br>img_proportion=%{y} <b>(trend)</b><extra></extra>\", \"legendgroup\": \"\", \"marker\": {\"color\": \"#636efa\", \"symbol\": \"circle\"}, \"mode\": \"lines\", \"name\": \"\", \"showlegend\": false, \"textposition\": \"top center\", \"type\": \"scatter\", \"x\": [0.0004111637179167705, 0.0004111637179167705, 0.0004111637179167705, 0.0004111637179167705, 0.0004111637179167705, 0.000423623224520309, 0.000423623224520309, 0.0004360827311238475, 0.0004360827311238475, 0.0004360827311238475, 0.0004360827311238475, 0.0004360827311238475, 0.0004360827311238475, 0.0004360827311238475, 0.0004610017443309245, 0.000473461250934463, 0.000473461250934463, 0.0004859207575380015, 0.0004859207575380015, 0.0004859207575380015, 0.0004859207575380015, 0.00049838026414154, 0.00049838026414154, 0.00049838026414154, 0.0005108397707450785, 0.0005108397707450785, 0.000523299277348617, 0.000523299277348617, 0.0005357587839521555, 0.0005357587839521555, 0.0005357587839521555, 0.0005357587839521555, 0.0005357587839521555, 0.000548218290555694, 0.000548218290555694, 0.000548218290555694, 0.0005606777971592325, 0.0005606777971592325, 0.0005731373037627709, 0.0005731373037627709, 0.0005855968103663095, 0.0005855968103663095, 0.0005855968103663095, 0.0005855968103663095, 0.000598056316969848, 0.000598056316969848, 0.000598056316969848, 0.000598056316969848, 0.000622975330176925, 0.000622975330176925, 0.000622975330176925, 0.000622975330176925, 0.000622975330176925, 0.0006354348367804635, 0.000647894343384002, 0.0006603538499875404, 0.0006603538499875404, 0.0006603538499875404, 0.000672813356591079, 0.000672813356591079, 0.0006852728631946175, 0.0006852728631946175, 0.0006852728631946175, 0.0006852728631946175, 0.000697732369798156, 0.000697732369798156, 0.0007101918764016945, 0.0007101918764016945, 0.0007101918764016945, 0.000722651383005233, 0.000722651383005233, 0.0007351108896087715, 0.00074757039621231, 0.000772489409419387, 0.000772489409419387, 0.0007849489160229255, 0.0007849489160229255, 0.000797408422626464, 0.000797408422626464, 0.000797408422626464, 0.0008098679292300025, 0.0008098679292300025, 0.0008098679292300025, 0.0008098679292300025, 0.0008098679292300025, 0.000822327435833541, 0.000822327435833541, 0.000822327435833541, 0.0008347869424370795, 0.000847246449040618, 0.0008597059556441565, 0.000872165462247695, 0.0008846249688512335, 0.0008846249688512335, 0.0008846249688512335, 0.0008846249688512335, 0.0008970844754547719, 0.0009095439820583105, 0.0009344629952653875, 0.0009344629952653875, 0.0009593820084724645, 0.0009593820084724645, 0.0009593820084724645, 0.0009593820084724645, 0.0009593820084724645, 0.000971841515076003, 0.0009843010216795416, 0.0009843010216795416, 0.0009843010216795416, 0.00099676052828308, 0.00099676052828308, 0.00099676052828308, 0.0010092200348866185, 0.001021679541490157, 0.0010341390480936956, 0.0010341390480936956, 0.0010839770745078494, 0.001096436581111388, 0.001096436581111388, 0.001096436581111388, 0.001096436581111388, 0.0011088960877149265, 0.001121355594318465, 0.0011338151009220034, 0.0011338151009220034, 0.0011338151009220034, 0.0011462746075255419, 0.0011462746075255419, 0.0011462746075255419, 0.0011587341141290806, 0.0011587341141290806, 0.001171193620732619, 0.0011836531273361575, 0.001196112633939696, 0.001196112633939696, 0.0012085721405432346, 0.001221031647146773, 0.0012334911537503115, 0.0012334911537503115, 0.00124595066035385, 0.001270869673560927, 0.0012833291801644655, 0.0012833291801644655, 0.0012833291801644655, 0.001295788686768004, 0.001320707699975081, 0.001320707699975081, 0.0013331672065786196, 0.001345626713182158, 0.001370545726389235, 0.001370545726389235, 0.001395464739596312, 0.0014079242461998505, 0.0014079242461998505, 0.001420383752803389, 0.0014577622726140045, 0.0014826812858210814, 0.0014826812858210814, 0.00149514079242462, 0.0015076002990281586, 0.001520059805631697, 0.0015325193122352355, 0.0015325193122352355, 0.001544978818838774, 0.001569897832045851, 0.001569897832045851, 0.0015823573386493895, 0.001594816845252928, 0.0016072763518564664, 0.001694492898081236, 0.001694492898081236, 0.00174433092449539, 0.0018315474707201595, 0.001844006977323698, 0.001844006977323698, 0.0018564664839272366, 0.001868925990530775, 0.001868925990530775, 0.0018813854971343135, 0.0018813854971343135, 0.001918764016944929, 0.001918764016944929, 0.0019312235235484675, 0.001943683030152006, 0.001943683030152006, 0.0019561425367555446, 0.001968602043359083, 0.0019810615499626216, 0.0019810615499626216, 0.0019810615499626216, 0.0020059805631696985, 0.002018440069773237, 0.0020558185895838523, 0.002068278096187391, 0.002093197109394468, 0.002118116122601545, 0.002167954149015699, 0.002167954149015699, 0.0022053326688263146, 0.0022053326688263146, 0.002217792175429853, 0.0022302516820333915, 0.0022302516820333915, 0.002267630201844007, 0.002317468228258161, 0.0023299277348616996, 0.0023548467480687765, 0.0023797657612758534, 0.002417144281086469, 0.002417144281086469, 0.002442063294293546, 0.0025043608273112384, 0.002566658360328931, 0.0026538749065537007, 0.0027037129329678545, 0.0028033889857961626, 0.002815848492399701, 0.002815848492399701, 0.0028781460254173933, 0.0029030650386244706, 0.003015200598056317, 0.0032768502367306255, 0.0034512833291801643, 0.0038998255669075504, 0.004335908298031398, 0.004784450535758784, 0.004996262148018939, 0.005170695240468477, 0.0067032145527037125, 0.006715674059307251, 0.006777971592324944, 0.006802890605532021, 0.007351108896087715, 0.007538001495140793, 0.007986543732868178, 0.008123598305507101, 0.008534762023423872, 0.008734114129080489, 0.009120358833790181, 0.010179416895090955, 0.010590580613007725, 0.01611014203837528], \"xaxis\": \"x\", \"y\": [0.0006368170548787543, 0.0006368170548787543, 0.0006368170548787543, 0.0006368170548787543, 0.0006368170548787543, 0.0006438019806313443, 0.0006438019806313443, 0.0006507869063839343, 0.0006507869063839343, 0.0006507869063839343, 0.0006507869063839343, 0.0006507869063839343, 0.0006507869063839343, 0.0006507869063839343, 0.0006647567578891142, 0.0006717416836417042, 0.0006717416836417042, 0.0006787266093942941, 0.0006787266093942941, 0.0006787266093942941, 0.0006787266093942941, 0.0006857115351468841, 0.0006857115351468841, 0.0006857115351468841, 0.000692696460899474, 0.000692696460899474, 0.0006996813866520641, 0.0006996813866520641, 0.0007066663124046539, 0.0007066663124046539, 0.0007066663124046539, 0.0007066663124046539, 0.0007066663124046539, 0.000713651238157244, 0.000713651238157244, 0.000713651238157244, 0.0007206361639098339, 0.0007206361639098339, 0.0007276210896624239, 0.0007276210896624239, 0.0007346060154150138, 0.0007346060154150138, 0.0007346060154150138, 0.0007346060154150138, 0.0007415909411676038, 0.0007415909411676038, 0.0007415909411676038, 0.0007415909411676038, 0.0007555607926727837, 0.0007555607926727837, 0.0007555607926727837, 0.0007555607926727837, 0.0007555607926727837, 0.0007625457184253738, 0.0007695306441779636, 0.0007765155699305536, 0.0007765155699305536, 0.0007765155699305536, 0.0007835004956831435, 0.0007835004956831435, 0.0007904854214357335, 0.0007904854214357335, 0.0007904854214357335, 0.0007904854214357335, 0.0007974703471883234, 0.0007974703471883234, 0.0008044552729409135, 0.0008044552729409135, 0.0008044552729409135, 0.0008114401986935034, 0.0008114401986935034, 0.0008184251244460934, 0.0008254100501986833, 0.0008393799017038632, 0.0008393799017038632, 0.0008463648274564532, 0.0008463648274564532, 0.0008533497532090431, 0.0008533497532090431, 0.0008533497532090431, 0.0008603346789616332, 0.0008603346789616332, 0.0008603346789616332, 0.0008603346789616332, 0.0008603346789616332, 0.0008673196047142231, 0.0008673196047142231, 0.0008673196047142231, 0.0008743045304668131, 0.000881289456219403, 0.000888274381971993, 0.000895259307724583, 0.0009022442334771729, 0.0009022442334771729, 0.0009022442334771729, 0.0009022442334771729, 0.0009092291592297627, 0.0009162140849823528, 0.0009301839364875327, 0.0009301839364875327, 0.0009441537879927126, 0.0009441537879927126, 0.0009441537879927126, 0.0009441537879927126, 0.0009441537879927126, 0.0009511387137453027, 0.0009581236394978925, 0.0009581236394978925, 0.0009581236394978925, 0.0009651085652504826, 0.0009651085652504826, 0.0009651085652504826, 0.0009720934910030724, 0.0009790784167556625, 0.0009860633425082526, 0.0009860633425082526, 0.0010140030455186122, 0.0010209879712712022, 0.0010209879712712022, 0.0010209879712712022, 0.0010209879712712022, 0.0010279728970237923, 0.0010349578227763822, 0.001041942748528972, 0.001041942748528972, 0.001041942748528972, 0.001048927674281562, 0.001048927674281562, 0.001048927674281562, 0.0010559126000341521, 0.0010559126000341521, 0.001062897525786742, 0.001069882451539332, 0.001076867377291922, 0.001076867377291922, 0.001083852303044512, 0.0010908372287971018, 0.0010978221545496919, 0.0010978221545496919, 0.0011048070803022817, 0.0011187769318074618, 0.0011257618575600517, 0.0011257618575600517, 0.0011257618575600517, 0.0011327467833126415, 0.0011467166348178215, 0.0011467166348178215, 0.0011537015605704115, 0.0011606864863230016, 0.0011746563378281813, 0.0011746563378281813, 0.0011886261893333614, 0.0011956111150859513, 0.0011956111150859513, 0.0012025960408385413, 0.001223550818096311, 0.001237520669601491, 0.001237520669601491, 0.001244505595354081, 0.0012514905211066711, 0.001258475446859261, 0.0012654603726118508, 0.0012654603726118508, 0.0012724452983644409, 0.0012864151498696208, 0.0012864151498696208, 0.0012934000756222109, 0.0013003850013748007, 0.0013073699271273906, 0.0013562644073955204, 0.0013562644073955204, 0.0013842041104058804, 0.00143309859067401, 0.0014400835164266, 0.0014400835164266, 0.00144706844217919, 0.00145405336793178, 0.00145405336793178, 0.0014610382936843698, 0.0014610382936843698, 0.0014819930709421398, 0.0014819930709421398, 0.0014889779966947298, 0.0014959629224473197, 0.0014959629224473197, 0.0015029478481999098, 0.0015099327739524996, 0.0015169176997050897, 0.0015169176997050897, 0.0015169176997050897, 0.0015308875512102696, 0.0015378724769628594, 0.0015588272542206292, 0.0015658121799732195, 0.0015797820314783994, 0.001593751882983579, 0.001621691585993939, 0.001621691585993939, 0.0016426463632517089, 0.0016426463632517089, 0.001649631289004299, 0.0016566162147568888, 0.0016566162147568888, 0.0016775709920146585, 0.0017055106950250186, 0.0017124956207776086, 0.0017264654722827883, 0.0017404353237879683, 0.0017613901010457384, 0.0017613901010457384, 0.0017753599525509181, 0.0018102845813138678, 0.001845209210076818, 0.0018941036903449475, 0.0019220433933553073, 0.0019779227993760268, 0.001984907725128617, 0.001984907725128617, 0.0020198323538915667, 0.002033802205396747, 0.0020966665371700563, 0.0022433499779744453, 0.002341138938510705, 0.0025925962656039433, 0.002837068666944592, 0.0030885259940378307, 0.0032072697318318603, 0.0033050586923681195, 0.004164204559936685, 0.004171189485689275, 0.004206114114452225, 0.004220083965957405, 0.004527420699071362, 0.004632194585360213, 0.004883651912453451, 0.00496048609573194, 0.005190988645567409, 0.005302747457608848, 0.005519280155939137, 0.006112998844909285, 0.006343501394744753, 0.009437823503142106], \"yaxis\": \"y\"}, {\"hovertemplate\": \"x=%{x}<br>y=%{y}<extra></extra>\", \"legendgroup\": \"\", \"line\": {\"color\": \"#636efa\", \"dash\": \"solid\"}, \"mode\": \"lines\", \"name\": \"\", \"orientation\": \"v\", \"showlegend\": false, \"type\": \"scatter\", \"x\": [0], \"xaxis\": \"x\", \"y\": [0], \"yaxis\": \"y\"}],                        {\"autosize\": false, \"height\": 900, \"template\": {\"data\": {\"bar\": [{\"error_x\": {\"color\": \"#2a3f5f\"}, \"error_y\": {\"color\": \"#2a3f5f\"}, \"marker\": {\"line\": {\"color\": \"#E5ECF6\", \"width\": 0.5}}, \"type\": \"bar\"}], \"barpolar\": [{\"marker\": {\"line\": {\"color\": \"#E5ECF6\", \"width\": 0.5}}, \"type\": \"barpolar\"}], \"carpet\": [{\"aaxis\": {\"endlinecolor\": \"#2a3f5f\", \"gridcolor\": \"white\", \"linecolor\": \"white\", \"minorgridcolor\": \"white\", \"startlinecolor\": \"#2a3f5f\"}, \"baxis\": {\"endlinecolor\": \"#2a3f5f\", \"gridcolor\": \"white\", \"linecolor\": \"white\", \"minorgridcolor\": \"white\", \"startlinecolor\": \"#2a3f5f\"}, \"type\": \"carpet\"}], \"choropleth\": [{\"colorbar\": {\"outlinewidth\": 0, \"ticks\": \"\"}, \"type\": \"choropleth\"}], \"contour\": [{\"colorbar\": {\"outlinewidth\": 0, \"ticks\": \"\"}, \"colorscale\": [[0.0, \"#0d0887\"], [0.1111111111111111, \"#46039f\"], [0.2222222222222222, \"#7201a8\"], [0.3333333333333333, \"#9c179e\"], [0.4444444444444444, \"#bd3786\"], [0.5555555555555556, \"#d8576b\"], [0.6666666666666666, \"#ed7953\"], [0.7777777777777778, \"#fb9f3a\"], [0.8888888888888888, \"#fdca26\"], [1.0, \"#f0f921\"]], \"type\": \"contour\"}], \"contourcarpet\": [{\"colorbar\": {\"outlinewidth\": 0, \"ticks\": \"\"}, \"type\": \"contourcarpet\"}], \"heatmap\": [{\"colorbar\": {\"outlinewidth\": 0, \"ticks\": \"\"}, \"colorscale\": [[0.0, \"#0d0887\"], [0.1111111111111111, \"#46039f\"], [0.2222222222222222, \"#7201a8\"], [0.3333333333333333, \"#9c179e\"], [0.4444444444444444, \"#bd3786\"], [0.5555555555555556, \"#d8576b\"], [0.6666666666666666, \"#ed7953\"], [0.7777777777777778, \"#fb9f3a\"], [0.8888888888888888, \"#fdca26\"], [1.0, \"#f0f921\"]], \"type\": \"heatmap\"}], \"heatmapgl\": [{\"colorbar\": {\"outlinewidth\": 0, \"ticks\": \"\"}, \"colorscale\": [[0.0, \"#0d0887\"], [0.1111111111111111, \"#46039f\"], [0.2222222222222222, \"#7201a8\"], [0.3333333333333333, \"#9c179e\"], [0.4444444444444444, \"#bd3786\"], [0.5555555555555556, \"#d8576b\"], [0.6666666666666666, \"#ed7953\"], [0.7777777777777778, \"#fb9f3a\"], [0.8888888888888888, \"#fdca26\"], [1.0, \"#f0f921\"]], \"type\": \"heatmapgl\"}], \"histogram\": [{\"marker\": {\"colorbar\": {\"outlinewidth\": 0, \"ticks\": \"\"}}, \"type\": \"histogram\"}], \"histogram2d\": [{\"colorbar\": {\"outlinewidth\": 0, \"ticks\": \"\"}, \"colorscale\": [[0.0, \"#0d0887\"], [0.1111111111111111, \"#46039f\"], [0.2222222222222222, \"#7201a8\"], [0.3333333333333333, \"#9c179e\"], [0.4444444444444444, \"#bd3786\"], [0.5555555555555556, \"#d8576b\"], [0.6666666666666666, \"#ed7953\"], [0.7777777777777778, \"#fb9f3a\"], [0.8888888888888888, \"#fdca26\"], [1.0, \"#f0f921\"]], \"type\": \"histogram2d\"}], \"histogram2dcontour\": [{\"colorbar\": {\"outlinewidth\": 0, \"ticks\": \"\"}, \"colorscale\": [[0.0, \"#0d0887\"], [0.1111111111111111, \"#46039f\"], [0.2222222222222222, \"#7201a8\"], [0.3333333333333333, \"#9c179e\"], [0.4444444444444444, \"#bd3786\"], [0.5555555555555556, \"#d8576b\"], [0.6666666666666666, \"#ed7953\"], [0.7777777777777778, \"#fb9f3a\"], [0.8888888888888888, \"#fdca26\"], [1.0, \"#f0f921\"]], \"type\": \"histogram2dcontour\"}], \"mesh3d\": [{\"colorbar\": {\"outlinewidth\": 0, \"ticks\": \"\"}, \"type\": \"mesh3d\"}], \"parcoords\": [{\"line\": {\"colorbar\": {\"outlinewidth\": 0, \"ticks\": \"\"}}, \"type\": \"parcoords\"}], \"pie\": [{\"automargin\": true, \"type\": \"pie\"}], \"scatter\": [{\"marker\": {\"colorbar\": {\"outlinewidth\": 0, \"ticks\": \"\"}}, \"type\": \"scatter\"}], \"scatter3d\": [{\"line\": {\"colorbar\": {\"outlinewidth\": 0, \"ticks\": \"\"}}, \"marker\": {\"colorbar\": {\"outlinewidth\": 0, \"ticks\": \"\"}}, \"type\": \"scatter3d\"}], \"scattercarpet\": [{\"marker\": {\"colorbar\": {\"outlinewidth\": 0, \"ticks\": \"\"}}, \"type\": \"scattercarpet\"}], \"scattergeo\": [{\"marker\": {\"colorbar\": {\"outlinewidth\": 0, \"ticks\": \"\"}}, \"type\": \"scattergeo\"}], \"scattergl\": [{\"marker\": {\"colorbar\": {\"outlinewidth\": 0, \"ticks\": \"\"}}, \"type\": \"scattergl\"}], \"scattermapbox\": [{\"marker\": {\"colorbar\": {\"outlinewidth\": 0, \"ticks\": \"\"}}, \"type\": \"scattermapbox\"}], \"scatterpolar\": [{\"marker\": {\"colorbar\": {\"outlinewidth\": 0, \"ticks\": \"\"}}, \"type\": \"scatterpolar\"}], \"scatterpolargl\": [{\"marker\": {\"colorbar\": {\"outlinewidth\": 0, \"ticks\": \"\"}}, \"type\": \"scatterpolargl\"}], \"scatterternary\": [{\"marker\": {\"colorbar\": {\"outlinewidth\": 0, \"ticks\": \"\"}}, \"type\": \"scatterternary\"}], \"surface\": [{\"colorbar\": {\"outlinewidth\": 0, \"ticks\": \"\"}, \"colorscale\": [[0.0, \"#0d0887\"], [0.1111111111111111, \"#46039f\"], [0.2222222222222222, \"#7201a8\"], [0.3333333333333333, \"#9c179e\"], [0.4444444444444444, \"#bd3786\"], [0.5555555555555556, \"#d8576b\"], [0.6666666666666666, \"#ed7953\"], [0.7777777777777778, \"#fb9f3a\"], [0.8888888888888888, \"#fdca26\"], [1.0, \"#f0f921\"]], \"type\": \"surface\"}], \"table\": [{\"cells\": {\"fill\": {\"color\": \"#EBF0F8\"}, \"line\": {\"color\": \"white\"}}, \"header\": {\"fill\": {\"color\": \"#C8D4E3\"}, \"line\": {\"color\": \"white\"}}, \"type\": \"table\"}]}, \"layout\": {\"annotationdefaults\": {\"arrowcolor\": \"#2a3f5f\", \"arrowhead\": 0, \"arrowwidth\": 1}, \"autotypenumbers\": \"strict\", \"coloraxis\": {\"colorbar\": {\"outlinewidth\": 0, \"ticks\": \"\"}}, \"colorscale\": {\"diverging\": [[0, \"#8e0152\"], [0.1, \"#c51b7d\"], [0.2, \"#de77ae\"], [0.3, \"#f1b6da\"], [0.4, \"#fde0ef\"], [0.5, \"#f7f7f7\"], [0.6, \"#e6f5d0\"], [0.7, \"#b8e186\"], [0.8, \"#7fbc41\"], [0.9, \"#4d9221\"], [1, \"#276419\"]], \"sequential\": [[0.0, \"#0d0887\"], [0.1111111111111111, \"#46039f\"], [0.2222222222222222, \"#7201a8\"], [0.3333333333333333, \"#9c179e\"], [0.4444444444444444, \"#bd3786\"], [0.5555555555555556, \"#d8576b\"], [0.6666666666666666, \"#ed7953\"], [0.7777777777777778, \"#fb9f3a\"], [0.8888888888888888, \"#fdca26\"], [1.0, \"#f0f921\"]], \"sequentialminus\": [[0.0, \"#0d0887\"], [0.1111111111111111, \"#46039f\"], [0.2222222222222222, \"#7201a8\"], [0.3333333333333333, \"#9c179e\"], [0.4444444444444444, \"#bd3786\"], [0.5555555555555556, \"#d8576b\"], [0.6666666666666666, \"#ed7953\"], [0.7777777777777778, \"#fb9f3a\"], [0.8888888888888888, \"#fdca26\"], [1.0, \"#f0f921\"]]}, \"colorway\": [\"#636efa\", \"#EF553B\", \"#00cc96\", \"#ab63fa\", \"#FFA15A\", \"#19d3f3\", \"#FF6692\", \"#B6E880\", \"#FF97FF\", \"#FECB52\"], \"font\": {\"color\": \"#2a3f5f\"}, \"geo\": {\"bgcolor\": \"white\", \"lakecolor\": \"white\", \"landcolor\": \"#E5ECF6\", \"showlakes\": true, \"showland\": true, \"subunitcolor\": \"white\"}, \"hoverlabel\": {\"align\": \"left\"}, \"hovermode\": \"closest\", \"mapbox\": {\"style\": \"light\"}, \"paper_bgcolor\": \"white\", \"plot_bgcolor\": \"#E5ECF6\", \"polar\": {\"angularaxis\": {\"gridcolor\": \"white\", \"linecolor\": \"white\", \"ticks\": \"\"}, \"bgcolor\": \"#E5ECF6\", \"radialaxis\": {\"gridcolor\": \"white\", \"linecolor\": \"white\", \"ticks\": \"\"}}, \"scene\": {\"xaxis\": {\"backgroundcolor\": \"#E5ECF6\", \"gridcolor\": \"white\", \"gridwidth\": 2, \"linecolor\": \"white\", \"showbackground\": true, \"ticks\": \"\", \"zerolinecolor\": \"white\"}, \"yaxis\": {\"backgroundcolor\": \"#E5ECF6\", \"gridcolor\": \"white\", \"gridwidth\": 2, \"linecolor\": \"white\", \"showbackground\": true, \"ticks\": \"\", \"zerolinecolor\": \"white\"}, \"zaxis\": {\"backgroundcolor\": \"#E5ECF6\", \"gridcolor\": \"white\", \"gridwidth\": 2, \"linecolor\": \"white\", \"showbackground\": true, \"ticks\": \"\", \"zerolinecolor\": \"white\"}}, \"shapedefaults\": {\"line\": {\"color\": \"#2a3f5f\"}}, \"ternary\": {\"aaxis\": {\"gridcolor\": \"white\", \"linecolor\": \"white\", \"ticks\": \"\"}, \"baxis\": {\"gridcolor\": \"white\", \"linecolor\": \"white\", \"ticks\": \"\"}, \"bgcolor\": \"#E5ECF6\", \"caxis\": {\"gridcolor\": \"white\", \"linecolor\": \"white\", \"ticks\": \"\"}}, \"title\": {\"x\": 0.05}, \"xaxis\": {\"automargin\": true, \"gridcolor\": \"white\", \"linecolor\": \"white\", \"ticks\": \"\", \"title\": {\"standoff\": 15}, \"zerolinecolor\": \"white\", \"zerolinewidth\": 2}, \"yaxis\": {\"automargin\": true, \"gridcolor\": \"white\", \"linecolor\": \"white\", \"ticks\": \"\", \"title\": {\"standoff\": 15}, \"zerolinecolor\": \"white\", \"zerolinewidth\": 2}}}, \"width\": 900, \"xaxis\": {\"range\": [-3.3880341096413864, -1.6965818195541233], \"type\": \"log\"}, \"yaxis\": {\"range\": [-3.3880341096413864, -1.6965818195541233], \"type\": \"log\"}},                        {\"responsive\": true}                    ).then(function(){\n",
       "                            \n",
       "var gd = document.getElementById('71d20858-d18a-4049-a458-1bc6deb97e9a');\n",
       "var x = new MutationObserver(function (mutations, observer) {{\n",
       "        var display = window.getComputedStyle(gd).display;\n",
       "        if (!display || display === 'none') {{\n",
       "            console.log([gd, 'removed!']);\n",
       "            Plotly.purge(gd);\n",
       "            observer.disconnect();\n",
       "        }}\n",
       "}});\n",
       "\n",
       "// Listen for the removal of the full notebook cells\n",
       "var notebookContainer = gd.closest('#notebook-container');\n",
       "if (notebookContainer) {{\n",
       "    x.observe(notebookContainer, {childList: true});\n",
       "}}\n",
       "\n",
       "// Listen for the clearing of the current output cell\n",
       "var outputEl = gd.closest('.output');\n",
       "if (outputEl) {{\n",
       "    x.observe(outputEl, {childList: true});\n",
       "}}\n",
       "\n",
       "                        })                };                });            </script>        </div>"
      ]
     },
     "metadata": {},
     "output_type": "display_data"
    }
   ],
   "source": [
    "import plotly.express as px\n",
    "import plotly.graph_objects as go\n",
    "\n",
    "fig1 = px.scatter(result_clean, x=\"WA_proportion\", y=\"img_proportion\", text=\"word\", size_max=60, \n",
    "                 trendline=\"ols\",\n",
    "                 log_x=True, log_y=True)\n",
    "\n",
    "\n",
    "fig1.update_traces(textposition='top center')\n",
    "\n",
    "fig1.update_layout(\n",
    "    #height=800,\n",
    "    #plot_bgcolor=\"white\",\n",
    "    title_text='Comparison of Words Found in Text Messages and Images'\n",
    "   \n",
    ")\n",
    "\n",
    "fig1.update_yaxes(range=list([-3.3880341096413864, -1.6965818195541233]))\n",
    "fig1.update_xaxes(range=list([-3.3880341096413864, -1.6965818195541233]))\n",
    "\n",
    "\n",
    "ax_arr = np.arange(0, 1) #list(range(-3.3880341096413864, -1.6965818195541233))\n",
    "fig2 = px.line(x=ax_arr,y=ax_arr,log_x=True,log_y=True,) #, color=rgb(140, 140, 140))      \n",
    "#fig2.update_layout(plot_bgcolor=\"white\")\n",
    "               \n",
    "\n",
    "\n",
    "fig = go.Figure(data=fig1.data + fig2.data)\n",
    "\n",
    "fig.update_xaxes(type=\"log\", range=list([-3.3880341096413864, -1.6965818195541233])) \n",
    "fig.update_yaxes(type=\"log\", range=list([-3.3880341096413864, -1.6965818195541233]))\n",
    "\n",
    "fig.update_layout(\n",
    "    #plot_bgcolor=\"white\",\n",
    "    autosize=False,\n",
    "    width=900,\n",
    "    height=900\n",
    ")\n",
    "\n",
    "fig.show()"
   ]
  },
  {
   "cell_type": "code",
   "execution_count": 236,
   "metadata": {},
   "outputs": [
    {
     "data": {
      "application/vnd.plotly.v1+json": {
       "config": {
        "plotlyServerURL": "https://plot.ly"
       },
       "data": [
        {
         "marker": {
          "color": "#514E80",
          "opacity": 0.5,
          "size": 5
         },
         "mode": "markers+text",
         "text": [
          "read",
          "today",
          "people",
          "leave",
          "bed",
          "hospital",
          "home",
          "india",
          "icu",
          "lead",
          "delhi",
          "liposomal",
          "amphotericin",
          "b",
          "pharma",
          "new",
          "private",
          "helpline",
          "also",
          "mg",
          "injection",
          "phone",
          "jaipur",
          "available",
          "month",
          "plasma",
          "bank",
          "would",
          "request",
          "donor",
          "come",
          "help",
          "patient",
          "name",
          "age",
          "level",
          "blood",
          "group",
          "call",
          "life",
          "let",
          "send",
          "case",
          "may",
          "add",
          "contact",
          "require",
          "pradesh",
          "urgent",
          "need",
          "year",
          "location",
          "supply",
          "use",
          "oxygen",
          "jain",
          "covid",
          "positive",
          "admit",
          "number",
          "requirement",
          "city",
          "sir",
          "mother",
          "mr.",
          "last",
          "day",
          "doctor",
          "give",
          "ventilator",
          "save",
          "heart",
          "family",
          "member",
          "share",
          "delivery",
          "pay",
          "whatsapp",
          "follow",
          "link",
          "kumar",
          "concentrator",
          "covid-19",
          "singh",
          "beds",
          "near",
          "central",
          "school",
          "verify",
          "govt",
          "full",
          "time",
          "get",
          "type",
          "good",
          "see",
          "check",
          "free",
          "start",
          "team",
          "ambulance",
          "service",
          "person",
          "work",
          "email",
          "verified",
          "well",
          "right",
          "society",
          "message",
          "cylinder",
          "road",
          "medical",
          "mumbai",
          "medicine",
          "address",
          "old",
          "detail",
          "nagar",
          "pm",
          "drug",
          "non",
          "stock",
          "emergency",
          "support",
          "gandhi",
          "public",
          "say",
          "vaccine",
          "covishield",
          "institute",
          "take",
          "report",
          "government",
          "issue",
          "dose",
          "health",
          "know",
          "die",
          "state",
          "unit",
          "order",
          "list",
          "news",
          "corona",
          "water",
          "minister",
          "country",
          "treatment",
          "dr.",
          "first",
          "hand",
          "general",
          "amount",
          "reddy",
          "form",
          "black",
          "k",
          "many",
          "indian",
          "national",
          "social",
          "area",
          "make",
          "cost",
          "stay",
          "ward",
          "dr",
          "refill",
          "mobile",
          "sharma",
          "condition",
          "second",
          "june",
          "tell",
          "-",
          "ask",
          "online",
          "go",
          "receive",
          "prescription",
          "control",
          "provide",
          "office",
          "back",
          "market",
          "find",
          "friend",
          "father",
          "gupta",
          "college",
          "donate",
          "remdesivir",
          "date",
          "morning",
          "tweet",
          "reach",
          "look",
          "facility",
          "daily",
          "availability",
          "information",
          "high",
          "district",
          "aligarh",
          "slot",
          "h",
          "hour",
          "close",
          "keep",
          "center",
          "telangana",
          "nashik",
          "gas",
          "price",
          "volunteer",
          "food",
          "note",
          "disease",
          "krishna",
          "meal",
          "centre",
          "donation",
          "place",
          "open",
          "post",
          "even",
          "fill",
          "visakhapatnam",
          "hyderabad",
          "problem",
          "vaccination",
          "sri",
          "total",
          "care",
          "test",
          "live",
          "card",
          "n",
          "company",
          "include",
          "relate"
         ],
         "textposition": "bottom left",
         "type": "scatter",
         "x": [
          0.000523299277348617,
          0.0012833291801644655,
          0.002815848492399701,
          0.0006354348367804635,
          0.0067032145527037125,
          0.01611014203837528,
          0.002217792175429853,
          0.002417144281086469,
          0.0026538749065537007,
          0.004335908298031398,
          0.006715674059307251,
          0.0011088960877149265,
          0.0012334911537503115,
          0.0022053326688263146,
          0.0005855968103663095,
          0.001844006977323698,
          0.000822327435833541,
          0.000797408422626464,
          0.0027037129329678545,
          0.000822327435833541,
          0.002267630201844007,
          0.0011587341141290806,
          0.001096436581111388,
          0.007538001495140793,
          0.0005855968103663095,
          0.004996262148018939,
          0.0011836531273361575,
          0.0010341390480936956,
          0.002068278096187391,
          0.002093197109394468,
          0.0015823573386493895,
          0.008123598305507101,
          0.010179416895090955,
          0.007351108896087715,
          0.0034512833291801643,
          0.001694492898081236,
          0.008734114129080489,
          0.007986543732868178,
          0.0029030650386244706,
          0.001594816845252928,
          0.001370545726389235,
          0.002167954149015699,
          0.0019810615499626216,
          0.0032768502367306255,
          0.0004111637179167705,
          0.009120358833790181,
          0.0038998255669075504,
          0.000797408422626464,
          0.0019810615499626216,
          0.008534762023423872,
          0.001569897832045851,
          0.002317468228258161,
          0.0009843010216795416,
          0.0019561425367555446,
          0.010590580613007725,
          0.000722651383005233,
          0.006802890605532021,
          0.001520059805631697,
          0.001395464739596312,
          0.005170695240468477,
          0.002566658360328931,
          0.0020558185895838523,
          0.001121355594318465,
          0.000622975330176925,
          0.0005108397707450785,
          0.0009593820084724645,
          0.0028781460254173933,
          0.0019312235235484675,
          0.001968602043359083,
          0.0018564664839272366,
          0.0009344629952653875,
          0.000598056316969848,
          0.001918764016944929,
          0.00124595066035385,
          0.002815848492399701,
          0.000622975330176925,
          0.0008846249688512335,
          0.0023548467480687765,
          0.0011587341141290806,
          0.0022302516820333915,
          0.0011338151009220034,
          0.0014079242461998505,
          0.001196112633939696,
          0.0009344629952653875,
          0.0007101918764016945,
          0.00049838026414154,
          0.000523299277348617,
          0.00049838026414154,
          0.006777971592324944,
          0.0009593820084724645,
          0.0005606777971592325,
          0.002442063294293546,
          0.0020059805631696985,
          0.000622975330176925,
          0.001320707699975081,
          0.000872165462247695,
          0.0018813854971343135,
          0.003015200598056317,
          0.0012833291801644655,
          0.001096436581111388,
          0.00099676052828308,
          0.0011462746075255419,
          0.0018813854971343135,
          0.001918764016944929,
          0.000672813356591079,
          0.0013331672065786196,
          0.0008970844754547719,
          0.0005855968103663095,
          0.0010839770745078494,
          0.004784450535758784,
          0.0023299277348616996,
          0.0010092200348866185,
          0.0028033889857961626,
          0.0008846249688512335,
          0.00174433092449539,
          0.001221031647146773,
          0.0008347869424370795,
          0.002417144281086469,
          0.0022053326688263146,
          0.0018315474707201595,
          0.001420383752803389,
          0.0007849489160229255,
          0.000548218290555694,
          0.0011462746075255419,
          0.0019810615499626216,
          0.000598056316969848,
          0.0004859207575380015,
          0.0014079242461998505,
          0.001943683030152006,
          0.0008846249688512335,
          0.0004111637179167705,
          0.0022302516820333915,
          0.001196112633939696,
          0.00149514079242462,
          0.000822327435833541,
          0.0012833291801644655,
          0.0009843010216795416,
          0.0023797657612758534,
          0.0004111637179167705,
          0.0011462746075255419,
          0.0025043608273112384,
          0.000622975330176925,
          0.001844006977323698,
          0.000647894343384002,
          0.0010341390480936956,
          0.0005357587839521555,
          0.0005731373037627709,
          0.0006603538499875404,
          0.0015325193122352355,
          0.000772489409419387,
          0.0009593820084724645,
          0.0006603538499875404,
          0.000548218290555694,
          0.000473461250934463,
          0.00049838026414154,
          0.0015076002990281586,
          0.0009593820084724645,
          0.0008098679292300025,
          0.0009095439820583105,
          0.0005357587839521555,
          0.0004360827311238475,
          0.0004111637179167705,
          0.0012334911537503115,
          0.0014826812858210814,
          0.001295788686768004,
          0.000423623224520309,
          0.0004360827311238475,
          0.001544978818838774,
          0.001171193620732619,
          0.001569897832045851,
          0.000598056316969848,
          0.000772489409419387,
          0.0008098679292300025,
          0.0006852728631946175,
          0.000672813356591079,
          0.0009843010216795416,
          0.0012085721405432346,
          0.0008597059556441565,
          0.002018440069773237,
          0.0005108397707450785,
          0.000847246449040618,
          0.000423623224520309,
          0.001694492898081236,
          0.000622975330176925,
          0.0004859207575380015,
          0.0007849489160229255,
          0.001345626713182158,
          0.002167954149015699,
          0.001021679541490157,
          0.0004610017443309245,
          0.0004859207575380015,
          0.001096436581111388,
          0.00099676052828308,
          0.001868925990530775,
          0.00074757039621231,
          0.001943683030152006,
          0.0007351108896087715,
          0.001370545726389235,
          0.0007101918764016945,
          0.000473461250934463,
          0.000697732369798156,
          0.001868925990530775,
          0.0005357587839521555,
          0.000797408422626464,
          0.0014577622726140045,
          0.0014826812858210814,
          0.001320707699975081,
          0.000598056316969848,
          0.0005731373037627709,
          0.000971841515076003,
          0.0015325193122352355,
          0.0004360827311238475,
          0.0011338151009220034,
          0.0005357587839521555,
          0.0006852728631946175,
          0.0008098679292300025,
          0.0016072763518564664,
          0.000548218290555694,
          0.0008098679292300025,
          0.0004360827311238475,
          0.0005357587839521555,
          0.000722651383005233,
          0.0008098679292300025,
          0.0006852728631946175,
          0.00099676052828308,
          0.0009593820084724645,
          0.0006852728631946175,
          0.000697732369798156,
          0.0004111637179167705,
          0.002118116122601545,
          0.0004360827311238475,
          0.0011338151009220034,
          0.0005855968103663095,
          0.001096436581111388,
          0.001270869673560927,
          0.0007101918764016945,
          0.0006603538499875404,
          0.0008846249688512335,
          0.0004859207575380015,
          0.0005606777971592325,
          0.0004360827311238475,
          0.0004360827311238475
         ],
         "y": [
          0.00047049685962016714,
          0.0009633983316031994,
          0.0017176869478196578,
          0.0005227742884668523,
          0.0027931083412371825,
          0.010082075563289297,
          0.002598935034092352,
          0.0034727149162440906,
          0.0012397218840785357,
          0.0004779650637411222,
          0.003032090873107744,
          0.0008289706574260088,
          0.0011725080469899404,
          0.00218071560331887,
          0.0004630286554992121,
          0.0020836289497464544,
          0.0008289706574260088,
          0.0007020111873697732,
          0.0018819874384806686,
          0.0020014787044159493,
          0.0020612243373835893,
          0.0011799762511108954,
          0.0010530167810546597,
          0.008439070656679188,
          0.0007468204120955034,
          0.003517524140969821,
          0.0017998371931501633,
          0.0004929014719830322,
          0.0016131320901262873,
          0.0031963913637687545,
          0.0013816177623766812,
          0.003286009813220215,
          0.00783414612288183,
          0.005526471049506725,
          0.0022927386651331954,
          0.0010082075563289297,
          0.008999185965750816,
          0.0027931083412371825,
          0.001986542296174039,
          0.0012098490675947155,
          0.000448092247257302,
          0.0014562998035862317,
          0.0011650398428689852,
          0.003539928753332686,
          0.000642265554402133,
          0.004025362021194763,
          0.0015981956818843773,
          0.000896184494514604,
          0.0007020111873697732,
          0.002643744258818082,
          0.0011799762511108954,
          0.0007244157997326382,
          0.0005899881255554477,
          0.002345016093979881,
          0.006997707261334867,
          0.0008140342491840987,
          0.005294956721757119,
          0.00108288959753848,
          0.0007841614327002785,
          0.003539928753332686,
          0.0008215024533050538,
          0.0013592131500138162,
          0.00043315583901539195,
          0.0005974563296764027,
          0.0008289706574260088,
          0.0007169475956116832,
          0.0038834661428966176,
          0.001762496172545388,
          0.002412229931068476,
          0.0010231439645708397,
          0.0009111209027565141,
          0.00043315583901539195,
          0.001299467517046176,
          0.0005302424925878075,
          0.0008663116780307839,
          0.0005675835131925826,
          0.00047049685962016714,
          0.0009409937192403343,
          0.0014040223747395465,
          0.0004555604513782571,
          0.001792368989029208,
          0.0008140342491840987,
          0.002860322178325778,
          0.0014114905788605015,
          0.0009185891068774692,
          0.0006796065750069081,
          0.0004107512266525269,
          0.0005899881255554477,
          0.00106795318929657,
          0.0004182194307734819,
          0.0007841614327002785,
          0.00327854160909926,
          0.000896184494514604,
          0.0007766932285793235,
          0.0009858029439660644,
          0.0005825199214344926,
          0.0007617568203374135,
          0.002352484298100836,
          0.001075421393417525,
          0.0010306121686917947,
          0.00042568763489443694,
          0.0016803459272148825,
          0.0008513752697888739,
          0.0009111209027565141,
          0.0005227742884668523,
          0.000873779882151739,
          0.0005825199214344926,
          0.0005377106967087625,
          0.0004107512266525269,
          0.0009260573109984242,
          0.001329340333529996,
          0.0018222418055130283,
          0.0036295472027841466,
          0.0005974563296764027,
          0.001792368989029208,
          0.0009484619233612893,
          0.0004107512266525269,
          0.0014189587829814565,
          0.0016803459272148825,
          0.00436143120663774,
          0.0014787044159490967,
          0.00043315583901539195,
          0.0004032830225315718,
          0.0008663116780307839,
          0.0007318840038535934,
          0.0005974563296764027,
          0.0006049245337973577,
          0.0016430049066101075,
          0.0015981956818843773,
          0.0005899881255554477,
          0.000642265554402133,
          0.0022778022568912854,
          0.005003696761039873,
          0.0020686925415045443,
          0.000896184494514604,
          0.0015085772324329168,
          0.003076900097833474,
          0.0007841614327002785,
          0.0004032830225315718,
          0.0024645073599151614,
          0.0014562998035862317,
          0.001075421393417525,
          0.0005377106967087625,
          0.0007318840038535934,
          0.0019417330714483088,
          0.0008140342491840987,
          0.000657201962644043,
          0.0010082075563289297,
          0.0016131320901262873,
          0.002367420706342746,
          0.0008588434739098289,
          0.0005003696761039873,
          0.0006198609420392678,
          0.0005750517173135376,
          0.0005899881255554477,
          0.0012397218840785357,
          0.0005153060843458973,
          0.000448092247257302,
          0.0007841614327002785,
          0.0005377106967087625,
          0.0005526471049506725,
          0.0005153060843458973,
          0.0008140342491840987,
          0.0019267966632063988,
          0.0004107512266525269,
          0.0006721383708859531,
          0.0009036526986355591,
          0.0012471900881994907,
          0.0007094793914907282,
          0.0016878141313358378,
          0.0004779650637411222,
          0.0004182194307734819,
          0.0005750517173135376,
          0.0006721383708859531,
          0.0006049245337973577,
          0.001523513640674827,
          0.0004555604513782571,
          0.0005750517173135376,
          0.0011949126593528054,
          0.0007244157997326382,
          0.0006198609420392678,
          0.001090357801659435,
          0.0010156757604498847,
          0.0010380803728127497,
          0.0004854332678620772,
          0.000657201962644043,
          0.0007617568203374135,
          0.0005899881255554477,
          0.0005825199214344926,
          0.00108288959753848,
          0.0009932711480870194,
          0.0006870747791278631,
          0.0004854332678620772,
          0.0033756282626716755,
          0.0010082075563289297,
          0.00043315583901539195,
          0.0007468204120955034,
          0.0004555604513782571,
          0.0005675835131925826,
          0.0005377106967087625,
          0.0005899881255554477,
          0.0011202306181432552,
          0.0006123927379183127,
          0.0034055010791554955,
          0.0020014787044159493,
          0.0004779650637411222,
          0.0005526471049506725,
          0.000881248086272694,
          0.000440624043136347,
          0.0007468204120955034,
          0.0025317211970037564,
          0.0004929014719830322,
          0.0027856401371162275,
          0.0005526471049506725,
          0.0005601153090716276,
          0.00042568763489443694,
          0.0011575716387480302,
          0.0007916296368212336,
          0.0008140342491840987,
          0.00042568763489443694,
          0.0004779650637411222,
          0.0009111209027565141,
          0.0005675835131925826,
          0.0005675835131925826,
          0.0007916296368212336,
          0.0007692250244583685,
          0.0005675835131925826,
          0.0006721383708859531,
          0.0004107512266525269,
          0.0018147736013920733,
          0.0004107512266525269,
          0.0014936408241910067,
          0.0005526471049506725,
          0.0007841614327002785,
          0.001545918253037692,
          0.0009484619233612893,
          0.0007318840038535934,
          0.0006198609420392678,
          0.0005526471049506725,
          0.0005825199214344926,
          0.0005974563296764027,
          0.0005451789008297175
         ]
        },
        {
         "line": {
          "color": "#c2c2d6",
          "dash": "dot"
         },
         "mode": "lines",
         "type": "scatter",
         "x": [
          0,
          1
         ],
         "y": [
          0,
          1
         ]
        }
       ],
       "layout": {
        "autosize": false,
        "height": 900,
        "plot_bgcolor": "white",
        "template": {
         "data": {
          "bar": [
           {
            "error_x": {
             "color": "#2a3f5f"
            },
            "error_y": {
             "color": "#2a3f5f"
            },
            "marker": {
             "line": {
              "color": "#E5ECF6",
              "width": 0.5
             }
            },
            "type": "bar"
           }
          ],
          "barpolar": [
           {
            "marker": {
             "line": {
              "color": "#E5ECF6",
              "width": 0.5
             }
            },
            "type": "barpolar"
           }
          ],
          "carpet": [
           {
            "aaxis": {
             "endlinecolor": "#2a3f5f",
             "gridcolor": "white",
             "linecolor": "white",
             "minorgridcolor": "white",
             "startlinecolor": "#2a3f5f"
            },
            "baxis": {
             "endlinecolor": "#2a3f5f",
             "gridcolor": "white",
             "linecolor": "white",
             "minorgridcolor": "white",
             "startlinecolor": "#2a3f5f"
            },
            "type": "carpet"
           }
          ],
          "choropleth": [
           {
            "colorbar": {
             "outlinewidth": 0,
             "ticks": ""
            },
            "type": "choropleth"
           }
          ],
          "contour": [
           {
            "colorbar": {
             "outlinewidth": 0,
             "ticks": ""
            },
            "colorscale": [
             [
              0,
              "#0d0887"
             ],
             [
              0.1111111111111111,
              "#46039f"
             ],
             [
              0.2222222222222222,
              "#7201a8"
             ],
             [
              0.3333333333333333,
              "#9c179e"
             ],
             [
              0.4444444444444444,
              "#bd3786"
             ],
             [
              0.5555555555555556,
              "#d8576b"
             ],
             [
              0.6666666666666666,
              "#ed7953"
             ],
             [
              0.7777777777777778,
              "#fb9f3a"
             ],
             [
              0.8888888888888888,
              "#fdca26"
             ],
             [
              1,
              "#f0f921"
             ]
            ],
            "type": "contour"
           }
          ],
          "contourcarpet": [
           {
            "colorbar": {
             "outlinewidth": 0,
             "ticks": ""
            },
            "type": "contourcarpet"
           }
          ],
          "heatmap": [
           {
            "colorbar": {
             "outlinewidth": 0,
             "ticks": ""
            },
            "colorscale": [
             [
              0,
              "#0d0887"
             ],
             [
              0.1111111111111111,
              "#46039f"
             ],
             [
              0.2222222222222222,
              "#7201a8"
             ],
             [
              0.3333333333333333,
              "#9c179e"
             ],
             [
              0.4444444444444444,
              "#bd3786"
             ],
             [
              0.5555555555555556,
              "#d8576b"
             ],
             [
              0.6666666666666666,
              "#ed7953"
             ],
             [
              0.7777777777777778,
              "#fb9f3a"
             ],
             [
              0.8888888888888888,
              "#fdca26"
             ],
             [
              1,
              "#f0f921"
             ]
            ],
            "type": "heatmap"
           }
          ],
          "heatmapgl": [
           {
            "colorbar": {
             "outlinewidth": 0,
             "ticks": ""
            },
            "colorscale": [
             [
              0,
              "#0d0887"
             ],
             [
              0.1111111111111111,
              "#46039f"
             ],
             [
              0.2222222222222222,
              "#7201a8"
             ],
             [
              0.3333333333333333,
              "#9c179e"
             ],
             [
              0.4444444444444444,
              "#bd3786"
             ],
             [
              0.5555555555555556,
              "#d8576b"
             ],
             [
              0.6666666666666666,
              "#ed7953"
             ],
             [
              0.7777777777777778,
              "#fb9f3a"
             ],
             [
              0.8888888888888888,
              "#fdca26"
             ],
             [
              1,
              "#f0f921"
             ]
            ],
            "type": "heatmapgl"
           }
          ],
          "histogram": [
           {
            "marker": {
             "colorbar": {
              "outlinewidth": 0,
              "ticks": ""
             }
            },
            "type": "histogram"
           }
          ],
          "histogram2d": [
           {
            "colorbar": {
             "outlinewidth": 0,
             "ticks": ""
            },
            "colorscale": [
             [
              0,
              "#0d0887"
             ],
             [
              0.1111111111111111,
              "#46039f"
             ],
             [
              0.2222222222222222,
              "#7201a8"
             ],
             [
              0.3333333333333333,
              "#9c179e"
             ],
             [
              0.4444444444444444,
              "#bd3786"
             ],
             [
              0.5555555555555556,
              "#d8576b"
             ],
             [
              0.6666666666666666,
              "#ed7953"
             ],
             [
              0.7777777777777778,
              "#fb9f3a"
             ],
             [
              0.8888888888888888,
              "#fdca26"
             ],
             [
              1,
              "#f0f921"
             ]
            ],
            "type": "histogram2d"
           }
          ],
          "histogram2dcontour": [
           {
            "colorbar": {
             "outlinewidth": 0,
             "ticks": ""
            },
            "colorscale": [
             [
              0,
              "#0d0887"
             ],
             [
              0.1111111111111111,
              "#46039f"
             ],
             [
              0.2222222222222222,
              "#7201a8"
             ],
             [
              0.3333333333333333,
              "#9c179e"
             ],
             [
              0.4444444444444444,
              "#bd3786"
             ],
             [
              0.5555555555555556,
              "#d8576b"
             ],
             [
              0.6666666666666666,
              "#ed7953"
             ],
             [
              0.7777777777777778,
              "#fb9f3a"
             ],
             [
              0.8888888888888888,
              "#fdca26"
             ],
             [
              1,
              "#f0f921"
             ]
            ],
            "type": "histogram2dcontour"
           }
          ],
          "mesh3d": [
           {
            "colorbar": {
             "outlinewidth": 0,
             "ticks": ""
            },
            "type": "mesh3d"
           }
          ],
          "parcoords": [
           {
            "line": {
             "colorbar": {
              "outlinewidth": 0,
              "ticks": ""
             }
            },
            "type": "parcoords"
           }
          ],
          "pie": [
           {
            "automargin": true,
            "type": "pie"
           }
          ],
          "scatter": [
           {
            "marker": {
             "colorbar": {
              "outlinewidth": 0,
              "ticks": ""
             }
            },
            "type": "scatter"
           }
          ],
          "scatter3d": [
           {
            "line": {
             "colorbar": {
              "outlinewidth": 0,
              "ticks": ""
             }
            },
            "marker": {
             "colorbar": {
              "outlinewidth": 0,
              "ticks": ""
             }
            },
            "type": "scatter3d"
           }
          ],
          "scattercarpet": [
           {
            "marker": {
             "colorbar": {
              "outlinewidth": 0,
              "ticks": ""
             }
            },
            "type": "scattercarpet"
           }
          ],
          "scattergeo": [
           {
            "marker": {
             "colorbar": {
              "outlinewidth": 0,
              "ticks": ""
             }
            },
            "type": "scattergeo"
           }
          ],
          "scattergl": [
           {
            "marker": {
             "colorbar": {
              "outlinewidth": 0,
              "ticks": ""
             }
            },
            "type": "scattergl"
           }
          ],
          "scattermapbox": [
           {
            "marker": {
             "colorbar": {
              "outlinewidth": 0,
              "ticks": ""
             }
            },
            "type": "scattermapbox"
           }
          ],
          "scatterpolar": [
           {
            "marker": {
             "colorbar": {
              "outlinewidth": 0,
              "ticks": ""
             }
            },
            "type": "scatterpolar"
           }
          ],
          "scatterpolargl": [
           {
            "marker": {
             "colorbar": {
              "outlinewidth": 0,
              "ticks": ""
             }
            },
            "type": "scatterpolargl"
           }
          ],
          "scatterternary": [
           {
            "marker": {
             "colorbar": {
              "outlinewidth": 0,
              "ticks": ""
             }
            },
            "type": "scatterternary"
           }
          ],
          "surface": [
           {
            "colorbar": {
             "outlinewidth": 0,
             "ticks": ""
            },
            "colorscale": [
             [
              0,
              "#0d0887"
             ],
             [
              0.1111111111111111,
              "#46039f"
             ],
             [
              0.2222222222222222,
              "#7201a8"
             ],
             [
              0.3333333333333333,
              "#9c179e"
             ],
             [
              0.4444444444444444,
              "#bd3786"
             ],
             [
              0.5555555555555556,
              "#d8576b"
             ],
             [
              0.6666666666666666,
              "#ed7953"
             ],
             [
              0.7777777777777778,
              "#fb9f3a"
             ],
             [
              0.8888888888888888,
              "#fdca26"
             ],
             [
              1,
              "#f0f921"
             ]
            ],
            "type": "surface"
           }
          ],
          "table": [
           {
            "cells": {
             "fill": {
              "color": "#EBF0F8"
             },
             "line": {
              "color": "white"
             }
            },
            "header": {
             "fill": {
              "color": "#C8D4E3"
             },
             "line": {
              "color": "white"
             }
            },
            "type": "table"
           }
          ]
         },
         "layout": {
          "annotationdefaults": {
           "arrowcolor": "#2a3f5f",
           "arrowhead": 0,
           "arrowwidth": 1
          },
          "autotypenumbers": "strict",
          "coloraxis": {
           "colorbar": {
            "outlinewidth": 0,
            "ticks": ""
           }
          },
          "colorscale": {
           "diverging": [
            [
             0,
             "#8e0152"
            ],
            [
             0.1,
             "#c51b7d"
            ],
            [
             0.2,
             "#de77ae"
            ],
            [
             0.3,
             "#f1b6da"
            ],
            [
             0.4,
             "#fde0ef"
            ],
            [
             0.5,
             "#f7f7f7"
            ],
            [
             0.6,
             "#e6f5d0"
            ],
            [
             0.7,
             "#b8e186"
            ],
            [
             0.8,
             "#7fbc41"
            ],
            [
             0.9,
             "#4d9221"
            ],
            [
             1,
             "#276419"
            ]
           ],
           "sequential": [
            [
             0,
             "#0d0887"
            ],
            [
             0.1111111111111111,
             "#46039f"
            ],
            [
             0.2222222222222222,
             "#7201a8"
            ],
            [
             0.3333333333333333,
             "#9c179e"
            ],
            [
             0.4444444444444444,
             "#bd3786"
            ],
            [
             0.5555555555555556,
             "#d8576b"
            ],
            [
             0.6666666666666666,
             "#ed7953"
            ],
            [
             0.7777777777777778,
             "#fb9f3a"
            ],
            [
             0.8888888888888888,
             "#fdca26"
            ],
            [
             1,
             "#f0f921"
            ]
           ],
           "sequentialminus": [
            [
             0,
             "#0d0887"
            ],
            [
             0.1111111111111111,
             "#46039f"
            ],
            [
             0.2222222222222222,
             "#7201a8"
            ],
            [
             0.3333333333333333,
             "#9c179e"
            ],
            [
             0.4444444444444444,
             "#bd3786"
            ],
            [
             0.5555555555555556,
             "#d8576b"
            ],
            [
             0.6666666666666666,
             "#ed7953"
            ],
            [
             0.7777777777777778,
             "#fb9f3a"
            ],
            [
             0.8888888888888888,
             "#fdca26"
            ],
            [
             1,
             "#f0f921"
            ]
           ]
          },
          "colorway": [
           "#636efa",
           "#EF553B",
           "#00cc96",
           "#ab63fa",
           "#FFA15A",
           "#19d3f3",
           "#FF6692",
           "#B6E880",
           "#FF97FF",
           "#FECB52"
          ],
          "font": {
           "color": "#2a3f5f"
          },
          "geo": {
           "bgcolor": "white",
           "lakecolor": "white",
           "landcolor": "#E5ECF6",
           "showlakes": true,
           "showland": true,
           "subunitcolor": "white"
          },
          "hoverlabel": {
           "align": "left"
          },
          "hovermode": "closest",
          "mapbox": {
           "style": "light"
          },
          "paper_bgcolor": "white",
          "plot_bgcolor": "#E5ECF6",
          "polar": {
           "angularaxis": {
            "gridcolor": "white",
            "linecolor": "white",
            "ticks": ""
           },
           "bgcolor": "#E5ECF6",
           "radialaxis": {
            "gridcolor": "white",
            "linecolor": "white",
            "ticks": ""
           }
          },
          "scene": {
           "xaxis": {
            "backgroundcolor": "#E5ECF6",
            "gridcolor": "white",
            "gridwidth": 2,
            "linecolor": "white",
            "showbackground": true,
            "ticks": "",
            "zerolinecolor": "white"
           },
           "yaxis": {
            "backgroundcolor": "#E5ECF6",
            "gridcolor": "white",
            "gridwidth": 2,
            "linecolor": "white",
            "showbackground": true,
            "ticks": "",
            "zerolinecolor": "white"
           },
           "zaxis": {
            "backgroundcolor": "#E5ECF6",
            "gridcolor": "white",
            "gridwidth": 2,
            "linecolor": "white",
            "showbackground": true,
            "ticks": "",
            "zerolinecolor": "white"
           }
          },
          "shapedefaults": {
           "line": {
            "color": "#2a3f5f"
           }
          },
          "ternary": {
           "aaxis": {
            "gridcolor": "white",
            "linecolor": "white",
            "ticks": ""
           },
           "baxis": {
            "gridcolor": "white",
            "linecolor": "white",
            "ticks": ""
           },
           "bgcolor": "#E5ECF6",
           "caxis": {
            "gridcolor": "white",
            "linecolor": "white",
            "ticks": ""
           }
          },
          "title": {
           "x": 0.05
          },
          "xaxis": {
           "automargin": true,
           "gridcolor": "white",
           "linecolor": "white",
           "ticks": "",
           "title": {
            "standoff": 15
           },
           "zerolinecolor": "white",
           "zerolinewidth": 2
          },
          "yaxis": {
           "automargin": true,
           "gridcolor": "white",
           "linecolor": "white",
           "ticks": "",
           "title": {
            "standoff": 15
           },
           "zerolinecolor": "white",
           "zerolinewidth": 2
          }
         }
        },
        "width": 900,
        "xaxis": {
         "gridcolor": "#EDC9C4",
         "linecolor": "black",
         "range": [
          -3.3880341096413864,
          -1.6965818195541233
         ],
         "showgrid": true,
         "type": "log"
        },
        "yaxis": {
         "gridcolor": "#EDC9C4",
         "linecolor": "black",
         "range": [
          -3.3880341096413864,
          -1.6965818195541233
         ],
         "showgrid": true,
         "type": "log"
        }
       }
      },
      "text/html": [
       "<div>                            <div id=\"ed67362e-ace6-4b42-a029-1c7e2ad278f6\" class=\"plotly-graph-div\" style=\"height:900px; width:900px;\"></div>            <script type=\"text/javascript\">                require([\"plotly\"], function(Plotly) {                    window.PLOTLYENV=window.PLOTLYENV || {};                                    if (document.getElementById(\"ed67362e-ace6-4b42-a029-1c7e2ad278f6\")) {                    Plotly.newPlot(                        \"ed67362e-ace6-4b42-a029-1c7e2ad278f6\",                        [{\"marker\": {\"color\": \"#514E80\", \"opacity\": 0.5, \"size\": 5}, \"mode\": \"markers+text\", \"text\": [\"read\", \"today\", \"people\", \"leave\", \"bed\", \"hospital\", \"home\", \"india\", \"icu\", \"lead\", \"delhi\", \"liposomal\", \"amphotericin\", \"b\", \"pharma\", \"new\", \"private\", \"helpline\", \"also\", \"mg\", \"injection\", \"phone\", \"jaipur\", \"available\", \"month\", \"plasma\", \"bank\", \"would\", \"request\", \"donor\", \"come\", \"help\", \"patient\", \"name\", \"age\", \"level\", \"blood\", \"group\", \"call\", \"life\", \"let\", \"send\", \"case\", \"may\", \"add\", \"contact\", \"require\", \"pradesh\", \"urgent\", \"need\", \"year\", \"location\", \"supply\", \"use\", \"oxygen\", \"jain\", \"covid\", \"positive\", \"admit\", \"number\", \"requirement\", \"city\", \"sir\", \"mother\", \"mr.\", \"last\", \"day\", \"doctor\", \"give\", \"ventilator\", \"save\", \"heart\", \"family\", \"member\", \"share\", \"delivery\", \"pay\", \"whatsapp\", \"follow\", \"link\", \"kumar\", \"concentrator\", \"covid-19\", \"singh\", \"beds\", \"near\", \"central\", \"school\", \"verify\", \"govt\", \"full\", \"time\", \"get\", \"type\", \"good\", \"see\", \"check\", \"free\", \"start\", \"team\", \"ambulance\", \"service\", \"person\", \"work\", \"email\", \"verified\", \"well\", \"right\", \"society\", \"message\", \"cylinder\", \"road\", \"medical\", \"mumbai\", \"medicine\", \"address\", \"old\", \"detail\", \"nagar\", \"pm\", \"drug\", \"non\", \"stock\", \"emergency\", \"support\", \"gandhi\", \"public\", \"say\", \"vaccine\", \"covishield\", \"institute\", \"take\", \"report\", \"government\", \"issue\", \"dose\", \"health\", \"know\", \"die\", \"state\", \"unit\", \"order\", \"list\", \"news\", \"corona\", \"water\", \"minister\", \"country\", \"treatment\", \"dr.\", \"first\", \"hand\", \"general\", \"amount\", \"reddy\", \"form\", \"black\", \"k\", \"many\", \"indian\", \"national\", \"social\", \"area\", \"make\", \"cost\", \"stay\", \"ward\", \"dr\", \"refill\", \"mobile\", \"sharma\", \"condition\", \"second\", \"june\", \"tell\", \"-\", \"ask\", \"online\", \"go\", \"receive\", \"prescription\", \"control\", \"provide\", \"office\", \"back\", \"market\", \"find\", \"friend\", \"father\", \"gupta\", \"college\", \"donate\", \"remdesivir\", \"date\", \"morning\", \"tweet\", \"reach\", \"look\", \"facility\", \"daily\", \"availability\", \"information\", \"high\", \"district\", \"aligarh\", \"slot\", \"h\", \"hour\", \"close\", \"keep\", \"center\", \"telangana\", \"nashik\", \"gas\", \"price\", \"volunteer\", \"food\", \"note\", \"disease\", \"krishna\", \"meal\", \"centre\", \"donation\", \"place\", \"open\", \"post\", \"even\", \"fill\", \"visakhapatnam\", \"hyderabad\", \"problem\", \"vaccination\", \"sri\", \"total\", \"care\", \"test\", \"live\", \"card\", \"n\", \"company\", \"include\", \"relate\"], \"textposition\": \"bottom left\", \"type\": \"scatter\", \"x\": [0.000523299277348617, 0.0012833291801644655, 0.002815848492399701, 0.0006354348367804635, 0.0067032145527037125, 0.01611014203837528, 0.002217792175429853, 0.002417144281086469, 0.0026538749065537007, 0.004335908298031398, 0.006715674059307251, 0.0011088960877149265, 0.0012334911537503115, 0.0022053326688263146, 0.0005855968103663095, 0.001844006977323698, 0.000822327435833541, 0.000797408422626464, 0.0027037129329678545, 0.000822327435833541, 0.002267630201844007, 0.0011587341141290806, 0.001096436581111388, 0.007538001495140793, 0.0005855968103663095, 0.004996262148018939, 0.0011836531273361575, 0.0010341390480936956, 0.002068278096187391, 0.002093197109394468, 0.0015823573386493895, 0.008123598305507101, 0.010179416895090955, 0.007351108896087715, 0.0034512833291801643, 0.001694492898081236, 0.008734114129080489, 0.007986543732868178, 0.0029030650386244706, 0.001594816845252928, 0.001370545726389235, 0.002167954149015699, 0.0019810615499626216, 0.0032768502367306255, 0.0004111637179167705, 0.009120358833790181, 0.0038998255669075504, 0.000797408422626464, 0.0019810615499626216, 0.008534762023423872, 0.001569897832045851, 0.002317468228258161, 0.0009843010216795416, 0.0019561425367555446, 0.010590580613007725, 0.000722651383005233, 0.006802890605532021, 0.001520059805631697, 0.001395464739596312, 0.005170695240468477, 0.002566658360328931, 0.0020558185895838523, 0.001121355594318465, 0.000622975330176925, 0.0005108397707450785, 0.0009593820084724645, 0.0028781460254173933, 0.0019312235235484675, 0.001968602043359083, 0.0018564664839272366, 0.0009344629952653875, 0.000598056316969848, 0.001918764016944929, 0.00124595066035385, 0.002815848492399701, 0.000622975330176925, 0.0008846249688512335, 0.0023548467480687765, 0.0011587341141290806, 0.0022302516820333915, 0.0011338151009220034, 0.0014079242461998505, 0.001196112633939696, 0.0009344629952653875, 0.0007101918764016945, 0.00049838026414154, 0.000523299277348617, 0.00049838026414154, 0.006777971592324944, 0.0009593820084724645, 0.0005606777971592325, 0.002442063294293546, 0.0020059805631696985, 0.000622975330176925, 0.001320707699975081, 0.000872165462247695, 0.0018813854971343135, 0.003015200598056317, 0.0012833291801644655, 0.001096436581111388, 0.00099676052828308, 0.0011462746075255419, 0.0018813854971343135, 0.001918764016944929, 0.000672813356591079, 0.0013331672065786196, 0.0008970844754547719, 0.0005855968103663095, 0.0010839770745078494, 0.004784450535758784, 0.0023299277348616996, 0.0010092200348866185, 0.0028033889857961626, 0.0008846249688512335, 0.00174433092449539, 0.001221031647146773, 0.0008347869424370795, 0.002417144281086469, 0.0022053326688263146, 0.0018315474707201595, 0.001420383752803389, 0.0007849489160229255, 0.000548218290555694, 0.0011462746075255419, 0.0019810615499626216, 0.000598056316969848, 0.0004859207575380015, 0.0014079242461998505, 0.001943683030152006, 0.0008846249688512335, 0.0004111637179167705, 0.0022302516820333915, 0.001196112633939696, 0.00149514079242462, 0.000822327435833541, 0.0012833291801644655, 0.0009843010216795416, 0.0023797657612758534, 0.0004111637179167705, 0.0011462746075255419, 0.0025043608273112384, 0.000622975330176925, 0.001844006977323698, 0.000647894343384002, 0.0010341390480936956, 0.0005357587839521555, 0.0005731373037627709, 0.0006603538499875404, 0.0015325193122352355, 0.000772489409419387, 0.0009593820084724645, 0.0006603538499875404, 0.000548218290555694, 0.000473461250934463, 0.00049838026414154, 0.0015076002990281586, 0.0009593820084724645, 0.0008098679292300025, 0.0009095439820583105, 0.0005357587839521555, 0.0004360827311238475, 0.0004111637179167705, 0.0012334911537503115, 0.0014826812858210814, 0.001295788686768004, 0.000423623224520309, 0.0004360827311238475, 0.001544978818838774, 0.001171193620732619, 0.001569897832045851, 0.000598056316969848, 0.000772489409419387, 0.0008098679292300025, 0.0006852728631946175, 0.000672813356591079, 0.0009843010216795416, 0.0012085721405432346, 0.0008597059556441565, 0.002018440069773237, 0.0005108397707450785, 0.000847246449040618, 0.000423623224520309, 0.001694492898081236, 0.000622975330176925, 0.0004859207575380015, 0.0007849489160229255, 0.001345626713182158, 0.002167954149015699, 0.001021679541490157, 0.0004610017443309245, 0.0004859207575380015, 0.001096436581111388, 0.00099676052828308, 0.001868925990530775, 0.00074757039621231, 0.001943683030152006, 0.0007351108896087715, 0.001370545726389235, 0.0007101918764016945, 0.000473461250934463, 0.000697732369798156, 0.001868925990530775, 0.0005357587839521555, 0.000797408422626464, 0.0014577622726140045, 0.0014826812858210814, 0.001320707699975081, 0.000598056316969848, 0.0005731373037627709, 0.000971841515076003, 0.0015325193122352355, 0.0004360827311238475, 0.0011338151009220034, 0.0005357587839521555, 0.0006852728631946175, 0.0008098679292300025, 0.0016072763518564664, 0.000548218290555694, 0.0008098679292300025, 0.0004360827311238475, 0.0005357587839521555, 0.000722651383005233, 0.0008098679292300025, 0.0006852728631946175, 0.00099676052828308, 0.0009593820084724645, 0.0006852728631946175, 0.000697732369798156, 0.0004111637179167705, 0.002118116122601545, 0.0004360827311238475, 0.0011338151009220034, 0.0005855968103663095, 0.001096436581111388, 0.001270869673560927, 0.0007101918764016945, 0.0006603538499875404, 0.0008846249688512335, 0.0004859207575380015, 0.0005606777971592325, 0.0004360827311238475, 0.0004360827311238475], \"y\": [0.00047049685962016714, 0.0009633983316031994, 0.0017176869478196578, 0.0005227742884668523, 0.0027931083412371825, 0.010082075563289297, 0.002598935034092352, 0.0034727149162440906, 0.0012397218840785357, 0.0004779650637411222, 0.003032090873107744, 0.0008289706574260088, 0.0011725080469899404, 0.00218071560331887, 0.0004630286554992121, 0.0020836289497464544, 0.0008289706574260088, 0.0007020111873697732, 0.0018819874384806686, 0.0020014787044159493, 0.0020612243373835893, 0.0011799762511108954, 0.0010530167810546597, 0.008439070656679188, 0.0007468204120955034, 0.003517524140969821, 0.0017998371931501633, 0.0004929014719830322, 0.0016131320901262873, 0.0031963913637687545, 0.0013816177623766812, 0.003286009813220215, 0.00783414612288183, 0.005526471049506725, 0.0022927386651331954, 0.0010082075563289297, 0.008999185965750816, 0.0027931083412371825, 0.001986542296174039, 0.0012098490675947155, 0.000448092247257302, 0.0014562998035862317, 0.0011650398428689852, 0.003539928753332686, 0.000642265554402133, 0.004025362021194763, 0.0015981956818843773, 0.000896184494514604, 0.0007020111873697732, 0.002643744258818082, 0.0011799762511108954, 0.0007244157997326382, 0.0005899881255554477, 0.002345016093979881, 0.006997707261334867, 0.0008140342491840987, 0.005294956721757119, 0.00108288959753848, 0.0007841614327002785, 0.003539928753332686, 0.0008215024533050538, 0.0013592131500138162, 0.00043315583901539195, 0.0005974563296764027, 0.0008289706574260088, 0.0007169475956116832, 0.0038834661428966176, 0.001762496172545388, 0.002412229931068476, 0.0010231439645708397, 0.0009111209027565141, 0.00043315583901539195, 0.001299467517046176, 0.0005302424925878075, 0.0008663116780307839, 0.0005675835131925826, 0.00047049685962016714, 0.0009409937192403343, 0.0014040223747395465, 0.0004555604513782571, 0.001792368989029208, 0.0008140342491840987, 0.002860322178325778, 0.0014114905788605015, 0.0009185891068774692, 0.0006796065750069081, 0.0004107512266525269, 0.0005899881255554477, 0.00106795318929657, 0.0004182194307734819, 0.0007841614327002785, 0.00327854160909926, 0.000896184494514604, 0.0007766932285793235, 0.0009858029439660644, 0.0005825199214344926, 0.0007617568203374135, 0.002352484298100836, 0.001075421393417525, 0.0010306121686917947, 0.00042568763489443694, 0.0016803459272148825, 0.0008513752697888739, 0.0009111209027565141, 0.0005227742884668523, 0.000873779882151739, 0.0005825199214344926, 0.0005377106967087625, 0.0004107512266525269, 0.0009260573109984242, 0.001329340333529996, 0.0018222418055130283, 0.0036295472027841466, 0.0005974563296764027, 0.001792368989029208, 0.0009484619233612893, 0.0004107512266525269, 0.0014189587829814565, 0.0016803459272148825, 0.00436143120663774, 0.0014787044159490967, 0.00043315583901539195, 0.0004032830225315718, 0.0008663116780307839, 0.0007318840038535934, 0.0005974563296764027, 0.0006049245337973577, 0.0016430049066101075, 0.0015981956818843773, 0.0005899881255554477, 0.000642265554402133, 0.0022778022568912854, 0.005003696761039873, 0.0020686925415045443, 0.000896184494514604, 0.0015085772324329168, 0.003076900097833474, 0.0007841614327002785, 0.0004032830225315718, 0.0024645073599151614, 0.0014562998035862317, 0.001075421393417525, 0.0005377106967087625, 0.0007318840038535934, 0.0019417330714483088, 0.0008140342491840987, 0.000657201962644043, 0.0010082075563289297, 0.0016131320901262873, 0.002367420706342746, 0.0008588434739098289, 0.0005003696761039873, 0.0006198609420392678, 0.0005750517173135376, 0.0005899881255554477, 0.0012397218840785357, 0.0005153060843458973, 0.000448092247257302, 0.0007841614327002785, 0.0005377106967087625, 0.0005526471049506725, 0.0005153060843458973, 0.0008140342491840987, 0.0019267966632063988, 0.0004107512266525269, 0.0006721383708859531, 0.0009036526986355591, 0.0012471900881994907, 0.0007094793914907282, 0.0016878141313358378, 0.0004779650637411222, 0.0004182194307734819, 0.0005750517173135376, 0.0006721383708859531, 0.0006049245337973577, 0.001523513640674827, 0.0004555604513782571, 0.0005750517173135376, 0.0011949126593528054, 0.0007244157997326382, 0.0006198609420392678, 0.001090357801659435, 0.0010156757604498847, 0.0010380803728127497, 0.0004854332678620772, 0.000657201962644043, 0.0007617568203374135, 0.0005899881255554477, 0.0005825199214344926, 0.00108288959753848, 0.0009932711480870194, 0.0006870747791278631, 0.0004854332678620772, 0.0033756282626716755, 0.0010082075563289297, 0.00043315583901539195, 0.0007468204120955034, 0.0004555604513782571, 0.0005675835131925826, 0.0005377106967087625, 0.0005899881255554477, 0.0011202306181432552, 0.0006123927379183127, 0.0034055010791554955, 0.0020014787044159493, 0.0004779650637411222, 0.0005526471049506725, 0.000881248086272694, 0.000440624043136347, 0.0007468204120955034, 0.0025317211970037564, 0.0004929014719830322, 0.0027856401371162275, 0.0005526471049506725, 0.0005601153090716276, 0.00042568763489443694, 0.0011575716387480302, 0.0007916296368212336, 0.0008140342491840987, 0.00042568763489443694, 0.0004779650637411222, 0.0009111209027565141, 0.0005675835131925826, 0.0005675835131925826, 0.0007916296368212336, 0.0007692250244583685, 0.0005675835131925826, 0.0006721383708859531, 0.0004107512266525269, 0.0018147736013920733, 0.0004107512266525269, 0.0014936408241910067, 0.0005526471049506725, 0.0007841614327002785, 0.001545918253037692, 0.0009484619233612893, 0.0007318840038535934, 0.0006198609420392678, 0.0005526471049506725, 0.0005825199214344926, 0.0005974563296764027, 0.0005451789008297175]}, {\"line\": {\"color\": \"#c2c2d6\", \"dash\": \"dot\"}, \"mode\": \"lines\", \"type\": \"scatter\", \"x\": [0.0, 1.0], \"y\": [0.0, 1.0]}],                        {\"autosize\": false, \"height\": 900, \"plot_bgcolor\": \"white\", \"template\": {\"data\": {\"bar\": [{\"error_x\": {\"color\": \"#2a3f5f\"}, \"error_y\": {\"color\": \"#2a3f5f\"}, \"marker\": {\"line\": {\"color\": \"#E5ECF6\", \"width\": 0.5}}, \"type\": \"bar\"}], \"barpolar\": [{\"marker\": {\"line\": {\"color\": \"#E5ECF6\", \"width\": 0.5}}, \"type\": \"barpolar\"}], \"carpet\": [{\"aaxis\": {\"endlinecolor\": \"#2a3f5f\", \"gridcolor\": \"white\", \"linecolor\": \"white\", \"minorgridcolor\": \"white\", \"startlinecolor\": \"#2a3f5f\"}, \"baxis\": {\"endlinecolor\": \"#2a3f5f\", \"gridcolor\": \"white\", \"linecolor\": \"white\", \"minorgridcolor\": \"white\", \"startlinecolor\": \"#2a3f5f\"}, \"type\": \"carpet\"}], \"choropleth\": [{\"colorbar\": {\"outlinewidth\": 0, \"ticks\": \"\"}, \"type\": \"choropleth\"}], \"contour\": [{\"colorbar\": {\"outlinewidth\": 0, \"ticks\": \"\"}, \"colorscale\": [[0.0, \"#0d0887\"], [0.1111111111111111, \"#46039f\"], [0.2222222222222222, \"#7201a8\"], [0.3333333333333333, \"#9c179e\"], [0.4444444444444444, \"#bd3786\"], [0.5555555555555556, \"#d8576b\"], [0.6666666666666666, \"#ed7953\"], [0.7777777777777778, \"#fb9f3a\"], [0.8888888888888888, \"#fdca26\"], [1.0, \"#f0f921\"]], \"type\": \"contour\"}], \"contourcarpet\": [{\"colorbar\": {\"outlinewidth\": 0, \"ticks\": \"\"}, \"type\": \"contourcarpet\"}], \"heatmap\": [{\"colorbar\": {\"outlinewidth\": 0, \"ticks\": \"\"}, \"colorscale\": [[0.0, \"#0d0887\"], [0.1111111111111111, \"#46039f\"], [0.2222222222222222, \"#7201a8\"], [0.3333333333333333, \"#9c179e\"], [0.4444444444444444, \"#bd3786\"], [0.5555555555555556, \"#d8576b\"], [0.6666666666666666, \"#ed7953\"], [0.7777777777777778, \"#fb9f3a\"], [0.8888888888888888, \"#fdca26\"], [1.0, \"#f0f921\"]], \"type\": \"heatmap\"}], \"heatmapgl\": [{\"colorbar\": {\"outlinewidth\": 0, \"ticks\": \"\"}, \"colorscale\": [[0.0, \"#0d0887\"], [0.1111111111111111, \"#46039f\"], [0.2222222222222222, \"#7201a8\"], [0.3333333333333333, \"#9c179e\"], [0.4444444444444444, \"#bd3786\"], [0.5555555555555556, \"#d8576b\"], [0.6666666666666666, \"#ed7953\"], [0.7777777777777778, \"#fb9f3a\"], [0.8888888888888888, \"#fdca26\"], [1.0, \"#f0f921\"]], \"type\": \"heatmapgl\"}], \"histogram\": [{\"marker\": {\"colorbar\": {\"outlinewidth\": 0, \"ticks\": \"\"}}, \"type\": \"histogram\"}], \"histogram2d\": [{\"colorbar\": {\"outlinewidth\": 0, \"ticks\": \"\"}, \"colorscale\": [[0.0, \"#0d0887\"], [0.1111111111111111, \"#46039f\"], [0.2222222222222222, \"#7201a8\"], [0.3333333333333333, \"#9c179e\"], [0.4444444444444444, \"#bd3786\"], [0.5555555555555556, \"#d8576b\"], [0.6666666666666666, \"#ed7953\"], [0.7777777777777778, \"#fb9f3a\"], [0.8888888888888888, \"#fdca26\"], [1.0, \"#f0f921\"]], \"type\": \"histogram2d\"}], \"histogram2dcontour\": [{\"colorbar\": {\"outlinewidth\": 0, \"ticks\": \"\"}, \"colorscale\": [[0.0, \"#0d0887\"], [0.1111111111111111, \"#46039f\"], [0.2222222222222222, \"#7201a8\"], [0.3333333333333333, \"#9c179e\"], [0.4444444444444444, \"#bd3786\"], [0.5555555555555556, \"#d8576b\"], [0.6666666666666666, \"#ed7953\"], [0.7777777777777778, \"#fb9f3a\"], [0.8888888888888888, \"#fdca26\"], [1.0, \"#f0f921\"]], \"type\": \"histogram2dcontour\"}], \"mesh3d\": [{\"colorbar\": {\"outlinewidth\": 0, \"ticks\": \"\"}, \"type\": \"mesh3d\"}], \"parcoords\": [{\"line\": {\"colorbar\": {\"outlinewidth\": 0, \"ticks\": \"\"}}, \"type\": \"parcoords\"}], \"pie\": [{\"automargin\": true, \"type\": \"pie\"}], \"scatter\": [{\"marker\": {\"colorbar\": {\"outlinewidth\": 0, \"ticks\": \"\"}}, \"type\": \"scatter\"}], \"scatter3d\": [{\"line\": {\"colorbar\": {\"outlinewidth\": 0, \"ticks\": \"\"}}, \"marker\": {\"colorbar\": {\"outlinewidth\": 0, \"ticks\": \"\"}}, \"type\": \"scatter3d\"}], \"scattercarpet\": [{\"marker\": {\"colorbar\": {\"outlinewidth\": 0, \"ticks\": \"\"}}, \"type\": \"scattercarpet\"}], \"scattergeo\": [{\"marker\": {\"colorbar\": {\"outlinewidth\": 0, \"ticks\": \"\"}}, \"type\": \"scattergeo\"}], \"scattergl\": [{\"marker\": {\"colorbar\": {\"outlinewidth\": 0, \"ticks\": \"\"}}, \"type\": \"scattergl\"}], \"scattermapbox\": [{\"marker\": {\"colorbar\": {\"outlinewidth\": 0, \"ticks\": \"\"}}, \"type\": \"scattermapbox\"}], \"scatterpolar\": [{\"marker\": {\"colorbar\": {\"outlinewidth\": 0, \"ticks\": \"\"}}, \"type\": \"scatterpolar\"}], \"scatterpolargl\": [{\"marker\": {\"colorbar\": {\"outlinewidth\": 0, \"ticks\": \"\"}}, \"type\": \"scatterpolargl\"}], \"scatterternary\": [{\"marker\": {\"colorbar\": {\"outlinewidth\": 0, \"ticks\": \"\"}}, \"type\": \"scatterternary\"}], \"surface\": [{\"colorbar\": {\"outlinewidth\": 0, \"ticks\": \"\"}, \"colorscale\": [[0.0, \"#0d0887\"], [0.1111111111111111, \"#46039f\"], [0.2222222222222222, \"#7201a8\"], [0.3333333333333333, \"#9c179e\"], [0.4444444444444444, \"#bd3786\"], [0.5555555555555556, \"#d8576b\"], [0.6666666666666666, \"#ed7953\"], [0.7777777777777778, \"#fb9f3a\"], [0.8888888888888888, \"#fdca26\"], [1.0, \"#f0f921\"]], \"type\": \"surface\"}], \"table\": [{\"cells\": {\"fill\": {\"color\": \"#EBF0F8\"}, \"line\": {\"color\": \"white\"}}, \"header\": {\"fill\": {\"color\": \"#C8D4E3\"}, \"line\": {\"color\": \"white\"}}, \"type\": \"table\"}]}, \"layout\": {\"annotationdefaults\": {\"arrowcolor\": \"#2a3f5f\", \"arrowhead\": 0, \"arrowwidth\": 1}, \"autotypenumbers\": \"strict\", \"coloraxis\": {\"colorbar\": {\"outlinewidth\": 0, \"ticks\": \"\"}}, \"colorscale\": {\"diverging\": [[0, \"#8e0152\"], [0.1, \"#c51b7d\"], [0.2, \"#de77ae\"], [0.3, \"#f1b6da\"], [0.4, \"#fde0ef\"], [0.5, \"#f7f7f7\"], [0.6, \"#e6f5d0\"], [0.7, \"#b8e186\"], [0.8, \"#7fbc41\"], [0.9, \"#4d9221\"], [1, \"#276419\"]], \"sequential\": [[0.0, \"#0d0887\"], [0.1111111111111111, \"#46039f\"], [0.2222222222222222, \"#7201a8\"], [0.3333333333333333, \"#9c179e\"], [0.4444444444444444, \"#bd3786\"], [0.5555555555555556, \"#d8576b\"], [0.6666666666666666, \"#ed7953\"], [0.7777777777777778, \"#fb9f3a\"], [0.8888888888888888, \"#fdca26\"], [1.0, \"#f0f921\"]], \"sequentialminus\": [[0.0, \"#0d0887\"], [0.1111111111111111, \"#46039f\"], [0.2222222222222222, \"#7201a8\"], [0.3333333333333333, \"#9c179e\"], [0.4444444444444444, \"#bd3786\"], [0.5555555555555556, \"#d8576b\"], [0.6666666666666666, \"#ed7953\"], [0.7777777777777778, \"#fb9f3a\"], [0.8888888888888888, \"#fdca26\"], [1.0, \"#f0f921\"]]}, \"colorway\": [\"#636efa\", \"#EF553B\", \"#00cc96\", \"#ab63fa\", \"#FFA15A\", \"#19d3f3\", \"#FF6692\", \"#B6E880\", \"#FF97FF\", \"#FECB52\"], \"font\": {\"color\": \"#2a3f5f\"}, \"geo\": {\"bgcolor\": \"white\", \"lakecolor\": \"white\", \"landcolor\": \"#E5ECF6\", \"showlakes\": true, \"showland\": true, \"subunitcolor\": \"white\"}, \"hoverlabel\": {\"align\": \"left\"}, \"hovermode\": \"closest\", \"mapbox\": {\"style\": \"light\"}, \"paper_bgcolor\": \"white\", \"plot_bgcolor\": \"#E5ECF6\", \"polar\": {\"angularaxis\": {\"gridcolor\": \"white\", \"linecolor\": \"white\", \"ticks\": \"\"}, \"bgcolor\": \"#E5ECF6\", \"radialaxis\": {\"gridcolor\": \"white\", \"linecolor\": \"white\", \"ticks\": \"\"}}, \"scene\": {\"xaxis\": {\"backgroundcolor\": \"#E5ECF6\", \"gridcolor\": \"white\", \"gridwidth\": 2, \"linecolor\": \"white\", \"showbackground\": true, \"ticks\": \"\", \"zerolinecolor\": \"white\"}, \"yaxis\": {\"backgroundcolor\": \"#E5ECF6\", \"gridcolor\": \"white\", \"gridwidth\": 2, \"linecolor\": \"white\", \"showbackground\": true, \"ticks\": \"\", \"zerolinecolor\": \"white\"}, \"zaxis\": {\"backgroundcolor\": \"#E5ECF6\", \"gridcolor\": \"white\", \"gridwidth\": 2, \"linecolor\": \"white\", \"showbackground\": true, \"ticks\": \"\", \"zerolinecolor\": \"white\"}}, \"shapedefaults\": {\"line\": {\"color\": \"#2a3f5f\"}}, \"ternary\": {\"aaxis\": {\"gridcolor\": \"white\", \"linecolor\": \"white\", \"ticks\": \"\"}, \"baxis\": {\"gridcolor\": \"white\", \"linecolor\": \"white\", \"ticks\": \"\"}, \"bgcolor\": \"#E5ECF6\", \"caxis\": {\"gridcolor\": \"white\", \"linecolor\": \"white\", \"ticks\": \"\"}}, \"title\": {\"x\": 0.05}, \"xaxis\": {\"automargin\": true, \"gridcolor\": \"white\", \"linecolor\": \"white\", \"ticks\": \"\", \"title\": {\"standoff\": 15}, \"zerolinecolor\": \"white\", \"zerolinewidth\": 2}, \"yaxis\": {\"automargin\": true, \"gridcolor\": \"white\", \"linecolor\": \"white\", \"ticks\": \"\", \"title\": {\"standoff\": 15}, \"zerolinecolor\": \"white\", \"zerolinewidth\": 2}}}, \"width\": 900, \"xaxis\": {\"gridcolor\": \"#EDC9C4\", \"linecolor\": \"black\", \"range\": [-3.3880341096413864, -1.6965818195541233], \"showgrid\": true, \"type\": \"log\"}, \"yaxis\": {\"gridcolor\": \"#EDC9C4\", \"linecolor\": \"black\", \"range\": [-3.3880341096413864, -1.6965818195541233], \"showgrid\": true, \"type\": \"log\"}},                        {\"responsive\": true}                    ).then(function(){\n",
       "                            \n",
       "var gd = document.getElementById('ed67362e-ace6-4b42-a029-1c7e2ad278f6');\n",
       "var x = new MutationObserver(function (mutations, observer) {{\n",
       "        var display = window.getComputedStyle(gd).display;\n",
       "        if (!display || display === 'none') {{\n",
       "            console.log([gd, 'removed!']);\n",
       "            Plotly.purge(gd);\n",
       "            observer.disconnect();\n",
       "        }}\n",
       "}});\n",
       "\n",
       "// Listen for the removal of the full notebook cells\n",
       "var notebookContainer = gd.closest('#notebook-container');\n",
       "if (notebookContainer) {{\n",
       "    x.observe(notebookContainer, {childList: true});\n",
       "}}\n",
       "\n",
       "// Listen for the clearing of the current output cell\n",
       "var outputEl = gd.closest('.output');\n",
       "if (outputEl) {{\n",
       "    x.observe(outputEl, {childList: true});\n",
       "}}\n",
       "\n",
       "                        })                };                });            </script>        </div>"
      ]
     },
     "metadata": {},
     "output_type": "display_data"
    }
   ],
   "source": [
    "import plotly.graph_objects as go\n",
    "import plotly.express as px\n",
    "\n",
    "fig = go.Figure()\n",
    "\n",
    "fig.add_trace(\n",
    "    go.Scatter(x=result_clean[\"WA_proportion\"], y=result_clean[\"img_proportion\"],\n",
    "              mode=\"markers+text\",text=result_clean[\"word\"],\n",
    "              textposition='bottom left',\n",
    "              marker=dict(\n",
    "                    color='#514E80',\n",
    "                    size=5,\n",
    "                    opacity=0.5,)\n",
    "              )\n",
    ")\n",
    "\n",
    "ax_arr = np.arange(0, 1.0375284158)\n",
    "fig.add_trace(go.Scatter(\n",
    "        x=ax_arr,\n",
    "        y=ax_arr,\n",
    "        mode=\"lines\",\n",
    "        line=dict(color=\"#c2c2d6\", \n",
    "                 dash='dot')\n",
    "        )\n",
    ")\n",
    "\n",
    "\n",
    "fig.update_xaxes(type=\"log\", range=[-3.3880341096413864, -1.6965818195541233],\n",
    "                 showgrid=True,linecolor='black',gridcolor='#EDC9C4')\n",
    "fig.update_yaxes(type=\"log\", range=[-3.3880341096413864, -1.6965818195541233],\n",
    "                 showgrid=True,linecolor='black',gridcolor='#EDC9C4')\n",
    "\n",
    "\n",
    "fig.update_layout(\n",
    "    plot_bgcolor=\"white\",\n",
    "    autosize=False,\n",
    "    width=900,\n",
    "    height=900\n",
    ")\n",
    "\n",
    "fig.show()"
   ]
  },
  {
   "cell_type": "code",
   "execution_count": 174,
   "metadata": {},
   "outputs": [
    {
     "name": "stdout",
     "output_type": "stream",
     "text": [
      "(-3.3880341096413864, -1.6965818195541233)\n",
      "(-3.390338188358278, -1.9068208812938081)\n"
     ]
    }
   ],
   "source": [
    "fig = px.scatter(result_clean, x=\"WA_proportion\", y=\"img_proportion\", text=\"word\", size_max=60, \n",
    "                 trendline=\"ols\",\n",
    "                 log_x=True, log_y=True)\n",
    "\n",
    "\n",
    "fig.update_traces(textposition='top center')\n",
    "\n",
    "fig.update_layout(\n",
    "    #height=800,\n",
    "    #plot_bgcolor=\"white\",\n",
    "    title_text='Comparison of Words Found in Text Messages and Images'\n",
    "   \n",
    ")\n",
    "\n",
    "full_fig = fig.full_figure_for_development()\n",
    "print(full_fig.layout.xaxis.range)\n",
    "print(full_fig.layout.yaxis.range)"
   ]
  },
  {
   "cell_type": "code",
   "execution_count": 89,
   "metadata": {},
   "outputs": [
    {
     "name": "stdout",
     "output_type": "stream",
     "text": [
      "0.614482103115227\n",
      "0.6144819326148592 4.099461467289302e-05\n"
     ]
    },
    {
     "data": {
      "image/png": "[encoded data removed]",
      "text/plain": [
       "<Figure size 432x288 with 1 Axes>"
      ]
     },
     "metadata": {
      "needs_background": "light"
     },
     "output_type": "display_data"
    }
   ],
   "source": [
    "x = result_clean[\"WA_proportion\"]\n",
    "y = result_clean[\"img_proportion\"]\n",
    "\n",
    "\n",
    "# sdx = np.std(x)\n",
    "# sdy = np.std(y)\n",
    "\n",
    "# beta = (sdy/sdx)*0.820648\n",
    "# print(beta)\n",
    "\n",
    "\n",
    "## Plot Abline\n",
    "axes = plt.gca()\n",
    "# Find the slope and intercept of the best fit line\n",
    "slope, intercept = np.polyfit(x, y, 1)\n",
    "\n",
    "print(slope,intercept)"
   ]
  },
  {
   "cell_type": "code",
   "execution_count": 57,
   "metadata": {},
   "outputs": [
    {
     "name": "stdout",
     "output_type": "stream",
     "text": [
      "0.6144819326148592 4.099461467289302e-05\n"
     ]
    },
    {
     "data": {
      "text/plain": [
       "Text(0, 0.5, 'Proportion of word in Images')"
      ]
     },
     "execution_count": 57,
     "metadata": {},
     "output_type": "execute_result"
    },
    {
     "data": {
      "image/png": "[encoded data removed]",
      "text/plain": [
       "<Figure size 864x864 with 1 Axes>"
      ]
     },
     "metadata": {
      "needs_background": "light"
     },
     "output_type": "display_data"
    }
   ],
   "source": [
    "x = result_clean[\"WA_proportion\"]\n",
    "y = result_clean[\"img_proportion\"]\n",
    "fig = plt.figure(figsize=(12, 12))\n",
    "\n",
    "# Plot the best fit line over the actual values\n",
    "plt.scatter(x=\"WA_proportion\", y=\"img_proportion\", data=result_clean)\n",
    "plt.xlim([0, 0.018])\n",
    "plt.ylim(0, 0.018)\n",
    "\n",
    "\n",
    "## Plot Abline\n",
    "axes = plt.gca()\n",
    "# Find the slope and intercept of the best fit line\n",
    "slope, intercept = np.polyfit(x, y, 1)\n",
    "print(slope,intercept)\n",
    "\n",
    "# Create a list of values in the best fit line\n",
    "abline_values = [slope * i + intercept for i in x]\n",
    "\n",
    "plt.plot(x, abline_values, '--', color=\"gray\")\n",
    "\n",
    "plt.xlabel(\"Proportion of word in text Messages\")\n",
    "plt.ylabel(\"Proportion of word in Images\")\n"
   ]
  },
  {
   "cell_type": "code",
   "execution_count": 244,
   "metadata": {},
   "outputs": [
    {
     "data": {
      "text/plain": [
       "[(0, 0.018)]"
      ]
     },
     "execution_count": 244,
     "metadata": {},
     "output_type": "execute_result"
    },
    {
     "data": {
      "image/png": "[encoded data removed]",
      "text/plain": [
       "<Figure size 864x864 with 1 Axes>"
      ]
     },
     "metadata": {},
     "output_type": "display_data"
    }
   ],
   "source": [
    "import seaborn as sns\n",
    "fig = plt.figure(figsize=(12, 12))\n",
    "\n",
    "sns.set_theme(style=\"white\")\n",
    "\n",
    "cmap =  sns.cubehelix_palette(as_cmap=True)\n",
    "\n",
    "splt = sns.scatterplot(x=\"WA_proportion\", y=\"img_proportion\", data=result_clean, \n",
    "                #hue='prop_diff', \n",
    "                sizes=(40, 400), alpha=.5, palette=\"muted\",\n",
    "                cmap=cmap)\n",
    "\n",
    "splt.set(ylim=(0, 0.018))\n",
    "splt.set(xlim=(0, 0.018))"
   ]
  }
 ],
 "metadata": {
  "kernelspec": {
   "display_name": "Python 3",
   "language": "python",
   "name": "python3"
  },
  "language_info": {
   "codemirror_mode": {
    "name": "ipython",
    "version": 3
   },
   "file_extension": ".py",
   "mimetype": "text/x-python",
   "name": "python",
   "nbconvert_exporter": "python",
   "pygments_lexer": "ipython3",
   "version": "3.8.6"
  }
 },
 "nbformat": 4,
 "nbformat_minor": 4
}
