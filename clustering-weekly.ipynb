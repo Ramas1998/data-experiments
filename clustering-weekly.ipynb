{
 "cells": [
  {
   "cell_type": "code",
   "execution_count": 13,
   "metadata": {},
   "outputs": [],
   "source": [
    "import os\n",
    "import sys\n",
    "sys.path.append('../../sharechat-scraper') # to access env variables\n",
    "import pymongo\n",
    "from pymongo import MongoClient\n",
    "from s3_mongo_helper import initialize_mongo\n",
    "from db_config import sharechat_db_config, simplesearch_db_config\n",
    "import pandas as pd\n",
    "import numpy as np\n",
    "from datetime import date, datetime, timedelta\n",
    "import logging\n",
    "from bson import ObjectId"
   ]
  },
  {
   "cell_type": "code",
   "execution_count": 3,
   "metadata": {},
   "outputs": [],
   "source": [
    "source_coll = initialize_mongo(sharechat_db_config)"
   ]
  },
  {
   "cell_type": "code",
   "execution_count": null,
   "metadata": {},
   "outputs": [],
   "source": [
    "start = datetime(2020, 10, 5)\n",
    "end = datetime(2020, 10, 12)\n",
    "\n",
    "print(source_coll.count_documents({\"scraped_date\": {'$gte':start,'$lt':end},\n",
    "                    \"media_type\": {\"$in\": [\"image\", \"video\"]}}))\n",
    "\n",
    "cursor = source_coll.find({\"scraped_date\": {'$gte':start,'$lt':end},\n",
    "                    \"media_type\": {\"$in\": [\"image\", \"video\"]}})"
   ]
  },
  {
   "cell_type": "code",
   "execution_count": null,
   "metadata": {},
   "outputs": [],
   "source": [
    "ss_coll = initialize_mongo(simplesearch_db_config)"
   ]
  },
  {
   "cell_type": "code",
   "execution_count": null,
   "metadata": {},
   "outputs": [],
   "source": [
    "data = {}\n",
    "# For each post within the date range in the source db \n",
    "for i in cursor:\n",
    "    try:\n",
    "        # Get the corresponding media hash from the simplesearch db\n",
    "        ss_hash = ss_coll.find_one({\"source_id\": str(i[\"_id\"])})[\"hash\"]\n",
    "        data[str(i[\"_id\"])] = ss_hash\n",
    "    except Exception:\n",
    "        print(logging.traceback.format_exc())\n",
    "        pass"
   ]
  },
  {
   "cell_type": "code",
   "execution_count": null,
   "metadata": {},
   "outputs": [],
   "source": [
    "len(data)"
   ]
  },
  {
   "cell_type": "code",
   "execution_count": null,
   "metadata": {},
   "outputs": [],
   "source": [
    "# Transform data and cluster identical media hashes\n",
    "df = pd.DataFrame.from_dict(data, orient=\"index\").reset_index().rename(columns={\"index\":\"source_id\", 0:\"hash\"})\n",
    "df[\"count\"] = \"\"\n",
    "grouped = df.groupby(by=\"hash\").agg({\"count\":\"size\", \"source_id\": list})\n",
    "sorted = grouped.sort_values(\"count\", ascending=False)\n",
    "sorted.reset_index(inplace=True)\n",
    "# Narrow down to clusters that contain atleast two posts\n",
    "clusters = sorted[sorted[\"count\"] >= 2]\n",
    "clusters.reset_index(inplace=True, drop = True)\n",
    "clusters"
   ]
  },
  {
   "cell_type": "code",
   "execution_count": 100,
   "metadata": {},
   "outputs": [],
   "source": [
    "# Define function to return media links of clustered posts\n",
    "def get_clustered_posts(ids):\n",
    "    links = []\n",
    "    for i in ids:\n",
    "        links.append(source_coll.find_one({\"_id\":ObjectId(i)})[\"s3_url\"])\n",
    "    return links"
   ]
  },
  {
   "cell_type": "code",
   "execution_count": null,
   "metadata": {},
   "outputs": [],
   "source": [
    "clusters[\"s3_url\"] = clusters[\"source_id\"].map(get_clustered_posts)"
   ]
  },
  {
   "cell_type": "code",
   "execution_count": null,
   "metadata": {},
   "outputs": [],
   "source": []
  }
 ],
 "metadata": {
  "kernelspec": {
   "display_name": "Python 3",
   "language": "python",
   "name": "python3"
  },
  "language_info": {
   "codemirror_mode": {
    "name": "ipython",
    "version": 3
   },
   "file_extension": ".py",
   "mimetype": "text/x-python",
   "name": "python",
   "nbconvert_exporter": "python",
   "pygments_lexer": "ipython3",
   "version": "3.8.3"
  }
 },
 "nbformat": 4,
 "nbformat_minor": 4
}
